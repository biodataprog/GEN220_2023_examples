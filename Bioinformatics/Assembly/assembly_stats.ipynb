{
 "cells": [
  {
   "cell_type": "code",
   "execution_count": 2,
   "id": "cef21e2d-a292-4143-be00-3bfe82a47211",
   "metadata": {},
   "outputs": [
    {
     "name": "stdout",
     "output_type": "stream",
     "text": [
      "124 sequences; total len is 4575025\n"
     ]
    }
   ],
   "source": [
    "from Bio import SeqIO\n",
    "genome=\"spades_out/scaffolds.fasta\"\n",
    "num_seqs = 0\n",
    "total_length = 0\n",
    "for seq_record in SeqIO.parse(genome, \"fasta\"):\n",
    "    # print(seq_record.id)\n",
    "    num_seqs += 1\n",
    "    total_length += len(seq_record)\n",
    "\n",
    "print(f'{num_seqs} sequences; total len is {total_length}')"
   ]
  },
  {
   "cell_type": "code",
   "execution_count": 12,
   "id": "c455f12e-fbfd-4203-bdaa-b8bca671380c",
   "metadata": {},
   "outputs": [
    {
     "name": "stdout",
     "output_type": "stream",
     "text": [
      "mean gene len is 943.8473867595819, total is 4305\n",
      "there are 108 kinase containing descriptions\n"
     ]
    }
   ],
   "source": [
    "gff = \"Ecoli_K-12.prokka/PROKKA_11292023.gff\"\n",
    "import csv\n",
    "with open(gff,\"r\") as fh:    \n",
    "    reader = csv.reader(fh,delimiter=\"\\t\")\n",
    "    gene_count = 0\n",
    "    gene_len = []\n",
    "    count_kinases = 0\n",
    "    for row in reader:\n",
    "        if row[0].startswith(\"##FASTA\"):\n",
    "            break\n",
    "        if row[0].startswith('#'):\n",
    "            continue\n",
    "#        print(row)\n",
    "        if row[2] == \"CDS\":\n",
    "            gene_len.append(int(row[4]) - int(row[3]))\n",
    "        note = row[8]\n",
    "        if \"kinase\" in note:\n",
    "            #print(note)\n",
    "            count_kinases +=1 \n",
    "    print(f'mean gene len is {sum(gene_len)/len(gene_len)}, total is {len(gene_len)}')\n",
    "    print(f'there are {count_kinases} kinase containing descriptions')"
   ]
  },
  {
   "cell_type": "code",
   "execution_count": null,
   "id": "8b7ee7c3-4c9d-4c89-9e10-bff91f664e04",
   "metadata": {},
   "outputs": [],
   "source": []
  }
 ],
 "metadata": {
  "kernelspec": {
   "display_name": "Python 3 (ipykernel)",
   "language": "python",
   "name": "python3"
  },
  "language_info": {
   "codemirror_mode": {
    "name": "ipython",
    "version": 3
   },
   "file_extension": ".py",
   "mimetype": "text/x-python",
   "name": "python",
   "nbconvert_exporter": "python",
   "pygments_lexer": "ipython3",
   "version": "3.11.6"
  }
 },
 "nbformat": 4,
 "nbformat_minor": 5
}
