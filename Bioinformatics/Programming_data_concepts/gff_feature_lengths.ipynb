{
 "cells": [
  {
   "cell_type": "code",
   "execution_count": 21,
   "id": "bd42382e-d1f1-4986-bffe-71b12726b046",
   "metadata": {},
   "outputs": [
    {
     "name": "stdout",
     "output_type": "stream",
     "text": [
      "There are 55986 gene with an avg length of 2964.1229771728645\n",
      "There are 66338 mRNA with an avg length of 3190.0947722270794\n",
      "There are 312495 exon with an avg length of 361.6187330997296\n",
      "There are 44747 five_prime_UTR with an avg length of 188.88991440766978\n",
      "There are 292026 CDS with an avg length of 303.85780718155235\n",
      "There are 42196 three_prime_UTR with an avg length of 373.3032277941037\n",
      "There are 55986 genes with an avg length of 2964.1229771728645\n"
     ]
    }
   ],
   "source": [
    "import csv\n",
    "infile = \"rice_all_annotation.gff3\"\n",
    "\n",
    "with open(infile,\"r\") as fh:\n",
    "    i=0\n",
    "    features = {}\n",
    "    gene_features = []\n",
    "    csvin = csv.reader(fh,delimiter=\"\\t\")\n",
    "    for line in csvin:\n",
    "        if len(line) < 9:\n",
    "            continue\n",
    "#        if i > 500:\n",
    "#            break\n",
    "        start = int(line[3])\n",
    "        end   = int(line[4])        \n",
    "#        print(end - start)\n",
    "        feature_length = end - start\n",
    "        if line[2] == \"gene\":\n",
    "            gene_features.append(feature_length)\n",
    "        if line[2] not in features:\n",
    "            features[line[2]] = []\n",
    "        features[line[2]].append(feature_length)\n",
    "#        print(line)\n",
    "        i += 1\n",
    "    #print(features)\n",
    "    for ftype in features:\n",
    "        count = len(features[ftype])\n",
    "        avglen = sum(features[ftype]) / count\n",
    "        print(f'There are {count} {ftype} with an avg length of {avglen}')        \n",
    "    print(f'There are {len(gene_features)} genes with an avg length of {sum(gene_features) / len(gene_features)}')\n"
   ]
  },
  {
   "cell_type": "code",
   "execution_count": null,
   "id": "e4d705d9-0ced-4cd1-8b29-bffe7a21e2d1",
   "metadata": {},
   "outputs": [],
   "source": []
  }
 ],
 "metadata": {
  "kernelspec": {
   "display_name": "Python 3 (ipykernel)",
   "language": "python",
   "name": "python3"
  },
  "language_info": {
   "codemirror_mode": {
    "name": "ipython",
    "version": 3
   },
   "file_extension": ".py",
   "mimetype": "text/x-python",
   "name": "python",
   "nbconvert_exporter": "python",
   "pygments_lexer": "ipython3",
   "version": "3.11.6"
  }
 },
 "nbformat": 4,
 "nbformat_minor": 5
}
