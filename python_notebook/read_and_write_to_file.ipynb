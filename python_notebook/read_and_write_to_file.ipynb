{
 "cells": [
  {
   "cell_type": "markdown",
   "metadata": {},
   "source": [
    "# Read and write to file\n",
    "\n",
    "In the section, we'll cover:\n",
    "1. How to read and write a file with standard library - `open()`, `read()` and `write()`.\n",
    "2. How to read and write a file in csv/tsv format - built-in `csv` module.\n",
    "3. How to use `pandas` to process csv/tsv file - `pd.read_csv()`, `pd.DataFrame.to_csv()`."
   ]
  },
  {
   "cell_type": "markdown",
   "metadata": {
    "tags": []
   },
   "source": [
    "## Operate files with standard library\n",
    "`open()`, `read()` and `write()`"
   ]
  },
  {
   "cell_type": "markdown",
   "metadata": {},
   "source": [
    "In Python, a **file handler** refers to a connection or communication link between a program and a file on the disk.\n",
    "The following example use the built-in `open()` function to open a file as a file handler and assign it to the variable `f`.\n",
    "\n",
    "By default, the file handler is open in **read-only** mode. But it's a good practice to always specify the access mode in the second argument."
   ]
  },
  {
   "cell_type": "markdown",
   "metadata": {},
   "source": [
    "### Read\n",
    "\n",
    "The read mode (\"r\", \"r+\") try to open an existing file and will cast an error if the file does not exist.\n",
    "- Read Only (\"r\")\n",
    "- Read and Write (\"r+\") : Any new content would partially overwrite the existing data."
   ]
  },
  {
   "cell_type": "code",
   "execution_count": 94,
   "metadata": {},
   "outputs": [],
   "source": [
    "f = open(\"fruits.txt\", \"r\")"
   ]
  },
  {
   "cell_type": "markdown",
   "metadata": {},
   "source": [
    "After the file handler object is created, now we can use `f.read()` function to read from the file.\n",
    "\n",
    "At the beginning, the pointer is positioned at the beginning of the file."
   ]
  },
  {
   "cell_type": "code",
   "execution_count": 95,
   "metadata": {},
   "outputs": [
    {
     "name": "stdout",
     "output_type": "stream",
     "text": [
      "apple\n",
      "banana\n",
      "coconut\n",
      "\n"
     ]
    }
   ],
   "source": [
    "print(f.read())"
   ]
  },
  {
   "cell_type": "markdown",
   "metadata": {},
   "source": [
    "Once the `f.read()` run, the pointer will positioned at the end of the file.\n",
    "If you run `f.read()` again nothing will be printed."
   ]
  },
  {
   "cell_type": "code",
   "execution_count": 47,
   "metadata": {},
   "outputs": [
    {
     "data": {
      "text/plain": [
       "''"
      ]
     },
     "execution_count": 47,
     "metadata": {},
     "output_type": "execute_result"
    }
   ],
   "source": [
    "f.read()"
   ]
  },
  {
   "cell_type": "markdown",
   "metadata": {},
   "source": [
    "if you want to move the pointer back, you can use `f.seek(0)` where 0 indicate the head of the file (just like index)."
   ]
  },
  {
   "cell_type": "code",
   "execution_count": 48,
   "metadata": {},
   "outputs": [
    {
     "data": {
      "text/plain": [
       "0"
      ]
     },
     "execution_count": 48,
     "metadata": {},
     "output_type": "execute_result"
    }
   ],
   "source": [
    "f.seek(0)"
   ]
  },
  {
   "cell_type": "markdown",
   "metadata": {},
   "source": [
    "Let's read the content again. Note that without a `print()` function it will not split lines for you. The content is actually a string with some `\\n`, which indicate the newline character."
   ]
  },
  {
   "cell_type": "code",
   "execution_count": 49,
   "metadata": {},
   "outputs": [
    {
     "data": {
      "text/plain": [
       "'apple\\nbanana\\ncoconut\\n'"
      ]
     },
     "execution_count": 49,
     "metadata": {},
     "output_type": "execute_result"
    }
   ],
   "source": [
    "f.read()"
   ]
  },
  {
   "cell_type": "markdown",
   "metadata": {},
   "source": [
    "After the you done with the file. It's a good practice to use `f.close()` to close the file to prevent some potential issues."
   ]
  },
  {
   "cell_type": "code",
   "execution_count": 50,
   "metadata": {},
   "outputs": [],
   "source": [
    "f.close()"
   ]
  },
  {
   "cell_type": "markdown",
   "metadata": {},
   "source": [
    "If you try to operate an already closed file. An error would occurred."
   ]
  },
  {
   "cell_type": "code",
   "execution_count": 51,
   "metadata": {},
   "outputs": [
    {
     "ename": "ValueError",
     "evalue": "I/O operation on closed file.",
     "output_type": "error",
     "traceback": [
      "\u001b[0;31m---------------------------------------------------------------------------\u001b[0m",
      "\u001b[0;31mValueError\u001b[0m                                Traceback (most recent call last)",
      "\u001b[0;32m/tmp/ipykernel_884623/3059900045.py\u001b[0m in \u001b[0;36m<module>\u001b[0;34m\u001b[0m\n\u001b[0;32m----> 1\u001b[0;31m \u001b[0mf\u001b[0m\u001b[0;34m.\u001b[0m\u001b[0mread\u001b[0m\u001b[0;34m(\u001b[0m\u001b[0;34m)\u001b[0m\u001b[0;34m\u001b[0m\u001b[0;34m\u001b[0m\u001b[0m\n\u001b[0m",
      "\u001b[0;31mValueError\u001b[0m: I/O operation on closed file."
     ]
    }
   ],
   "source": [
    "f.read()"
   ]
  },
  {
   "cell_type": "markdown",
   "metadata": {},
   "source": [
    "There is an alternative way to manage the file handler - you can use `with open() as f`\n",
    "\n",
    "It do exactly the same thing as `f = open()` but the file handler `f` in `with open` will be closed immediately after the `with` statement.\n",
    "This format is recommended for opening a file if you don't need to access the file handler in many different part in your scripts."
   ]
  },
  {
   "cell_type": "code",
   "execution_count": 52,
   "metadata": {},
   "outputs": [
    {
     "name": "stdout",
     "output_type": "stream",
     "text": [
      "apple\n",
      "banana\n",
      "coconut\n",
      "\n"
     ]
    }
   ],
   "source": [
    "with open(\"fruits.txt\", \"r\") as f:\n",
    "    print(f.read())"
   ]
  },
  {
   "cell_type": "code",
   "execution_count": 53,
   "metadata": {},
   "outputs": [
    {
     "ename": "ValueError",
     "evalue": "I/O operation on closed file.",
     "output_type": "error",
     "traceback": [
      "\u001b[0;31m---------------------------------------------------------------------------\u001b[0m",
      "\u001b[0;31mValueError\u001b[0m                                Traceback (most recent call last)",
      "\u001b[0;32m/tmp/ipykernel_884623/3059900045.py\u001b[0m in \u001b[0;36m<module>\u001b[0;34m\u001b[0m\n\u001b[0;32m----> 1\u001b[0;31m \u001b[0mf\u001b[0m\u001b[0;34m.\u001b[0m\u001b[0mread\u001b[0m\u001b[0;34m(\u001b[0m\u001b[0;34m)\u001b[0m\u001b[0;34m\u001b[0m\u001b[0;34m\u001b[0m\u001b[0m\n\u001b[0m",
      "\u001b[0;31mValueError\u001b[0m: I/O operation on closed file."
     ]
    }
   ],
   "source": [
    "f.read()"
   ]
  },
  {
   "cell_type": "markdown",
   "metadata": {},
   "source": [
    "For the usage of \"r+\", we will create a new file and demonstrate below."
   ]
  },
  {
   "cell_type": "markdown",
   "metadata": {},
   "source": [
    "### Write\n",
    "\n",
    "The write mode (\"w\", \"w+\") totally erase the existing file and will create a new file if the file does not exist.\n",
    "- Write Only (\"w\")\n",
    "- Write and Read (\"w+\") : you can move the pointer and read the content you just write to the file."
   ]
  },
  {
   "cell_type": "code",
   "execution_count": 64,
   "metadata": {},
   "outputs": [],
   "source": [
    "with open(\"animals.txt\", \"w\") as f:\n",
    "    f.write(\"elephant\")"
   ]
  },
  {
   "cell_type": "code",
   "execution_count": 65,
   "metadata": {},
   "outputs": [
    {
     "name": "stdout",
     "output_type": "stream",
     "text": [
      "elephant\n"
     ]
    }
   ],
   "source": [
    "with open(\"animals.txt\", \"r\") as f:\n",
    "    print(f.read())"
   ]
  },
  {
   "cell_type": "markdown",
   "metadata": {},
   "source": [
    "Now I just simply open the file with write mode without doing anything."
   ]
  },
  {
   "cell_type": "code",
   "execution_count": 66,
   "metadata": {},
   "outputs": [],
   "source": [
    "with open(\"animals.txt\", \"w\") as f:\n",
    "    pass"
   ]
  },
  {
   "cell_type": "markdown",
   "metadata": {},
   "source": [
    "All the contents are gone!"
   ]
  },
  {
   "cell_type": "code",
   "execution_count": 67,
   "metadata": {},
   "outputs": [
    {
     "name": "stdout",
     "output_type": "stream",
     "text": [
      "\n"
     ]
    }
   ],
   "source": [
    "with open(\"animals.txt\", \"r\") as f:\n",
    "    print(f.read())"
   ]
  },
  {
   "cell_type": "markdown",
   "metadata": {},
   "source": [
    "If you use the \"w+\" mode to open the file, you are allowed read the content after you move the pointer."
   ]
  },
  {
   "cell_type": "code",
   "execution_count": 88,
   "metadata": {},
   "outputs": [
    {
     "name": "stdout",
     "output_type": "stream",
     "text": [
      "elephant\n",
      "zebra\n",
      "\n"
     ]
    }
   ],
   "source": [
    "with open(\"animals.txt\", \"w+\") as f:\n",
    "    f.write(\"elephant\\n\")\n",
    "    f.write(\"zebra\\n\")\n",
    "    f.seek(0)\n",
    "    print(f.read())"
   ]
  },
  {
   "cell_type": "markdown",
   "metadata": {},
   "source": [
    "#### Problem - difference between \"r+\" and \"w+\"\n",
    "\n",
    "We just demonstrate that both \"w\" and \"w+\" will totally erase the existing data.\n",
    "Can you try to use \"r+\" to open the file \"animals.txt\" and write \"lion\" to it?\n",
    "\n",
    "You may also move the pointer to the head and read the file again to see how it works."
   ]
  },
  {
   "cell_type": "code",
   "execution_count": 89,
   "metadata": {},
   "outputs": [],
   "source": [
    "# Please write and test your codes in this cell\n"
   ]
  },
  {
   "cell_type": "code",
   "execution_count": 90,
   "metadata": {},
   "outputs": [
    {
     "name": "stdout",
     "output_type": "stream",
     "text": [
      "lionhant\n",
      "zebra\n",
      "\n"
     ]
    }
   ],
   "source": [
    "with open(\"animals.txt\", \"r+\") as f:\n",
    "    f.write(\"lion\")\n",
    "    f.seek(0)\n",
    "    print(f.read())"
   ]
  },
  {
   "cell_type": "markdown",
   "metadata": {},
   "source": [
    "### Append\n",
    "\n",
    "The append mode (\"a\", \"a+\") create a new file if the file does not exist. If opening an existing file, it move the pointer to the end of the file.\n",
    "\n",
    "- Append Only (\"a\")\n",
    "- Append and Read (\"a+\"): just like \"w+\", let you read the content you just write."
   ]
  },
  {
   "cell_type": "code",
   "execution_count": 91,
   "metadata": {},
   "outputs": [
    {
     "name": "stdout",
     "output_type": "stream",
     "text": [
      "lionhant\n",
      "zebra\n",
      "donkey\n",
      "\n"
     ]
    }
   ],
   "source": [
    "with open(\"animals.txt\", \"a+\") as f:\n",
    "    f.write(\"donkey\\n\")\n",
    "    f.seek(0)\n",
    "    print(f.read())"
   ]
  },
  {
   "cell_type": "markdown",
   "metadata": {},
   "source": [
    "In my opinion, these 3 modes can cover 90% of your needs.\n",
    "- Use \"r\" if you only need to read.\n",
    "- Use \"w\" if you need to write to a new file.\n",
    "- Use \"a\" if you want to append to an existing file."
   ]
  },
  {
   "cell_type": "markdown",
   "metadata": {},
   "source": [
    "## Work on tab-delimited or comma-delimited files (tsv, csv)\n",
    "\n",
    "tsv and csv are very common and popular format for storing data. They can be transformed into a dataframe or table which can be modified easily.\n",
    "Python has a 3rd-party library called `Pandas` which provides a lot of different functions for dataframe manipulation.\n",
    "There is also another programming language \"R\" that basically born for dataframe processing.\n",
    "\n",
    "Here we'll try to open tsv/csv file in Python default library, built-in `csv` module and Pandas."
   ]
  },
  {
   "cell_type": "markdown",
   "metadata": {},
   "source": [
    "### Use `f.read()` to open a tsv file\n",
    "\n",
    "You can definately open a tsv file with Python default function `f.read()` we just learned."
   ]
  },
  {
   "cell_type": "code",
   "execution_count": 156,
   "metadata": {},
   "outputs": [
    {
     "name": "stdout",
     "output_type": "stream",
     "text": [
      "Name\tGender\tAge\n",
      "Alice\tF\t20\n",
      "Bob\tM\t40\n",
      "Charlie\tM\t32\n",
      "Dave\tM\t31\n",
      "Eve\tF\t25\n",
      "Frank\tM\t20\n",
      "Grace\tF\t40\n",
      "\n"
     ]
    }
   ],
   "source": [
    "with open(\"age.tsv\", \"r\") as f:\n",
    "    print(f.read())"
   ]
  },
  {
   "cell_type": "markdown",
   "metadata": {},
   "source": [
    "If we change a way to open it, you'll find out that the content is actually read as a very long string with some \\t and \\n.\n",
    "\n",
    "The \"\\t\" in the string are tabs and \"\\n\" are newline characters."
   ]
  },
  {
   "cell_type": "code",
   "execution_count": 159,
   "metadata": {},
   "outputs": [
    {
     "data": {
      "text/plain": [
       "'Name\\tGender\\tAge\\nAlice\\tF\\t20\\nBob\\tM\\t40\\nCharlie\\tM\\t32\\n'"
      ]
     },
     "execution_count": 159,
     "metadata": {},
     "output_type": "execute_result"
    }
   ],
   "source": [
    "f = open(\"age.tsv\", \"r\")\n",
    "f.read()"
   ]
  },
  {
   "cell_type": "markdown",
   "metadata": {},
   "source": [
    "Let's try to use the string function `split()` to parse strings into list."
   ]
  },
  {
   "cell_type": "code",
   "execution_count": 160,
   "metadata": {},
   "outputs": [
    {
     "data": {
      "text/plain": [
       "['Name\\tGender\\tAge', 'Alice\\tF\\t20', 'Bob\\tM\\t40', 'Charlie\\tM\\t32', '']"
      ]
     },
     "execution_count": 160,
     "metadata": {},
     "output_type": "execute_result"
    }
   ],
   "source": [
    "f.seek(0)\n",
    "f.read().split(\"\\n\")"
   ]
  },
  {
   "cell_type": "markdown",
   "metadata": {},
   "source": [
    "We successfully split the string into 4 items and store them in a list. However, you might notice there is an extra empty item at the end. Check the previous output, you'll find out that empty item is actually caused by an extra newline character at the end.\n",
    "\n",
    "We can slightly modify our codes - first use a `strip()` function to remove the extra \"\\n\" at the end and use the `split()` function to split them into items."
   ]
  },
  {
   "cell_type": "code",
   "execution_count": 165,
   "metadata": {},
   "outputs": [
    {
     "data": {
      "text/plain": [
       "'Name\\tGender\\tAge\\nAlice\\tF\\t20\\nBob\\tM\\t40\\nCharlie\\tM\\t32'"
      ]
     },
     "execution_count": 165,
     "metadata": {},
     "output_type": "execute_result"
    }
   ],
   "source": [
    "f.seek(0)\n",
    "stripped_string = f.read().strip(\"\\n\")\n",
    "stripped_string"
   ]
  },
  {
   "cell_type": "code",
   "execution_count": 166,
   "metadata": {},
   "outputs": [
    {
     "data": {
      "text/plain": [
       "['Name\\tGender\\tAge', 'Alice\\tF\\t20', 'Bob\\tM\\t40', 'Charlie\\tM\\t32']"
      ]
     },
     "execution_count": 166,
     "metadata": {},
     "output_type": "execute_result"
    }
   ],
   "source": [
    "stripped_string.split(\"\\n\")"
   ]
  },
  {
   "cell_type": "markdown",
   "metadata": {},
   "source": [
    "The previous codes can be simplifed into a one-liner."
   ]
  },
  {
   "cell_type": "code",
   "execution_count": 167,
   "metadata": {},
   "outputs": [
    {
     "data": {
      "text/plain": [
       "['Name\\tGender\\tAge', 'Alice\\tF\\t20', 'Bob\\tM\\t40', 'Charlie\\tM\\t32']"
      ]
     },
     "execution_count": 167,
     "metadata": {},
     "output_type": "execute_result"
    }
   ],
   "source": [
    "f.seek(0)\n",
    "f.read().strip(\"\\n\").split(\"\\n\")"
   ]
  },
  {
   "cell_type": "markdown",
   "metadata": {},
   "source": [
    "Next, we still need to deal with the tab character \"\\t\".\n",
    "\n",
    "We can use a `for` loop to iterate through these 4 items and split them again by \"\\t\" - E.g. the second item will then become [\"Alice\", \"F\", 20].\n",
    "\n",
    "And we can also create an empty list beforehand and save the list we got in each round by `append()`."
   ]
  },
  {
   "cell_type": "code",
   "execution_count": 169,
   "metadata": {},
   "outputs": [],
   "source": [
    "f.seek(0)\n",
    "\n",
    "age_list = []\n",
    "for data_string in f.read().strip(\"\\n\").split(\"\\n\"):\n",
    "    data_list = (data_string.split(\"\\t\"))\n",
    "    age_list.append(data_list)"
   ]
  },
  {
   "cell_type": "code",
   "execution_count": 170,
   "metadata": {},
   "outputs": [
    {
     "data": {
      "text/plain": [
       "[['Name', 'Gender', 'Age'],\n",
       " ['Alice', 'F', '20'],\n",
       " ['Bob', 'M', '40'],\n",
       " ['Charlie', 'M', '32']]"
      ]
     },
     "execution_count": 170,
     "metadata": {},
     "output_type": "execute_result"
    }
   ],
   "source": [
    "age_list"
   ]
  },
  {
   "cell_type": "markdown",
   "metadata": {},
   "source": [
    "After that you can manipulate the list as you wish!"
   ]
  },
  {
   "cell_type": "code",
   "execution_count": 172,
   "metadata": {},
   "outputs": [
    {
     "data": {
      "text/plain": [
       "['Charlie', 'M', '32']"
      ]
     },
     "execution_count": 172,
     "metadata": {},
     "output_type": "execute_result"
    }
   ],
   "source": [
    "age_list[3]"
   ]
  },
  {
   "cell_type": "markdown",
   "metadata": {},
   "source": [
    "#### Problem - get rid of the header\n",
    "\n",
    "If you don't want the header [\"Name\", \"Gender\", \"Age\"] being stored in the age_list. Can you slightly modify the `for` loop to do that?\n",
    "\n",
    "Hint: You can use a combo of `enumerate` and `continue`."
   ]
  },
  {
   "cell_type": "code",
   "execution_count": 174,
   "metadata": {},
   "outputs": [],
   "source": [
    "# Please write and test your codes after the f.seek(0) in order to read the data from the beginning of the file.\n",
    "f.seek(0)\n",
    "age_list = []\n"
   ]
  },
  {
   "cell_type": "code",
   "execution_count": 175,
   "metadata": {},
   "outputs": [
    {
     "data": {
      "text/plain": [
       "[]"
      ]
     },
     "execution_count": 175,
     "metadata": {},
     "output_type": "execute_result"
    }
   ],
   "source": [
    "# Check the results\n",
    "age_list"
   ]
  },
  {
   "cell_type": "markdown",
   "metadata": {},
   "source": [
    "#### Problem - Load data into dictionary\n",
    "\n",
    "We learned how to save data into dictionary by `d[new_key] = new_value`. Can you modify the `for` loop to save the data to a dictionary instead of a list?"
   ]
  },
  {
   "cell_type": "code",
   "execution_count": 176,
   "metadata": {},
   "outputs": [],
   "source": [
    "# Please write and test your codes after the f.seek(0) in order to read the data from the beginning of the file.\n",
    "f.seek(0)\n",
    "age_dict = {}\n",
    "\n"
   ]
  },
  {
   "cell_type": "code",
   "execution_count": 177,
   "metadata": {},
   "outputs": [
    {
     "data": {
      "text/plain": [
       "{}"
      ]
     },
     "execution_count": 177,
     "metadata": {},
     "output_type": "execute_result"
    }
   ],
   "source": [
    "# Check the results\n",
    "age_dict"
   ]
  },
  {
   "cell_type": "code",
   "execution_count": 179,
   "metadata": {},
   "outputs": [],
   "source": [
    "# Lastly, remember to close the file!\n",
    "f.close()"
   ]
  },
  {
   "cell_type": "markdown",
   "metadata": {
    "tags": []
   },
   "source": [
    "### Read with `csv` module\n",
    "\n",
    "Besides using the default library, Python also provide a convenient extension called `csv` module for csv/tsv processing.\n",
    "\n",
    "However, the `csv` library is not preloaded so we have to use `import` function to load the library."
   ]
  },
  {
   "cell_type": "code",
   "execution_count": 180,
   "metadata": {},
   "outputs": [],
   "source": [
    "import csv"
   ]
  },
  {
   "cell_type": "markdown",
   "metadata": {},
   "source": [
    "We can start to use the `csv` library.\n",
    "\n",
    "Loading data with csv library is quite similar to the way we do with default library. You still need to use `open()` function to create a file handler first.\n",
    "\n",
    "Next, we can use the `csv.reader()` to read the data. We also combine the `enumerate()` codes to skip the header."
   ]
  },
  {
   "cell_type": "code",
   "execution_count": 183,
   "metadata": {},
   "outputs": [
    {
     "name": "stdout",
     "output_type": "stream",
     "text": [
      "['Alice\\tF\\t20']\n",
      "['Bob\\tM\\t40']\n",
      "['Charlie\\tM\\t32']\n"
     ]
    }
   ],
   "source": [
    "with open(\"age.tsv\", \"r\") as f:\n",
    "    reader = csv.reader(f)\n",
    "    for idx, line in enumerate(reader):\n",
    "        if idx != 0:\n",
    "            print(line)"
   ]
  },
  {
   "cell_type": "markdown",
   "metadata": {},
   "source": [
    "The format is weird!\n",
    "\n",
    "That is because by default the `csv.reader` use the comma (\",\") as delimiter. If you want to use tab (\"\\t\") you can specify it with `delimiter=\"\\t\"`"
   ]
  },
  {
   "cell_type": "code",
   "execution_count": 184,
   "metadata": {},
   "outputs": [
    {
     "name": "stdout",
     "output_type": "stream",
     "text": [
      "['Alice', 'F', '20']\n",
      "['Bob', 'M', '40']\n",
      "['Charlie', 'M', '32']\n"
     ]
    }
   ],
   "source": [
    "with open(\"age.tsv\", \"r\") as f:\n",
    "    reader = csv.reader(f, delimiter=\"\\t\")\n",
    "    for idx, line in enumerate(reader):\n",
    "        if not idx == 0:\n",
    "            print(line)"
   ]
  },
  {
   "cell_type": "markdown",
   "metadata": {},
   "source": [
    "`csv` module also provide a class `csv.writer()` to help writing to file.\n",
    "\n",
    "In the example below, we load the file to `csv.writer()` and use its function `writerow()` to write content to the file. "
   ]
  },
  {
   "cell_type": "code",
   "execution_count": 189,
   "metadata": {},
   "outputs": [
    {
     "name": "stdout",
     "output_type": "stream",
     "text": [
      "Name\tGender\tAge\n",
      "Alice\tF\t20\n",
      "Bob\tM\t40\n",
      "Charlie\tM\t32\n",
      "Dave\tM\t31\n",
      "\n"
     ]
    }
   ],
   "source": [
    "with open(\"age.tsv\", \"a+\") as f:\n",
    "    writer = csv.writer(f, delimiter=\"\\t\")\n",
    "    writer.writerow([\"Dave\", \"M\", \"31\"])\n",
    "\n",
    "    f.seek(0)\n",
    "    print(f.read())"
   ]
  },
  {
   "cell_type": "markdown",
   "metadata": {},
   "source": [
    "#### Problem - write more data\n",
    "\n",
    "Here we have a list that contains 3 additional data. Can you figure out a way to write them to the file \"age.tsv\"?"
   ]
  },
  {
   "cell_type": "code",
   "execution_count": 192,
   "metadata": {},
   "outputs": [],
   "source": [
    "# Please write and test your codes in this cell\n",
    "\n",
    "additional_data = [[\"Eve\", \"F\", 25], [\"Frank\", \"M\", 20], [\"Grace\", \"F\", 40]]\n",
    "\n"
   ]
  },
  {
   "cell_type": "code",
   "execution_count": 194,
   "metadata": {},
   "outputs": [
    {
     "name": "stdout",
     "output_type": "stream",
     "text": [
      "Name\tGender\tAge\n",
      "Alice\tF\t20\n",
      "Bob\tM\t40\n",
      "Charlie\tM\t32\n",
      "Dave\tM\t31\n",
      "Eve\tF\t25\n",
      "Frank\tM\t20\n",
      "Grace\tF\t40\n",
      "\n"
     ]
    }
   ],
   "source": [
    "# Use the following codes to check how it works.\n",
    "with open(\"age.tsv\", \"r\") as f:\n",
    "    print(f.read())"
   ]
  },
  {
   "cell_type": "markdown",
   "metadata": {},
   "source": [
    "### Read from `pandas`\n",
    "\n",
    "`Pandas` is a 3rd-party library of Python which provide fast and flexible experience in data processing. In this section, I'll show you how to read csv/tsv file in pandas.\n",
    "\n",
    "First of all, we need to load the library by `import` since `pandas` is not preloaded in default Python environment.\n",
    "Here I import pandas **as pd** so later I can use any of the pandas function with `pd.xx_functions` instead of `pandas.xx_functions`."
   ]
  },
  {
   "cell_type": "code",
   "execution_count": 196,
   "metadata": {},
   "outputs": [],
   "source": [
    "import pandas as pd"
   ]
  },
  {
   "cell_type": "markdown",
   "metadata": {},
   "source": [
    "You can simply use `pd.read_csv()` to read the csv/tsv as a dataframe.\n",
    "Note that the default separator is comma \",\" in `pd.read_csv()` so we need to specify `sep=\"\\t\"` to tell it we want to separate by tab.\n",
    "\n",
    "Moreover, pandas automatically use the first row as header."
   ]
  },
  {
   "cell_type": "code",
   "execution_count": 200,
   "metadata": {},
   "outputs": [],
   "source": [
    "df = pd.read_csv(\"age.tsv\", sep=\"\\t\")"
   ]
  },
  {
   "cell_type": "code",
   "execution_count": 201,
   "metadata": {},
   "outputs": [
    {
     "data": {
      "text/html": [
       "<div>\n",
       "<style scoped>\n",
       "    .dataframe tbody tr th:only-of-type {\n",
       "        vertical-align: middle;\n",
       "    }\n",
       "\n",
       "    .dataframe tbody tr th {\n",
       "        vertical-align: top;\n",
       "    }\n",
       "\n",
       "    .dataframe thead th {\n",
       "        text-align: right;\n",
       "    }\n",
       "</style>\n",
       "<table border=\"1\" class=\"dataframe\">\n",
       "  <thead>\n",
       "    <tr style=\"text-align: right;\">\n",
       "      <th></th>\n",
       "      <th>Name</th>\n",
       "      <th>Gender</th>\n",
       "      <th>Age</th>\n",
       "    </tr>\n",
       "  </thead>\n",
       "  <tbody>\n",
       "    <tr>\n",
       "      <th>0</th>\n",
       "      <td>Alice</td>\n",
       "      <td>F</td>\n",
       "      <td>20</td>\n",
       "    </tr>\n",
       "    <tr>\n",
       "      <th>1</th>\n",
       "      <td>Bob</td>\n",
       "      <td>M</td>\n",
       "      <td>40</td>\n",
       "    </tr>\n",
       "    <tr>\n",
       "      <th>2</th>\n",
       "      <td>Charlie</td>\n",
       "      <td>M</td>\n",
       "      <td>32</td>\n",
       "    </tr>\n",
       "    <tr>\n",
       "      <th>3</th>\n",
       "      <td>Dave</td>\n",
       "      <td>M</td>\n",
       "      <td>31</td>\n",
       "    </tr>\n",
       "    <tr>\n",
       "      <th>4</th>\n",
       "      <td>Eve</td>\n",
       "      <td>F</td>\n",
       "      <td>25</td>\n",
       "    </tr>\n",
       "    <tr>\n",
       "      <th>5</th>\n",
       "      <td>Frank</td>\n",
       "      <td>M</td>\n",
       "      <td>20</td>\n",
       "    </tr>\n",
       "    <tr>\n",
       "      <th>6</th>\n",
       "      <td>Grace</td>\n",
       "      <td>F</td>\n",
       "      <td>40</td>\n",
       "    </tr>\n",
       "  </tbody>\n",
       "</table>\n",
       "</div>"
      ],
      "text/plain": [
       "      Name Gender  Age\n",
       "0    Alice      F   20\n",
       "1      Bob      M   40\n",
       "2  Charlie      M   32\n",
       "3     Dave      M   31\n",
       "4      Eve      F   25\n",
       "5    Frank      M   20\n",
       "6    Grace      F   40"
      ]
     },
     "execution_count": 201,
     "metadata": {},
     "output_type": "execute_result"
    }
   ],
   "source": [
    "df"
   ]
  },
  {
   "cell_type": "code",
   "execution_count": null,
   "metadata": {},
   "outputs": [],
   "source": []
  },
  {
   "cell_type": "markdown",
   "metadata": {},
   "source": [
    "Here I'm just demonstrating how powerful `Pandas` is. I can add a column to it."
   ]
  },
  {
   "cell_type": "code",
   "execution_count": 213,
   "metadata": {},
   "outputs": [],
   "source": [
    "df['State'] = ['Florida', 'California', 'Kentucky', 'Colorado', 'New York', 'California', 'Texas']"
   ]
  },
  {
   "cell_type": "code",
   "execution_count": 214,
   "metadata": {},
   "outputs": [
    {
     "data": {
      "text/html": [
       "<div>\n",
       "<style scoped>\n",
       "    .dataframe tbody tr th:only-of-type {\n",
       "        vertical-align: middle;\n",
       "    }\n",
       "\n",
       "    .dataframe tbody tr th {\n",
       "        vertical-align: top;\n",
       "    }\n",
       "\n",
       "    .dataframe thead th {\n",
       "        text-align: right;\n",
       "    }\n",
       "</style>\n",
       "<table border=\"1\" class=\"dataframe\">\n",
       "  <thead>\n",
       "    <tr style=\"text-align: right;\">\n",
       "      <th></th>\n",
       "      <th>Name</th>\n",
       "      <th>Gender</th>\n",
       "      <th>Age</th>\n",
       "      <th>State</th>\n",
       "    </tr>\n",
       "  </thead>\n",
       "  <tbody>\n",
       "    <tr>\n",
       "      <th>0</th>\n",
       "      <td>Alice</td>\n",
       "      <td>F</td>\n",
       "      <td>20</td>\n",
       "      <td>Florida</td>\n",
       "    </tr>\n",
       "    <tr>\n",
       "      <th>1</th>\n",
       "      <td>Bob</td>\n",
       "      <td>M</td>\n",
       "      <td>40</td>\n",
       "      <td>California</td>\n",
       "    </tr>\n",
       "    <tr>\n",
       "      <th>2</th>\n",
       "      <td>Charlie</td>\n",
       "      <td>M</td>\n",
       "      <td>32</td>\n",
       "      <td>Kentucky</td>\n",
       "    </tr>\n",
       "    <tr>\n",
       "      <th>3</th>\n",
       "      <td>Dave</td>\n",
       "      <td>M</td>\n",
       "      <td>31</td>\n",
       "      <td>Colorado</td>\n",
       "    </tr>\n",
       "    <tr>\n",
       "      <th>4</th>\n",
       "      <td>Eve</td>\n",
       "      <td>F</td>\n",
       "      <td>25</td>\n",
       "      <td>New York</td>\n",
       "    </tr>\n",
       "    <tr>\n",
       "      <th>5</th>\n",
       "      <td>Frank</td>\n",
       "      <td>M</td>\n",
       "      <td>20</td>\n",
       "      <td>California</td>\n",
       "    </tr>\n",
       "    <tr>\n",
       "      <th>6</th>\n",
       "      <td>Grace</td>\n",
       "      <td>F</td>\n",
       "      <td>40</td>\n",
       "      <td>Texas</td>\n",
       "    </tr>\n",
       "  </tbody>\n",
       "</table>\n",
       "</div>"
      ],
      "text/plain": [
       "      Name Gender  Age       State\n",
       "0    Alice      F   20     Florida\n",
       "1      Bob      M   40  California\n",
       "2  Charlie      M   32    Kentucky\n",
       "3     Dave      M   31    Colorado\n",
       "4      Eve      F   25    New York\n",
       "5    Frank      M   20  California\n",
       "6    Grace      F   40       Texas"
      ]
     },
     "execution_count": 214,
     "metadata": {},
     "output_type": "execute_result"
    }
   ],
   "source": [
    "df"
   ]
  },
  {
   "cell_type": "markdown",
   "metadata": {},
   "source": [
    "I can sort the dataframe by a column."
   ]
  },
  {
   "cell_type": "code",
   "execution_count": 216,
   "metadata": {},
   "outputs": [
    {
     "data": {
      "text/html": [
       "<div>\n",
       "<style scoped>\n",
       "    .dataframe tbody tr th:only-of-type {\n",
       "        vertical-align: middle;\n",
       "    }\n",
       "\n",
       "    .dataframe tbody tr th {\n",
       "        vertical-align: top;\n",
       "    }\n",
       "\n",
       "    .dataframe thead th {\n",
       "        text-align: right;\n",
       "    }\n",
       "</style>\n",
       "<table border=\"1\" class=\"dataframe\">\n",
       "  <thead>\n",
       "    <tr style=\"text-align: right;\">\n",
       "      <th></th>\n",
       "      <th>Name</th>\n",
       "      <th>Gender</th>\n",
       "      <th>Age</th>\n",
       "      <th>State</th>\n",
       "    </tr>\n",
       "  </thead>\n",
       "  <tbody>\n",
       "    <tr>\n",
       "      <th>0</th>\n",
       "      <td>Alice</td>\n",
       "      <td>F</td>\n",
       "      <td>20</td>\n",
       "      <td>Florida</td>\n",
       "    </tr>\n",
       "    <tr>\n",
       "      <th>5</th>\n",
       "      <td>Frank</td>\n",
       "      <td>M</td>\n",
       "      <td>20</td>\n",
       "      <td>California</td>\n",
       "    </tr>\n",
       "    <tr>\n",
       "      <th>4</th>\n",
       "      <td>Eve</td>\n",
       "      <td>F</td>\n",
       "      <td>25</td>\n",
       "      <td>New York</td>\n",
       "    </tr>\n",
       "    <tr>\n",
       "      <th>3</th>\n",
       "      <td>Dave</td>\n",
       "      <td>M</td>\n",
       "      <td>31</td>\n",
       "      <td>Colorado</td>\n",
       "    </tr>\n",
       "    <tr>\n",
       "      <th>2</th>\n",
       "      <td>Charlie</td>\n",
       "      <td>M</td>\n",
       "      <td>32</td>\n",
       "      <td>Kentucky</td>\n",
       "    </tr>\n",
       "    <tr>\n",
       "      <th>1</th>\n",
       "      <td>Bob</td>\n",
       "      <td>M</td>\n",
       "      <td>40</td>\n",
       "      <td>California</td>\n",
       "    </tr>\n",
       "    <tr>\n",
       "      <th>6</th>\n",
       "      <td>Grace</td>\n",
       "      <td>F</td>\n",
       "      <td>40</td>\n",
       "      <td>Texas</td>\n",
       "    </tr>\n",
       "  </tbody>\n",
       "</table>\n",
       "</div>"
      ],
      "text/plain": [
       "      Name Gender  Age       State\n",
       "0    Alice      F   20     Florida\n",
       "5    Frank      M   20  California\n",
       "4      Eve      F   25    New York\n",
       "3     Dave      M   31    Colorado\n",
       "2  Charlie      M   32    Kentucky\n",
       "1      Bob      M   40  California\n",
       "6    Grace      F   40       Texas"
      ]
     },
     "execution_count": 216,
     "metadata": {},
     "output_type": "execute_result"
    }
   ],
   "source": [
    "df.sort_values(\"Age\")"
   ]
  },
  {
   "cell_type": "markdown",
   "metadata": {},
   "source": [
    "If I want to know the average age of both gender, I can simply use the following codes to do that."
   ]
  },
  {
   "cell_type": "code",
   "execution_count": 217,
   "metadata": {},
   "outputs": [
    {
     "data": {
      "text/html": [
       "<div>\n",
       "<style scoped>\n",
       "    .dataframe tbody tr th:only-of-type {\n",
       "        vertical-align: middle;\n",
       "    }\n",
       "\n",
       "    .dataframe tbody tr th {\n",
       "        vertical-align: top;\n",
       "    }\n",
       "\n",
       "    .dataframe thead th {\n",
       "        text-align: right;\n",
       "    }\n",
       "</style>\n",
       "<table border=\"1\" class=\"dataframe\">\n",
       "  <thead>\n",
       "    <tr style=\"text-align: right;\">\n",
       "      <th></th>\n",
       "      <th>Age</th>\n",
       "    </tr>\n",
       "    <tr>\n",
       "      <th>Gender</th>\n",
       "      <th></th>\n",
       "    </tr>\n",
       "  </thead>\n",
       "  <tbody>\n",
       "    <tr>\n",
       "      <th>F</th>\n",
       "      <td>28.333333</td>\n",
       "    </tr>\n",
       "    <tr>\n",
       "      <th>M</th>\n",
       "      <td>30.750000</td>\n",
       "    </tr>\n",
       "  </tbody>\n",
       "</table>\n",
       "</div>"
      ],
      "text/plain": [
       "              Age\n",
       "Gender           \n",
       "F       28.333333\n",
       "M       30.750000"
      ]
     },
     "execution_count": 217,
     "metadata": {},
     "output_type": "execute_result"
    }
   ],
   "source": [
    "df.groupby(\"Gender\").mean()"
   ]
  },
  {
   "cell_type": "markdown",
   "metadata": {},
   "source": [
    "Since we've added a column \"State\" to the dataframe, let try to write it back to the file.\n",
    "\n",
    "In pandas, you can simply use `df.to_csv()` to write to a file."
   ]
  },
  {
   "cell_type": "code",
   "execution_count": 218,
   "metadata": {},
   "outputs": [
    {
     "data": {
      "text/html": [
       "<div>\n",
       "<style scoped>\n",
       "    .dataframe tbody tr th:only-of-type {\n",
       "        vertical-align: middle;\n",
       "    }\n",
       "\n",
       "    .dataframe tbody tr th {\n",
       "        vertical-align: top;\n",
       "    }\n",
       "\n",
       "    .dataframe thead th {\n",
       "        text-align: right;\n",
       "    }\n",
       "</style>\n",
       "<table border=\"1\" class=\"dataframe\">\n",
       "  <thead>\n",
       "    <tr style=\"text-align: right;\">\n",
       "      <th></th>\n",
       "      <th>Name</th>\n",
       "      <th>Gender</th>\n",
       "      <th>Age</th>\n",
       "      <th>State</th>\n",
       "    </tr>\n",
       "  </thead>\n",
       "  <tbody>\n",
       "    <tr>\n",
       "      <th>0</th>\n",
       "      <td>Alice</td>\n",
       "      <td>F</td>\n",
       "      <td>20</td>\n",
       "      <td>Florida</td>\n",
       "    </tr>\n",
       "    <tr>\n",
       "      <th>1</th>\n",
       "      <td>Bob</td>\n",
       "      <td>M</td>\n",
       "      <td>40</td>\n",
       "      <td>California</td>\n",
       "    </tr>\n",
       "    <tr>\n",
       "      <th>2</th>\n",
       "      <td>Charlie</td>\n",
       "      <td>M</td>\n",
       "      <td>32</td>\n",
       "      <td>Kentucky</td>\n",
       "    </tr>\n",
       "    <tr>\n",
       "      <th>3</th>\n",
       "      <td>Dave</td>\n",
       "      <td>M</td>\n",
       "      <td>31</td>\n",
       "      <td>Colorado</td>\n",
       "    </tr>\n",
       "    <tr>\n",
       "      <th>4</th>\n",
       "      <td>Eve</td>\n",
       "      <td>F</td>\n",
       "      <td>25</td>\n",
       "      <td>New York</td>\n",
       "    </tr>\n",
       "    <tr>\n",
       "      <th>5</th>\n",
       "      <td>Frank</td>\n",
       "      <td>M</td>\n",
       "      <td>20</td>\n",
       "      <td>California</td>\n",
       "    </tr>\n",
       "    <tr>\n",
       "      <th>6</th>\n",
       "      <td>Grace</td>\n",
       "      <td>F</td>\n",
       "      <td>40</td>\n",
       "      <td>Texas</td>\n",
       "    </tr>\n",
       "  </tbody>\n",
       "</table>\n",
       "</div>"
      ],
      "text/plain": [
       "      Name Gender  Age       State\n",
       "0    Alice      F   20     Florida\n",
       "1      Bob      M   40  California\n",
       "2  Charlie      M   32    Kentucky\n",
       "3     Dave      M   31    Colorado\n",
       "4      Eve      F   25    New York\n",
       "5    Frank      M   20  California\n",
       "6    Grace      F   40       Texas"
      ]
     },
     "execution_count": 218,
     "metadata": {},
     "output_type": "execute_result"
    }
   ],
   "source": [
    "df"
   ]
  },
  {
   "cell_type": "code",
   "execution_count": 221,
   "metadata": {},
   "outputs": [],
   "source": [
    "df.to_csv(\"age.tsv\", sep=\"\\t\", index=False)"
   ]
  },
  {
   "cell_type": "markdown",
   "metadata": {},
   "source": [
    "Let's check it again with a more traditional way."
   ]
  },
  {
   "cell_type": "code",
   "execution_count": 222,
   "metadata": {},
   "outputs": [
    {
     "name": "stdout",
     "output_type": "stream",
     "text": [
      "Name\tGender\tAge\tState\n",
      "Alice\tF\t20\tFlorida\n",
      "Bob\tM\t40\tCalifornia\n",
      "Charlie\tM\t32\tKentucky\n",
      "Dave\tM\t31\tColorado\n",
      "Eve\tF\t25\tNew York\n",
      "Frank\tM\t20\tCalifornia\n",
      "Grace\tF\t40\tTexas\n",
      "\n"
     ]
    }
   ],
   "source": [
    "with open(\"age.tsv\", \"r\") as f:\n",
    "    print(f.read())"
   ]
  }
 ],
 "metadata": {
  "kernelspec": {
   "display_name": "Python 3 (ipykernel)",
   "language": "python",
   "name": "python3"
  },
  "language_info": {
   "codemirror_mode": {
    "name": "ipython",
    "version": 3
   },
   "file_extension": ".py",
   "mimetype": "text/x-python",
   "name": "python",
   "nbconvert_exporter": "python",
   "pygments_lexer": "ipython3",
   "version": "3.9.7"
  }
 },
 "nbformat": 4,
 "nbformat_minor": 4
}
