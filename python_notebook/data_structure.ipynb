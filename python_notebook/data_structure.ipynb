{
 "cells": [
  {
   "cell_type": "markdown",
   "metadata": {},
   "source": [
    "# Data structures\n",
    "\n",
    "In computer science, a data structure is a data organization, management, and storage format that is usually chosen for efficient access to data.\n",
    "More precisely, a data structure is a collection of data values, the relationships among them, and the functions or operations that can be applied to the data.\n",
    "\n",
    "In this section, we'll cover some of the basic data structures included:\n",
    "\n",
    "1. [List](#list)\n",
    "   - [Create and obtain items](#create-and-obtain-items-from-a-list)\n",
    "     - [Problem - call value by index](#problem---call-value-by-index)\n",
    "     - [Problem - nested index calling](#problem---nested-index-calling)\n",
    "   - [Slice for subset](#use-slice-to-obtain-a-subset-of-a-list)\n",
    "     - [Problem - get a slice](#problem---get-a-slice)\n",
    "   - [Add, change, and delete items](#add-change-and-delete-items)\n",
    "     - [Problem - remove hated fruits](#problem---remove-hated-fruits)\n",
    "   - [Sort and reverse a list](#sort-and-reverse-a-list)\n",
    "     - [Problem - get those largest ones](#problem---get-those-largest-ones)\n",
    "   - [Copy a list](#copy-a-list)\n",
    "2. [Tuple](#tuple)\n",
    "   - [The differences between tuple and list](#tuple)\n",
    "   - [How to convert a list to tuple](#tuple)\n",
    "3. [Dictionary](#dictionary)\n",
    "   - [Create a dictionary with key:value pairs](#create-a-dictionary-with-keyvalue-pairs)\n",
    "     - [Problem - build a genome](#problem---build-a-genome)\n",
    "   - [Iterate through a dictionary](#iterate-through-a-dictionary)\n",
    "     - [Problem - replenish the inventory](#problem---replenish-the-inventory)\n",
    "4. [Set](#set)\n",
    "   - [Add and remove item](#add-and-remove-item)\n",
    "   - [Union, intersection and difference](#union-intersection-and-difference)\n",
    "     - [Problem - non-overlapped](#problem---non-overlapped)\n"
   ]
  },
  {
   "cell_type": "code",
   "execution_count": 1,
   "metadata": {},
   "outputs": [],
   "source": [
    "# Preload some libraries and variables that are required in the section.\n",
    "import pickle\n",
    "\n",
    "with open(\"random_integers.pkl\", 'rb') as f:\n",
    "    random_integers_original = pickle.load(f)"
   ]
  },
  {
   "cell_type": "markdown",
   "metadata": {},
   "source": [
    "## List\n",
    "\n",
    "Lists are probably the most commonly used data structure. It can be used to store multiple items in a single variable.\n",
    "\n",
    "Items in list are ordered, changeable, and allow duplicate values."
   ]
  },
  {
   "cell_type": "markdown",
   "metadata": {},
   "source": [
    "### Create and obtain items from a list"
   ]
  },
  {
   "cell_type": "markdown",
   "metadata": {},
   "source": [
    "Create a list with `[]`."
   ]
  },
  {
   "cell_type": "code",
   "execution_count": 2,
   "metadata": {},
   "outputs": [],
   "source": [
    "numerical_list = [3, 88, 2, 5, 110, 25, 5]"
   ]
  },
  {
   "cell_type": "code",
   "execution_count": 3,
   "metadata": {},
   "outputs": [
    {
     "data": {
      "text/plain": [
       "[3, 88, 2, 5, 110, 25, 5]"
      ]
     },
     "execution_count": 3,
     "metadata": {},
     "output_type": "execute_result"
    }
   ],
   "source": [
    "numerical_list"
   ]
  },
  {
   "cell_type": "markdown",
   "metadata": {},
   "source": [
    "List items can be of any data type"
   ]
  },
  {
   "cell_type": "code",
   "execution_count": 4,
   "metadata": {},
   "outputs": [],
   "source": [
    "fruit_list = [\"apple\", \"banana\", \"coconut\"]"
   ]
  },
  {
   "cell_type": "code",
   "execution_count": 5,
   "metadata": {},
   "outputs": [
    {
     "data": {
      "text/plain": [
       "['apple', 'banana', 'coconut']"
      ]
     },
     "execution_count": 5,
     "metadata": {},
     "output_type": "execute_result"
    }
   ],
   "source": [
    "fruit_list"
   ]
  },
  {
   "cell_type": "code",
   "execution_count": 6,
   "metadata": {},
   "outputs": [],
   "source": [
    "mixed_list = [\"apple\", 88, \"banana\", True, [1, 2, 3]]"
   ]
  },
  {
   "cell_type": "code",
   "execution_count": 7,
   "metadata": {},
   "outputs": [
    {
     "data": {
      "text/plain": [
       "['apple', 88, 'banana', True, [1, 2, 3]]"
      ]
     },
     "execution_count": 7,
     "metadata": {},
     "output_type": "execute_result"
    }
   ],
   "source": [
    "mixed_list"
   ]
  },
  {
   "cell_type": "markdown",
   "metadata": {},
   "source": [
    "List items are indexed, the first item has index [0], the second item has index [1] etc.\n",
    "\n",
    "Let's try to return the **1st item** in numerical_list."
   ]
  },
  {
   "cell_type": "code",
   "execution_count": 8,
   "metadata": {},
   "outputs": [
    {
     "data": {
      "text/plain": [
       "3"
      ]
     },
     "execution_count": 8,
     "metadata": {},
     "output_type": "execute_result"
    }
   ],
   "source": [
    "numerical_list[0]"
   ]
  },
  {
   "cell_type": "markdown",
   "metadata": {},
   "source": [
    "You can use a *minus sign* with index to obtain a item from the end.\n",
    "\n",
    "For example, we can obtain the last item by `[-1]`."
   ]
  },
  {
   "cell_type": "code",
   "execution_count": 9,
   "metadata": {},
   "outputs": [
    {
     "data": {
      "text/plain": [
       "5"
      ]
     },
     "execution_count": 9,
     "metadata": {},
     "output_type": "execute_result"
    }
   ],
   "source": [
    "numerical_list[-1]"
   ]
  },
  {
   "cell_type": "markdown",
   "metadata": {},
   "source": [
    "#### Problem - call value by index\n",
    "\n",
    "What is the value of the **58th** item in `random_integers`?"
   ]
  },
  {
   "cell_type": "code",
   "execution_count": 10,
   "metadata": {},
   "outputs": [
    {
     "data": {
      "text/plain": [
       "[57,\n",
       " 41,\n",
       " 11,\n",
       " 11,\n",
       " 62,\n",
       " 3,\n",
       " 80,\n",
       " 51,\n",
       " 100,\n",
       " 85,\n",
       " 23,\n",
       " 52,\n",
       " 24,\n",
       " 62,\n",
       " 55,\n",
       " 29,\n",
       " 87,\n",
       " 33,\n",
       " 91,\n",
       " 12,\n",
       " 1,\n",
       " 10,\n",
       " 28,\n",
       " 89,\n",
       " 85,\n",
       " 93,\n",
       " 92,\n",
       " 28,\n",
       " 74,\n",
       " 96,\n",
       " 50,\n",
       " 32,\n",
       " 27,\n",
       " 38,\n",
       " 26,\n",
       " 12,\n",
       " 65,\n",
       " 8,\n",
       " 88,\n",
       " 41,\n",
       " 1,\n",
       " 5,\n",
       " 22,\n",
       " 12,\n",
       " 42,\n",
       " 59,\n",
       " 64,\n",
       " 21,\n",
       " 20,\n",
       " 26,\n",
       " 50,\n",
       " 18,\n",
       " 70,\n",
       " 43,\n",
       " 39,\n",
       " 34,\n",
       " 100,\n",
       " 46,\n",
       " 31,\n",
       " 57,\n",
       " 88,\n",
       " 24,\n",
       " 17,\n",
       " 98,\n",
       " 78,\n",
       " 77,\n",
       " 7,\n",
       " 53,\n",
       " 56,\n",
       " 63,\n",
       " 100,\n",
       " 41,\n",
       " 47,\n",
       " 76,\n",
       " 90,\n",
       " 47,\n",
       " 51,\n",
       " 80,\n",
       " 36,\n",
       " 82,\n",
       " 61,\n",
       " 68,\n",
       " 19,\n",
       " 15,\n",
       " 4,\n",
       " 47,\n",
       " 39,\n",
       " 69,\n",
       " 73,\n",
       " 63,\n",
       " 60,\n",
       " 82,\n",
       " 18,\n",
       " 88,\n",
       " 69,\n",
       " 13,\n",
       " 38,\n",
       " 59,\n",
       " 53,\n",
       " 32]"
      ]
     },
     "execution_count": 10,
     "metadata": {},
     "output_type": "execute_result"
    }
   ],
   "source": [
    "# I use a `list.copy()` function to copy the list, we'll explain that later.\n",
    "# Please test your codes on the list `random_integers`.\n",
    "random_integers = random_integers_original.copy()\n",
    "random_integers"
   ]
  },
  {
   "cell_type": "code",
   "execution_count": 11,
   "metadata": {},
   "outputs": [],
   "source": [
    "# Please write and test your codes in this cell\n"
   ]
  },
  {
   "cell_type": "markdown",
   "metadata": {},
   "source": [
    "Whenever you have a `list`-like object, you can always obtain the item from it through index.\n",
    "\n",
    "You can use `type` to check the data type an object."
   ]
  },
  {
   "cell_type": "code",
   "execution_count": 12,
   "metadata": {},
   "outputs": [
    {
     "data": {
      "text/plain": [
       "['apple', 88, 'banana', True, [1, 2, 3]]"
      ]
     },
     "execution_count": 12,
     "metadata": {},
     "output_type": "execute_result"
    }
   ],
   "source": [
    "mixed_list = [\"apple\", 88, \"banana\", True, [1, 2, 3]]\n",
    "mixed_list"
   ]
  },
  {
   "cell_type": "code",
   "execution_count": 13,
   "metadata": {},
   "outputs": [
    {
     "data": {
      "text/plain": [
       "list"
      ]
     },
     "execution_count": 13,
     "metadata": {},
     "output_type": "execute_result"
    }
   ],
   "source": [
    "type(mixed_list)"
   ]
  },
  {
   "cell_type": "code",
   "execution_count": 14,
   "metadata": {},
   "outputs": [
    {
     "data": {
      "text/plain": [
       "bool"
      ]
     },
     "execution_count": 14,
     "metadata": {},
     "output_type": "execute_result"
    }
   ],
   "source": [
    "# The fourth item is TRUE which is a Boolean\n",
    "type(mixed_list[3])"
   ]
  },
  {
   "cell_type": "code",
   "execution_count": 15,
   "metadata": {},
   "outputs": [
    {
     "ename": "TypeError",
     "evalue": "'bool' object is not subscriptable",
     "output_type": "error",
     "traceback": [
      "\u001b[0;31m---------------------------------------------------------------------------\u001b[0m",
      "\u001b[0;31mTypeError\u001b[0m                                 Traceback (most recent call last)",
      "\u001b[1;32m/home/chtsai/GEN220_2023_examples/python_notebook/data_structure.ipynb Cell 24\u001b[0m line \u001b[0;36m2\n\u001b[1;32m      <a href='vscode-notebook-cell://wsl%2Barch/home/chtsai/GEN220_2023_examples/python_notebook/data_structure.ipynb#Y105sdnNjb2RlLXJlbW90ZQ%3D%3D?line=0'>1</a>\u001b[0m \u001b[39m# It's not possible to obtain any item from Boolean object\u001b[39;00m\n\u001b[0;32m----> <a href='vscode-notebook-cell://wsl%2Barch/home/chtsai/GEN220_2023_examples/python_notebook/data_structure.ipynb#Y105sdnNjb2RlLXJlbW90ZQ%3D%3D?line=1'>2</a>\u001b[0m mixed_list[\u001b[39m3\u001b[39;49m][\u001b[39m0\u001b[39;49m]\n",
      "\u001b[0;31mTypeError\u001b[0m: 'bool' object is not subscriptable"
     ]
    }
   ],
   "source": [
    "# It's not possible to obtain any item from Boolean object\n",
    "mixed_list[3][0]"
   ]
  },
  {
   "cell_type": "code",
   "execution_count": 16,
   "metadata": {},
   "outputs": [
    {
     "data": {
      "text/plain": [
       "list"
      ]
     },
     "execution_count": 16,
     "metadata": {},
     "output_type": "execute_result"
    }
   ],
   "source": [
    "# The last item of the mixed_list is also a list.\n",
    "type(mixed_list[-1])"
   ]
  },
  {
   "cell_type": "code",
   "execution_count": 17,
   "metadata": {},
   "outputs": [
    {
     "data": {
      "text/plain": [
       "3"
      ]
     },
     "execution_count": 17,
     "metadata": {},
     "output_type": "execute_result"
    }
   ],
   "source": [
    "# Get the last item in the list inside the `mixed_list`.\n",
    "mixed_list[-1][-1]"
   ]
  },
  {
   "cell_type": "markdown",
   "metadata": {},
   "source": [
    "#### Problem - nested index calling\n",
    "\n",
    "Are you able to retrieve the letter \"l\" in apple from the `mixed_list`?"
   ]
  },
  {
   "cell_type": "code",
   "execution_count": 18,
   "metadata": {},
   "outputs": [
    {
     "data": {
      "text/plain": [
       "['apple', 88, 'banana', True, [1, 2, 3]]"
      ]
     },
     "execution_count": 18,
     "metadata": {},
     "output_type": "execute_result"
    }
   ],
   "source": [
    "mixed_list = [\"apple\", 88, \"banana\", True, [1, 2, 3]]\n",
    "mixed_list"
   ]
  },
  {
   "cell_type": "code",
   "execution_count": 19,
   "metadata": {},
   "outputs": [],
   "source": [
    "# Please write and test your codes in this cell\n"
   ]
  },
  {
   "cell_type": "markdown",
   "metadata": {},
   "source": [
    "### Use `slice` to obtain a subset of a list\n",
    "\n",
    "In addition to obtain a single item with a single index, Python allow you to obtain a subset of items from a list."
   ]
  },
  {
   "cell_type": "code",
   "execution_count": 20,
   "metadata": {},
   "outputs": [
    {
     "data": {
      "text/plain": [
       "[3, 88, 2, 5, 110, 25, 5]"
      ]
     },
     "execution_count": 20,
     "metadata": {},
     "output_type": "execute_result"
    }
   ],
   "source": [
    "numerical_list = [3, 88, 2, 5, 110, 25, 5]\n",
    "numerical_list"
   ]
  },
  {
   "cell_type": "code",
   "execution_count": 21,
   "metadata": {},
   "outputs": [
    {
     "data": {
      "text/plain": [
       "[88, 2, 5]"
      ]
     },
     "execution_count": 21,
     "metadata": {},
     "output_type": "execute_result"
    }
   ],
   "source": [
    "# Get the 2nd to 4th items (the 5th item is not included although it has index [4])\n",
    "numerical_list[1:4]"
   ]
  },
  {
   "cell_type": "code",
   "execution_count": 22,
   "metadata": {},
   "outputs": [
    {
     "data": {
      "text/plain": [
       "[3, 88, 2]"
      ]
     },
     "execution_count": 22,
     "metadata": {},
     "output_type": "execute_result"
    }
   ],
   "source": [
    "# Get the first 3 items\n",
    "numerical_list[:3]"
   ]
  },
  {
   "cell_type": "code",
   "execution_count": 23,
   "metadata": {},
   "outputs": [
    {
     "data": {
      "text/plain": [
       "[110, 25, 5]"
      ]
     },
     "execution_count": 23,
     "metadata": {},
     "output_type": "execute_result"
    }
   ],
   "source": [
    "# Get the last 3 items\n",
    "numerical_list[-3:]"
   ]
  },
  {
   "cell_type": "markdown",
   "metadata": {},
   "source": [
    "#### Problem - get a slice\n",
    "\n",
    "How to obtain the 3rd to last items from the `numerical_list`?"
   ]
  },
  {
   "cell_type": "code",
   "execution_count": 25,
   "metadata": {},
   "outputs": [
    {
     "data": {
      "text/plain": [
       "[3, 88, 2, 5, 110, 25, 5]"
      ]
     },
     "execution_count": 25,
     "metadata": {},
     "output_type": "execute_result"
    }
   ],
   "source": [
    "numerical_list"
   ]
  },
  {
   "cell_type": "code",
   "execution_count": 26,
   "metadata": {},
   "outputs": [],
   "source": [
    "# Please write and test your codes in this cell\n"
   ]
  },
  {
   "cell_type": "markdown",
   "metadata": {},
   "source": [
    "### Add, change and delete items"
   ]
  },
  {
   "cell_type": "markdown",
   "metadata": {},
   "source": [
    "You can use `list_obj.append(item)` to add an item to a list."
   ]
  },
  {
   "cell_type": "code",
   "execution_count": 27,
   "metadata": {},
   "outputs": [
    {
     "data": {
      "text/plain": [
       "['apple', 'banana', 'coconut']"
      ]
     },
     "execution_count": 27,
     "metadata": {},
     "output_type": "execute_result"
    }
   ],
   "source": [
    "fruit_list = [\"apple\", \"banana\", \"coconut\"]\n",
    "fruit_list"
   ]
  },
  {
   "cell_type": "code",
   "execution_count": 28,
   "metadata": {},
   "outputs": [],
   "source": [
    "fruit_list.append(\"grape\")"
   ]
  },
  {
   "cell_type": "code",
   "execution_count": 29,
   "metadata": {},
   "outputs": [
    {
     "data": {
      "text/plain": [
       "['apple', 'banana', 'coconut', 'grape']"
      ]
     },
     "execution_count": 29,
     "metadata": {},
     "output_type": "execute_result"
    }
   ],
   "source": [
    "fruit_list"
   ]
  },
  {
   "cell_type": "markdown",
   "metadata": {},
   "source": [
    "You can add anything to it, even add a totally different data type.\n",
    "\n",
    "Remember, the `list` in Python can include any type of data."
   ]
  },
  {
   "cell_type": "code",
   "execution_count": 30,
   "metadata": {},
   "outputs": [],
   "source": [
    "fruit_list.append(123)"
   ]
  },
  {
   "cell_type": "code",
   "execution_count": 31,
   "metadata": {},
   "outputs": [
    {
     "data": {
      "text/plain": [
       "['apple', 'banana', 'coconut', 'grape', 123]"
      ]
     },
     "execution_count": 31,
     "metadata": {},
     "output_type": "execute_result"
    }
   ],
   "source": [
    "fruit_list"
   ]
  },
  {
   "cell_type": "code",
   "execution_count": 32,
   "metadata": {},
   "outputs": [],
   "source": [
    "fruit_list.append([1, 2, 3])"
   ]
  },
  {
   "cell_type": "code",
   "execution_count": 33,
   "metadata": {},
   "outputs": [
    {
     "data": {
      "text/plain": [
       "['apple', 'banana', 'coconut', 'grape', 123, [1, 2, 3]]"
      ]
     },
     "execution_count": 33,
     "metadata": {},
     "output_type": "execute_result"
    }
   ],
   "source": [
    "fruit_list"
   ]
  },
  {
   "cell_type": "markdown",
   "metadata": {},
   "source": [
    "You can insert an item to any location in a list through a given index. Use `list.insert(index, value)`."
   ]
  },
  {
   "cell_type": "code",
   "execution_count": 34,
   "metadata": {},
   "outputs": [],
   "source": [
    "fruit_list.insert(3, \"dragon fruit\")"
   ]
  },
  {
   "cell_type": "code",
   "execution_count": 35,
   "metadata": {},
   "outputs": [
    {
     "data": {
      "text/plain": [
       "['apple', 'banana', 'coconut', 'dragon fruit', 'grape', 123, [1, 2, 3]]"
      ]
     },
     "execution_count": 35,
     "metadata": {},
     "output_type": "execute_result"
    }
   ],
   "source": [
    "fruit_list"
   ]
  },
  {
   "cell_type": "markdown",
   "metadata": {},
   "source": [
    "In one of the above cell, we add a list as an item by `list.append(list)`.\n",
    "If you want to extend a list rather than adding it as an item, you can do `list.extend(list)`."
   ]
  },
  {
   "cell_type": "code",
   "execution_count": 36,
   "metadata": {},
   "outputs": [],
   "source": [
    "additional_fruits = [\"watermelon\", \"dragon fruit\", \"pomegranate\"]"
   ]
  },
  {
   "cell_type": "code",
   "execution_count": 37,
   "metadata": {},
   "outputs": [],
   "source": [
    "fruit_list.extend(additional_fruits)"
   ]
  },
  {
   "cell_type": "code",
   "execution_count": 38,
   "metadata": {},
   "outputs": [
    {
     "data": {
      "text/plain": [
       "['apple',\n",
       " 'banana',\n",
       " 'coconut',\n",
       " 'dragon fruit',\n",
       " 'grape',\n",
       " 123,\n",
       " [1, 2, 3],\n",
       " 'watermelon',\n",
       " 'dragon fruit',\n",
       " 'pomegranate']"
      ]
     },
     "execution_count": 38,
     "metadata": {},
     "output_type": "execute_result"
    }
   ],
   "source": [
    "# Note that we now have 2 \"dragon fruit\" in our list. I'll show you how to delete them.\n",
    "fruit_list"
   ]
  },
  {
   "cell_type": "markdown",
   "metadata": {},
   "source": [
    "Items in list are changable. You can change the value of an item by its index.\n",
    "\n",
    "Let's change the weird inner list located at index 6 into something else."
   ]
  },
  {
   "cell_type": "code",
   "execution_count": 39,
   "metadata": {},
   "outputs": [
    {
     "data": {
      "text/plain": [
       "[1, 2, 3]"
      ]
     },
     "execution_count": 39,
     "metadata": {},
     "output_type": "execute_result"
    }
   ],
   "source": [
    "fruit_list[6]"
   ]
  },
  {
   "cell_type": "code",
   "execution_count": 40,
   "metadata": {},
   "outputs": [],
   "source": [
    "fruit_list[6] = 456"
   ]
  },
  {
   "cell_type": "code",
   "execution_count": 41,
   "metadata": {},
   "outputs": [
    {
     "data": {
      "text/plain": [
       "['apple',\n",
       " 'banana',\n",
       " 'coconut',\n",
       " 'dragon fruit',\n",
       " 'grape',\n",
       " 123,\n",
       " 456,\n",
       " 'watermelon',\n",
       " 'dragon fruit',\n",
       " 'pomegranate']"
      ]
     },
     "execution_count": 41,
     "metadata": {},
     "output_type": "execute_result"
    }
   ],
   "source": [
    "fruit_list"
   ]
  },
  {
   "cell_type": "markdown",
   "metadata": {},
   "source": [
    "If you want to delete a item from list, you can use `del` with an *index* to achieve that."
   ]
  },
  {
   "cell_type": "code",
   "execution_count": 42,
   "metadata": {},
   "outputs": [],
   "source": [
    "# Delete the 6th item, which is the 456.\n",
    "del fruit_list[6]"
   ]
  },
  {
   "cell_type": "code",
   "execution_count": 43,
   "metadata": {},
   "outputs": [
    {
     "data": {
      "text/plain": [
       "['apple',\n",
       " 'banana',\n",
       " 'coconut',\n",
       " 'dragon fruit',\n",
       " 'grape',\n",
       " 123,\n",
       " 'watermelon',\n",
       " 'dragon fruit',\n",
       " 'pomegranate']"
      ]
     },
     "execution_count": 43,
     "metadata": {},
     "output_type": "execute_result"
    }
   ],
   "source": [
    "fruit_list"
   ]
  },
  {
   "cell_type": "markdown",
   "metadata": {},
   "source": [
    "There is another way to do it - use `list.pop()`.\n",
    "\n",
    "You can assign an index and pop that item out of a list.\n",
    "Without any given index, by default the last item of the list will be popped out.\n",
    "\n",
    "The different between `del` and `pop` is `del` directly delete an item, while `pop` pop out the seleted item from the list and return it."
   ]
  },
  {
   "cell_type": "code",
   "execution_count": 44,
   "metadata": {},
   "outputs": [
    {
     "data": {
      "text/plain": [
       "123"
      ]
     },
     "execution_count": 44,
     "metadata": {},
     "output_type": "execute_result"
    }
   ],
   "source": [
    "# Pop the 5th item, which is 123\n",
    "fruit_list.pop(5)"
   ]
  },
  {
   "cell_type": "code",
   "execution_count": 45,
   "metadata": {},
   "outputs": [
    {
     "data": {
      "text/plain": [
       "['apple',\n",
       " 'banana',\n",
       " 'coconut',\n",
       " 'dragon fruit',\n",
       " 'grape',\n",
       " 'watermelon',\n",
       " 'dragon fruit',\n",
       " 'pomegranate']"
      ]
     },
     "execution_count": 45,
     "metadata": {},
     "output_type": "execute_result"
    }
   ],
   "source": [
    "fruit_list"
   ]
  },
  {
   "cell_type": "code",
   "execution_count": 46,
   "metadata": {},
   "outputs": [
    {
     "data": {
      "text/plain": [
       "'pomegranate'"
      ]
     },
     "execution_count": 46,
     "metadata": {},
     "output_type": "execute_result"
    }
   ],
   "source": [
    "# Without a given index will pop out the last item, which is pomegranate.\n",
    "fruit_list.pop()"
   ]
  },
  {
   "cell_type": "code",
   "execution_count": 47,
   "metadata": {},
   "outputs": [
    {
     "data": {
      "text/plain": [
       "['apple',\n",
       " 'banana',\n",
       " 'coconut',\n",
       " 'dragon fruit',\n",
       " 'grape',\n",
       " 'watermelon',\n",
       " 'dragon fruit']"
      ]
     },
     "execution_count": 47,
     "metadata": {},
     "output_type": "execute_result"
    }
   ],
   "source": [
    "fruit_list"
   ]
  },
  {
   "cell_type": "markdown",
   "metadata": {},
   "source": [
    "If you already know the **value** of the item that you want to remove, you can also remove it directly by its value.\n",
    "\n",
    "The example below shows how to remove **dragon fruit** by its value."
   ]
  },
  {
   "cell_type": "code",
   "execution_count": 48,
   "metadata": {},
   "outputs": [],
   "source": [
    "fruit_list.remove(\"dragon fruit\")"
   ]
  },
  {
   "cell_type": "code",
   "execution_count": 49,
   "metadata": {},
   "outputs": [
    {
     "data": {
      "text/plain": [
       "['apple', 'banana', 'coconut', 'grape', 'watermelon', 'dragon fruit']"
      ]
     },
     "execution_count": 49,
     "metadata": {},
     "output_type": "execute_result"
    }
   ],
   "source": [
    "fruit_list"
   ]
  },
  {
   "cell_type": "markdown",
   "metadata": {},
   "source": [
    "As you can see, the `remove()` function only remove the first occurrence of the given value. There is another \"dragon fruit\" at the last position."
   ]
  },
  {
   "cell_type": "markdown",
   "metadata": {},
   "source": [
    "#### Problem - remove hated fruits\n",
    "\n",
    "I don't like **apple** and **dragon fruit**. Moreover, I like to add **orange**, **pomelo** and **pear** to the collection. Can you help to modify the list?"
   ]
  },
  {
   "cell_type": "code",
   "execution_count": 50,
   "metadata": {},
   "outputs": [
    {
     "data": {
      "text/plain": [
       "['apple', 'banana', 'coconut', 'grape', 'watermelon', 'dragon fruit']"
      ]
     },
     "execution_count": 50,
     "metadata": {},
     "output_type": "execute_result"
    }
   ],
   "source": [
    "fruit_list = [\"apple\", \"banana\", \"coconut\", \"grape\", \"watermelon\", \"dragon fruit\"]\n",
    "fruit_list"
   ]
  },
  {
   "cell_type": "code",
   "execution_count": 51,
   "metadata": {},
   "outputs": [],
   "source": [
    "# Please write and test your codes in this cell\n"
   ]
  },
  {
   "cell_type": "markdown",
   "metadata": {},
   "source": [
    "Just a reminder that we can iterate through the list with for loop."
   ]
  },
  {
   "cell_type": "code",
   "execution_count": 52,
   "metadata": {},
   "outputs": [
    {
     "data": {
      "text/plain": [
       "['banana', 'coconut', 'grape', 'watermelon', 'orange', 'pomelo', 'pear']"
      ]
     },
     "execution_count": 52,
     "metadata": {},
     "output_type": "execute_result"
    }
   ],
   "source": [
    "fruit_list = [\"banana\", \"coconut\", \"grape\", \"watermelon\", \"orange\", \"pomelo\", \"pear\"]\n",
    "fruit_list"
   ]
  },
  {
   "cell_type": "code",
   "execution_count": 53,
   "metadata": {},
   "outputs": [
    {
     "name": "stdout",
     "output_type": "stream",
     "text": [
      "banana\n",
      "coconut\n",
      "grape\n",
      "watermelon\n",
      "orange\n",
      "pomelo\n",
      "pear\n"
     ]
    }
   ],
   "source": [
    "for fruit in fruit_list:\n",
    "    print(fruit)"
   ]
  },
  {
   "cell_type": "markdown",
   "metadata": {},
   "source": [
    "Use `for` loop and indeces to modify every items in the list.\n",
    "\n",
    "In this case we use the `enumerate()` function introduced in the iterator_and_loop lecture to change the first character to uppercase."
   ]
  },
  {
   "cell_type": "code",
   "execution_count": 54,
   "metadata": {},
   "outputs": [
    {
     "data": {
      "text/plain": [
       "['Banana', 'Coconut', 'Grape', 'Watermelon', 'Orange', 'Pomelo', 'Pear']"
      ]
     },
     "execution_count": 54,
     "metadata": {},
     "output_type": "execute_result"
    }
   ],
   "source": [
    "for idx, fruit in enumerate(fruit_list):\n",
    "    fruit_list[idx] = fruit.capitalize()\n",
    "fruit_list"
   ]
  },
  {
   "cell_type": "markdown",
   "metadata": {},
   "source": [
    "### Sort and reverse a list"
   ]
  },
  {
   "cell_type": "markdown",
   "metadata": {},
   "source": [
    "Sort a list by `sorted(list)`. The function will return a new list which have been sorted in ascending order.\n",
    "\n",
    "If you want to keep it permenantly, you have to assign it to a new variable or overwrite the original one."
   ]
  },
  {
   "cell_type": "code",
   "execution_count": 55,
   "metadata": {},
   "outputs": [
    {
     "data": {
      "text/plain": [
       "[3, 88, 2, 5, 110, 25, 5]"
      ]
     },
     "execution_count": 55,
     "metadata": {},
     "output_type": "execute_result"
    }
   ],
   "source": [
    "numerical_list = [3, 88, 2, 5, 110, 25, 5]\n",
    "numerical_list"
   ]
  },
  {
   "cell_type": "code",
   "execution_count": 56,
   "metadata": {},
   "outputs": [
    {
     "data": {
      "text/plain": [
       "[2, 3, 5, 5, 25, 88, 110]"
      ]
     },
     "execution_count": 56,
     "metadata": {},
     "output_type": "execute_result"
    }
   ],
   "source": [
    "sorted(numerical_list)"
   ]
  },
  {
   "cell_type": "code",
   "execution_count": 57,
   "metadata": {},
   "outputs": [
    {
     "data": {
      "text/plain": [
       "[3, 88, 2, 5, 110, 25, 5]"
      ]
     },
     "execution_count": 57,
     "metadata": {},
     "output_type": "execute_result"
    }
   ],
   "source": [
    "# The original list remains the same\n",
    "numerical_list"
   ]
  },
  {
   "cell_type": "markdown",
   "metadata": {},
   "source": [
    "There is another way to do sorting. You can use `list.sort()` to directly sort the list in-place."
   ]
  },
  {
   "cell_type": "code",
   "execution_count": 58,
   "metadata": {},
   "outputs": [],
   "source": [
    "numerical_list.sort()"
   ]
  },
  {
   "cell_type": "code",
   "execution_count": 59,
   "metadata": {},
   "outputs": [
    {
     "data": {
      "text/plain": [
       "[2, 3, 5, 5, 25, 88, 110]"
      ]
     },
     "execution_count": 59,
     "metadata": {},
     "output_type": "execute_result"
    }
   ],
   "source": [
    "numerical_list"
   ]
  },
  {
   "cell_type": "markdown",
   "metadata": {},
   "source": [
    "If you want to reverse the list, do it with list.reverse()."
   ]
  },
  {
   "cell_type": "code",
   "execution_count": 60,
   "metadata": {},
   "outputs": [],
   "source": [
    "numerical_list.reverse()"
   ]
  },
  {
   "cell_type": "code",
   "execution_count": 61,
   "metadata": {},
   "outputs": [
    {
     "data": {
      "text/plain": [
       "[110, 88, 25, 5, 5, 3, 2]"
      ]
     },
     "execution_count": 61,
     "metadata": {},
     "output_type": "execute_result"
    }
   ],
   "source": [
    "numerical_list"
   ]
  },
  {
   "cell_type": "markdown",
   "metadata": {},
   "source": [
    "In fact, the reverse feature is integrated in both `sorted()` and `list.sort()`.\n",
    "You can use the reverse argument in both function to sort it in descending order."
   ]
  },
  {
   "cell_type": "code",
   "execution_count": 62,
   "metadata": {},
   "outputs": [
    {
     "data": {
      "text/plain": [
       "[3, 88, 2, 5, 110, 25, 5]"
      ]
     },
     "execution_count": 62,
     "metadata": {},
     "output_type": "execute_result"
    }
   ],
   "source": [
    "numerical_list = [3, 88, 2, 5, 110, 25, 5]\n",
    "numerical_list"
   ]
  },
  {
   "cell_type": "code",
   "execution_count": 63,
   "metadata": {},
   "outputs": [
    {
     "data": {
      "text/plain": [
       "[110, 88, 25, 5, 5, 3, 2]"
      ]
     },
     "execution_count": 63,
     "metadata": {},
     "output_type": "execute_result"
    }
   ],
   "source": [
    "sorted(numerical_list, reverse=True)"
   ]
  },
  {
   "cell_type": "code",
   "execution_count": 64,
   "metadata": {},
   "outputs": [],
   "source": [
    "numerical_list.sort(reverse=True)"
   ]
  },
  {
   "cell_type": "code",
   "execution_count": 65,
   "metadata": {},
   "outputs": [
    {
     "data": {
      "text/plain": [
       "[110, 88, 25, 5, 5, 3, 2]"
      ]
     },
     "execution_count": 65,
     "metadata": {},
     "output_type": "execute_result"
    }
   ],
   "source": [
    "numerical_list"
   ]
  },
  {
   "cell_type": "markdown",
   "metadata": {},
   "source": [
    "#### Problem - get those largest ones\n",
    "\n",
    "Please retrieve the 10 of the most largest values from `random_integers`."
   ]
  },
  {
   "cell_type": "code",
   "execution_count": 66,
   "metadata": {},
   "outputs": [
    {
     "data": {
      "text/plain": [
       "[57,\n",
       " 41,\n",
       " 11,\n",
       " 11,\n",
       " 62,\n",
       " 3,\n",
       " 80,\n",
       " 51,\n",
       " 100,\n",
       " 85,\n",
       " 23,\n",
       " 52,\n",
       " 24,\n",
       " 62,\n",
       " 55,\n",
       " 29,\n",
       " 87,\n",
       " 33,\n",
       " 91,\n",
       " 12,\n",
       " 1,\n",
       " 10,\n",
       " 28,\n",
       " 89,\n",
       " 85,\n",
       " 93,\n",
       " 92,\n",
       " 28,\n",
       " 74,\n",
       " 96,\n",
       " 50,\n",
       " 32,\n",
       " 27,\n",
       " 38,\n",
       " 26,\n",
       " 12,\n",
       " 65,\n",
       " 8,\n",
       " 88,\n",
       " 41,\n",
       " 1,\n",
       " 5,\n",
       " 22,\n",
       " 12,\n",
       " 42,\n",
       " 59,\n",
       " 64,\n",
       " 21,\n",
       " 20,\n",
       " 26,\n",
       " 50,\n",
       " 18,\n",
       " 70,\n",
       " 43,\n",
       " 39,\n",
       " 34,\n",
       " 100,\n",
       " 46,\n",
       " 31,\n",
       " 57,\n",
       " 88,\n",
       " 24,\n",
       " 17,\n",
       " 98,\n",
       " 78,\n",
       " 77,\n",
       " 7,\n",
       " 53,\n",
       " 56,\n",
       " 63,\n",
       " 100,\n",
       " 41,\n",
       " 47,\n",
       " 76,\n",
       " 90,\n",
       " 47,\n",
       " 51,\n",
       " 80,\n",
       " 36,\n",
       " 82,\n",
       " 61,\n",
       " 68,\n",
       " 19,\n",
       " 15,\n",
       " 4,\n",
       " 47,\n",
       " 39,\n",
       " 69,\n",
       " 73,\n",
       " 63,\n",
       " 60,\n",
       " 82,\n",
       " 18,\n",
       " 88,\n",
       " 69,\n",
       " 13,\n",
       " 38,\n",
       " 59,\n",
       " 53,\n",
       " 32]"
      ]
     },
     "execution_count": 66,
     "metadata": {},
     "output_type": "execute_result"
    }
   ],
   "source": [
    "random_integers = random_integers_original.copy()\n",
    "random_integers"
   ]
  },
  {
   "cell_type": "code",
   "execution_count": 67,
   "metadata": {},
   "outputs": [],
   "source": [
    "# Please write and test your codes in this cell\n"
   ]
  },
  {
   "cell_type": "markdown",
   "metadata": {},
   "source": [
    "### Copy a list\n",
    "We'll demonstrate how to copy a list and why it is so important. Let's check out our fruit list."
   ]
  },
  {
   "cell_type": "code",
   "execution_count": 68,
   "metadata": {},
   "outputs": [
    {
     "data": {
      "text/plain": [
       "['apple',\n",
       " 'banana',\n",
       " 'coconut',\n",
       " 'grape',\n",
       " 'watermelon',\n",
       " 'dragon fruit',\n",
       " 'orange',\n",
       " 'pomelo',\n",
       " 'pear']"
      ]
     },
     "execution_count": 68,
     "metadata": {},
     "output_type": "execute_result"
    }
   ],
   "source": [
    "fruit_list = [\"apple\", \"banana\", \"coconut\", \"grape\", \"watermelon\", \"dragon fruit\", \"orange\", \"pomelo\", \"pear\"]\n",
    "fruit_list"
   ]
  },
  {
   "cell_type": "markdown",
   "metadata": {},
   "source": [
    "Intuitively, you would probably think that I can do the following to copy the `fruit_list` to another `new_fruit_list`."
   ]
  },
  {
   "cell_type": "code",
   "execution_count": 69,
   "metadata": {},
   "outputs": [],
   "source": [
    "new_fruit_list = fruit_list"
   ]
  },
  {
   "cell_type": "markdown",
   "metadata": {},
   "source": [
    "Let's try to remove \"apple\" from the `new_fruit_list` and see what happen."
   ]
  },
  {
   "cell_type": "code",
   "execution_count": 70,
   "metadata": {},
   "outputs": [],
   "source": [
    "new_fruit_list.remove(\"apple\")"
   ]
  },
  {
   "cell_type": "code",
   "execution_count": 71,
   "metadata": {},
   "outputs": [
    {
     "data": {
      "text/plain": [
       "['banana',\n",
       " 'coconut',\n",
       " 'grape',\n",
       " 'watermelon',\n",
       " 'dragon fruit',\n",
       " 'orange',\n",
       " 'pomelo',\n",
       " 'pear']"
      ]
     },
     "execution_count": 71,
     "metadata": {},
     "output_type": "execute_result"
    }
   ],
   "source": [
    "new_fruit_list"
   ]
  },
  {
   "cell_type": "code",
   "execution_count": 72,
   "metadata": {},
   "outputs": [
    {
     "data": {
      "text/plain": [
       "['banana',\n",
       " 'coconut',\n",
       " 'grape',\n",
       " 'watermelon',\n",
       " 'dragon fruit',\n",
       " 'orange',\n",
       " 'pomelo',\n",
       " 'pear']"
      ]
     },
     "execution_count": 72,
     "metadata": {},
     "output_type": "execute_result"
    }
   ],
   "source": [
    "fruit_list"
   ]
  },
  {
   "cell_type": "markdown",
   "metadata": {},
   "source": [
    "The item \"apple\" was gone from both lists. Why is this the case?\n",
    "\n",
    "Remember that **Python is an object-oriented language.** Are these 2 lists different objects? Or are they actually pointing to the same thing?"
   ]
  },
  {
   "cell_type": "code",
   "execution_count": 74,
   "metadata": {},
   "outputs": [
    {
     "name": "stdout",
     "output_type": "stream",
     "text": [
      "fruit_list is: 140292624213696\n",
      "new_fruit_list is: 140292624213696\n",
      "They point to the same object.\n"
     ]
    }
   ],
   "source": [
    "print(\"fruit_list is:\", id(fruit_list))\n",
    "print(\"new_fruit_list is:\", id(new_fruit_list))\n",
    "\n",
    "if fruit_list is new_fruit_list:\n",
    "    print(\"They point to the same object.\")\n",
    "else:\n",
    "    print(\"They are different objects.\")"
   ]
  },
  {
   "cell_type": "markdown",
   "metadata": {},
   "source": [
    "As you can see, they are actually pointing to the same object.\n",
    "\n",
    "Now let's try again and use `list.copy()` to copy the fruit_list to new_fruit_list."
   ]
  },
  {
   "cell_type": "code",
   "execution_count": 75,
   "metadata": {},
   "outputs": [
    {
     "data": {
      "text/plain": [
       "['apple',\n",
       " 'banana',\n",
       " 'coconut',\n",
       " 'grape',\n",
       " 'watermelon',\n",
       " 'dragon fruit',\n",
       " 'orange',\n",
       " 'pomelo',\n",
       " 'pear']"
      ]
     },
     "execution_count": 75,
     "metadata": {},
     "output_type": "execute_result"
    }
   ],
   "source": [
    "fruit_list = [\"apple\", \"banana\", \"coconut\", \"grape\", \"watermelon\", \"dragon fruit\", \"orange\", \"pomelo\", \"pear\"]\n",
    "fruit_list"
   ]
  },
  {
   "cell_type": "code",
   "execution_count": 76,
   "metadata": {},
   "outputs": [],
   "source": [
    "new_fruit_list = fruit_list.copy()"
   ]
  },
  {
   "cell_type": "code",
   "execution_count": 79,
   "metadata": {},
   "outputs": [
    {
     "name": "stdout",
     "output_type": "stream",
     "text": [
      "fruit_list is: 140292627729472\n",
      "new_fruit_list is: 140292624224832\n",
      "They are different objects.\n"
     ]
    }
   ],
   "source": [
    "print(\"fruit_list is:\", id(fruit_list))\n",
    "print(\"new_fruit_list is:\", id(new_fruit_list))\n",
    "\n",
    "if fruit_list is new_fruit_list:\n",
    "    print(\"They point to the same object.\")\n",
    "else:\n",
    "    print(\"They are different objects.\")"
   ]
  },
  {
   "cell_type": "code",
   "execution_count": 80,
   "metadata": {},
   "outputs": [],
   "source": [
    "new_fruit_list.remove(\"apple\")"
   ]
  },
  {
   "cell_type": "code",
   "execution_count": 81,
   "metadata": {},
   "outputs": [
    {
     "data": {
      "text/plain": [
       "['banana',\n",
       " 'coconut',\n",
       " 'grape',\n",
       " 'watermelon',\n",
       " 'dragon fruit',\n",
       " 'orange',\n",
       " 'pomelo',\n",
       " 'pear']"
      ]
     },
     "execution_count": 81,
     "metadata": {},
     "output_type": "execute_result"
    }
   ],
   "source": [
    "new_fruit_list"
   ]
  },
  {
   "cell_type": "code",
   "execution_count": 82,
   "metadata": {},
   "outputs": [
    {
     "data": {
      "text/plain": [
       "['apple',\n",
       " 'banana',\n",
       " 'coconut',\n",
       " 'grape',\n",
       " 'watermelon',\n",
       " 'dragon fruit',\n",
       " 'orange',\n",
       " 'pomelo',\n",
       " 'pear']"
      ]
     },
     "execution_count": 82,
     "metadata": {},
     "output_type": "execute_result"
    }
   ],
   "source": [
    "# The \"apple\" remains\n",
    "fruit_list"
   ]
  },
  {
   "cell_type": "markdown",
   "metadata": {},
   "source": [
    "## Tuple\n",
    "\n",
    "`Tuple` is quite similar to `list`. Both of them are array-like objects that can be used to store and access data.\n",
    "\n",
    "To be more consise, `List` is a `dynamic array` that you can change, add or delete items from it quite easily.\n",
    "On the other hand, `Tuple` is kind of a `fix-length array` and it cannot be changed after being created."
   ]
  },
  {
   "cell_type": "code",
   "execution_count": 83,
   "metadata": {},
   "outputs": [],
   "source": [
    "numerical_tuple = (3, 88, 2, 5, 110, 25, 5)"
   ]
  },
  {
   "cell_type": "markdown",
   "metadata": {},
   "source": [
    "Tuple is **immutable**. You are not able to change/delete the items or add new items to it."
   ]
  },
  {
   "cell_type": "code",
   "execution_count": 84,
   "metadata": {},
   "outputs": [
    {
     "ename": "TypeError",
     "evalue": "'tuple' object does not support item assignment",
     "output_type": "error",
     "traceback": [
      "\u001b[0;31m---------------------------------------------------------------------------\u001b[0m",
      "\u001b[0;31mTypeError\u001b[0m                                 Traceback (most recent call last)",
      "\u001b[1;32m/home/chtsai/GEN220_2023_examples/python_notebook/data_structure.ipynb Cell 118\u001b[0m line \u001b[0;36m1\n\u001b[0;32m----> <a href='vscode-notebook-cell://wsl%2Barch/home/chtsai/GEN220_2023_examples/python_notebook/data_structure.ipynb#Y356sdnNjb2RlLXJlbW90ZQ%3D%3D?line=0'>1</a>\u001b[0m numerical_tuple[\u001b[39m0\u001b[39;49m] \u001b[39m=\u001b[39m \u001b[39m100\u001b[39m\n",
      "\u001b[0;31mTypeError\u001b[0m: 'tuple' object does not support item assignment"
     ]
    }
   ],
   "source": [
    "numerical_tuple[0] = 100"
   ]
  },
  {
   "cell_type": "code",
   "execution_count": 85,
   "metadata": {},
   "outputs": [
    {
     "ename": "TypeError",
     "evalue": "'tuple' object doesn't support item deletion",
     "output_type": "error",
     "traceback": [
      "\u001b[0;31m---------------------------------------------------------------------------\u001b[0m",
      "\u001b[0;31mTypeError\u001b[0m                                 Traceback (most recent call last)",
      "\u001b[1;32m/home/chtsai/GEN220_2023_examples/python_notebook/data_structure.ipynb Cell 119\u001b[0m line \u001b[0;36m1\n\u001b[0;32m----> <a href='vscode-notebook-cell://wsl%2Barch/home/chtsai/GEN220_2023_examples/python_notebook/data_structure.ipynb#Y413sdnNjb2RlLXJlbW90ZQ%3D%3D?line=0'>1</a>\u001b[0m \u001b[39mdel\u001b[39;00m numerical_tuple[\u001b[39m-\u001b[39m\u001b[39m1\u001b[39m]\n",
      "\u001b[0;31mTypeError\u001b[0m: 'tuple' object doesn't support item deletion"
     ]
    }
   ],
   "source": [
    "del numerical_tuple[-1]"
   ]
  },
  {
   "cell_type": "code",
   "execution_count": 86,
   "metadata": {},
   "outputs": [
    {
     "ename": "AttributeError",
     "evalue": "'tuple' object has no attribute 'append'",
     "output_type": "error",
     "traceback": [
      "\u001b[0;31m---------------------------------------------------------------------------\u001b[0m",
      "\u001b[0;31mAttributeError\u001b[0m                            Traceback (most recent call last)",
      "\u001b[1;32m/home/chtsai/GEN220_2023_examples/python_notebook/data_structure.ipynb Cell 120\u001b[0m line \u001b[0;36m1\n\u001b[0;32m----> <a href='vscode-notebook-cell://wsl%2Barch/home/chtsai/GEN220_2023_examples/python_notebook/data_structure.ipynb#Y402sdnNjb2RlLXJlbW90ZQ%3D%3D?line=0'>1</a>\u001b[0m numerical_tuple\u001b[39m.\u001b[39;49mappend(\u001b[39m100\u001b[39m)\n",
      "\u001b[0;31mAttributeError\u001b[0m: 'tuple' object has no attribute 'append'"
     ]
    }
   ],
   "source": [
    "numerical_tuple.append(100)"
   ]
  },
  {
   "cell_type": "markdown",
   "metadata": {},
   "source": [
    "However, you can concatenate 2 or more tuples to form a *new tuple*.\n",
    "\n",
    "(Note that the new tuple is a different object from the original one. So it still obey the rule that *tuple is immutable*)"
   ]
  },
  {
   "cell_type": "code",
   "execution_count": 87,
   "metadata": {},
   "outputs": [],
   "source": [
    "new_tuple = numerical_tuple + (\"apple\", \"banana\", \"coconut\")"
   ]
  },
  {
   "cell_type": "code",
   "execution_count": 88,
   "metadata": {},
   "outputs": [
    {
     "data": {
      "text/plain": [
       "False"
      ]
     },
     "execution_count": 88,
     "metadata": {},
     "output_type": "execute_result"
    }
   ],
   "source": [
    "numerical_tuple is new_tuple"
   ]
  },
  {
   "cell_type": "markdown",
   "metadata": {},
   "source": [
    "Python does provide a special function `list()` to convert immutable `tuple` into mutable `list`, and another function `tuple()` do the opposite task."
   ]
  },
  {
   "cell_type": "code",
   "execution_count": 89,
   "metadata": {},
   "outputs": [],
   "source": [
    "list_from_tuple = list(numerical_tuple)"
   ]
  },
  {
   "cell_type": "code",
   "execution_count": 90,
   "metadata": {},
   "outputs": [
    {
     "data": {
      "text/plain": [
       "[3, 88, 2, 5, 110, 25, 5]"
      ]
     },
     "execution_count": 90,
     "metadata": {},
     "output_type": "execute_result"
    }
   ],
   "source": [
    "list_from_tuple"
   ]
  },
  {
   "cell_type": "markdown",
   "metadata": {},
   "source": [
    "Now you can modify the items in it!"
   ]
  },
  {
   "cell_type": "code",
   "execution_count": 91,
   "metadata": {},
   "outputs": [],
   "source": [
    "list_from_tuple.append(1)"
   ]
  },
  {
   "cell_type": "code",
   "execution_count": 92,
   "metadata": {},
   "outputs": [
    {
     "data": {
      "text/plain": [
       "[3, 88, 2, 5, 110, 25, 5, 1]"
      ]
     },
     "execution_count": 92,
     "metadata": {},
     "output_type": "execute_result"
    }
   ],
   "source": [
    "list_from_tuple"
   ]
  },
  {
   "cell_type": "code",
   "execution_count": 93,
   "metadata": {},
   "outputs": [],
   "source": [
    "new_tuple = tuple(list_from_tuple)"
   ]
  },
  {
   "cell_type": "code",
   "execution_count": 94,
   "metadata": {},
   "outputs": [
    {
     "data": {
      "text/plain": [
       "(3, 88, 2, 5, 110, 25, 5, 1)"
      ]
     },
     "execution_count": 94,
     "metadata": {},
     "output_type": "execute_result"
    }
   ],
   "source": [
    "new_tuple"
   ]
  },
  {
   "cell_type": "markdown",
   "metadata": {},
   "source": [
    "To be more consisely, the data stored in a `tuple` is **read-only**.\n",
    "\n",
    "If you want to prevent your data from being accidentally overwritten, use `tuple`;\n",
    "if you want to keep modifying your data, use `list`."
   ]
  },
  {
   "cell_type": "markdown",
   "metadata": {},
   "source": [
    "## Dictionary\n",
    "\n",
    "Dictionary is ordered and changable. It stores values in key:value pairs and do not allow duplicates (on keys)."
   ]
  },
  {
   "cell_type": "markdown",
   "metadata": {},
   "source": [
    "### Create a dictionary with key:value pairs\n",
    "\n",
    "You can use curly bracket to create a dictionary. The structure is like:\n",
    "\n",
    "{key1 : value, key2 : value, key3 : value}\n",
    "\n",
    "where key have to be unique."
   ]
  },
  {
   "cell_type": "code",
   "execution_count": 95,
   "metadata": {},
   "outputs": [
    {
     "data": {
      "text/plain": [
       "{'apple': 10, 'banana': 5, 'coconut': 3}"
      ]
     },
     "execution_count": 95,
     "metadata": {},
     "output_type": "execute_result"
    }
   ],
   "source": [
    "fruit_inventory = {\"apple\": 10, \"banana\": 5, \"coconut\": 3}\n",
    "fruit_inventory"
   ]
  },
  {
   "cell_type": "markdown",
   "metadata": {},
   "source": [
    "You can get the value of a particular key with `dict[key]`."
   ]
  },
  {
   "cell_type": "code",
   "execution_count": 96,
   "metadata": {},
   "outputs": [
    {
     "data": {
      "text/plain": [
       "5"
      ]
     },
     "execution_count": 96,
     "metadata": {},
     "output_type": "execute_result"
    }
   ],
   "source": [
    "fruit_inventory[\"banana\"]"
   ]
  },
  {
   "cell_type": "markdown",
   "metadata": {},
   "source": [
    "Add new items to a dictionary."
   ]
  },
  {
   "cell_type": "code",
   "execution_count": 97,
   "metadata": {},
   "outputs": [],
   "source": [
    "fruit_inventory[\"orange\"] = 8"
   ]
  },
  {
   "cell_type": "code",
   "execution_count": 98,
   "metadata": {},
   "outputs": [
    {
     "data": {
      "text/plain": [
       "{'apple': 10, 'banana': 5, 'coconut': 3, 'orange': 8}"
      ]
     },
     "execution_count": 98,
     "metadata": {},
     "output_type": "execute_result"
    }
   ],
   "source": [
    "fruit_inventory"
   ]
  },
  {
   "cell_type": "markdown",
   "metadata": {},
   "source": [
    "What would happened if we add something that is already exist in the dictionary?"
   ]
  },
  {
   "cell_type": "code",
   "execution_count": 99,
   "metadata": {},
   "outputs": [
    {
     "data": {
      "text/plain": [
       "{'apple': 10, 'banana': 5, 'coconut': 3, 'orange': 8}"
      ]
     },
     "execution_count": 99,
     "metadata": {},
     "output_type": "execute_result"
    }
   ],
   "source": [
    "fruit_inventory"
   ]
  },
  {
   "cell_type": "code",
   "execution_count": 100,
   "metadata": {},
   "outputs": [],
   "source": [
    "fruit_inventory[\"apple\"] = 12"
   ]
  },
  {
   "cell_type": "code",
   "execution_count": 101,
   "metadata": {},
   "outputs": [
    {
     "data": {
      "text/plain": [
       "{'apple': 12, 'banana': 5, 'coconut': 3, 'orange': 8}"
      ]
     },
     "execution_count": 101,
     "metadata": {},
     "output_type": "execute_result"
    }
   ],
   "source": [
    "fruit_inventory"
   ]
  },
  {
   "cell_type": "markdown",
   "metadata": {},
   "source": [
    "As you can see, the old value would be replaced by the num value."
   ]
  },
  {
   "cell_type": "markdown",
   "metadata": {},
   "source": [
    "#### Problem - build a genome\n",
    "\n",
    "Say we're processing a genomic data.\n",
    "Can you use a dictionary to record a genome with 4 chromosomes and each contains some genes, like the architecture shown below?\n",
    "\n",
    "- genome\n",
    "    - chr1\n",
    "        - gene_1\n",
    "        - gene_2\n",
    "    - chr2\n",
    "        - gene_3\n",
    "    - chr3\n",
    "        - gene_4\n",
    "        - gene_5\n",
    "    - chr4\n",
    "        - gene_6\n",
    "        - gene_7\n",
    "        - gene_8\n",
    "\n",
    "(hint: You may need to use the skills we learned from list)"
   ]
  },
  {
   "cell_type": "code",
   "execution_count": 102,
   "metadata": {},
   "outputs": [],
   "source": [
    "# Please write and test your codes in this cell\n"
   ]
  },
  {
   "cell_type": "markdown",
   "metadata": {},
   "source": [
    "### Iterate through a dictionary\n",
    "\n",
    "Dictionary is also an iterable. There are 3 ways to iterate through a dictionary:\n",
    "- Iterate through keys\n",
    "- Iterate through values\n",
    "- Iterate thoough key-value pairs"
   ]
  },
  {
   "cell_type": "code",
   "execution_count": 103,
   "metadata": {},
   "outputs": [
    {
     "data": {
      "text/plain": [
       "{'apple': 12, 'banana': 5, 'coconut': 3, 'orange': 8}"
      ]
     },
     "execution_count": 103,
     "metadata": {},
     "output_type": "execute_result"
    }
   ],
   "source": [
    "fruit_inventory = {\"apple\": 12, \"banana\": 5, \"coconut\": 3, \"orange\": 8}\n",
    "fruit_inventory"
   ]
  },
  {
   "cell_type": "markdown",
   "metadata": {},
   "source": [
    "Function `dict.keys()` returns the keys of this dictionary."
   ]
  },
  {
   "cell_type": "code",
   "execution_count": 104,
   "metadata": {},
   "outputs": [
    {
     "data": {
      "text/plain": [
       "dict_keys(['apple', 'banana', 'coconut', 'orange'])"
      ]
     },
     "execution_count": 104,
     "metadata": {},
     "output_type": "execute_result"
    }
   ],
   "source": [
    "fruit_inventory.keys()"
   ]
  },
  {
   "cell_type": "code",
   "execution_count": 105,
   "metadata": {},
   "outputs": [
    {
     "name": "stdout",
     "output_type": "stream",
     "text": [
      "apple\n",
      "banana\n",
      "coconut\n",
      "orange\n"
     ]
    }
   ],
   "source": [
    "for key in fruit_inventory.keys():\n",
    "    print(key)"
   ]
  },
  {
   "cell_type": "markdown",
   "metadata": {},
   "source": [
    "When you iterate through a dictionary object directly, it actually will go over it with its keys."
   ]
  },
  {
   "cell_type": "code",
   "execution_count": 106,
   "metadata": {},
   "outputs": [
    {
     "name": "stdout",
     "output_type": "stream",
     "text": [
      "apple\n",
      "banana\n",
      "coconut\n",
      "orange\n"
     ]
    }
   ],
   "source": [
    "for key in fruit_inventory:\n",
    "    print(key)"
   ]
  },
  {
   "cell_type": "markdown",
   "metadata": {},
   "source": [
    "If you want to iterate through the values, you can use `dict.values()` to get a array of all values and further use a `for` loop to do it."
   ]
  },
  {
   "cell_type": "code",
   "execution_count": 107,
   "metadata": {},
   "outputs": [
    {
     "data": {
      "text/plain": [
       "dict_values([12, 5, 3, 8])"
      ]
     },
     "execution_count": 107,
     "metadata": {},
     "output_type": "execute_result"
    }
   ],
   "source": [
    "fruit_inventory.values()"
   ]
  },
  {
   "cell_type": "code",
   "execution_count": 108,
   "metadata": {},
   "outputs": [
    {
     "name": "stdout",
     "output_type": "stream",
     "text": [
      "12\n",
      "5\n",
      "3\n",
      "8\n"
     ]
    }
   ],
   "source": [
    "for value in fruit_inventory.values():\n",
    "    print(value)"
   ]
  },
  {
   "cell_type": "markdown",
   "metadata": {},
   "source": [
    "If you want the key:value pairs, use `dict.items()` instead."
   ]
  },
  {
   "cell_type": "code",
   "execution_count": 109,
   "metadata": {},
   "outputs": [
    {
     "data": {
      "text/plain": [
       "dict_items([('apple', 12), ('banana', 5), ('coconut', 3), ('orange', 8)])"
      ]
     },
     "execution_count": 109,
     "metadata": {},
     "output_type": "execute_result"
    }
   ],
   "source": [
    "fruit_inventory.items()"
   ]
  },
  {
   "cell_type": "markdown",
   "metadata": {},
   "source": [
    "#### Problem - replenish the inventory\n",
    "\n",
    "Say we want to keep our inventory to at least 10 for each fruit.\n",
    "Can you use a for loop to go through the dictionary `fruit_inventory` and print the fruits and the quantity we need to buy for those which have less than 10 in stock?"
   ]
  },
  {
   "cell_type": "code",
   "execution_count": 110,
   "metadata": {},
   "outputs": [
    {
     "data": {
      "text/plain": [
       "{'apple': 12, 'banana': 5, 'coconut': 3, 'orange': 8}"
      ]
     },
     "execution_count": 110,
     "metadata": {},
     "output_type": "execute_result"
    }
   ],
   "source": [
    "fruit_inventory = {\"apple\": 12, \"banana\": 5, \"coconut\": 3, \"orange\": 8}\n",
    "fruit_inventory\n",
    "\n",
    "# You're expected to print:\n",
    "# banana 5\n",
    "# coconut 7\n",
    "# orange 2"
   ]
  },
  {
   "cell_type": "code",
   "execution_count": 111,
   "metadata": {},
   "outputs": [],
   "source": [
    "# Please write and test your codes in this cell\n"
   ]
  },
  {
   "cell_type": "markdown",
   "metadata": {},
   "source": [
    "## Set\n",
    "\n",
    "Set is unordered and unchangable.\n",
    "However, you can add/remove items to/from it.\n",
    "\n",
    "It also do not allow duplicates. Add an already existed item to a set won't change anything to it."
   ]
  },
  {
   "cell_type": "markdown",
   "metadata": {},
   "source": [
    "### Add and remove item"
   ]
  },
  {
   "cell_type": "code",
   "execution_count": 112,
   "metadata": {},
   "outputs": [
    {
     "data": {
      "text/plain": [
       "{'apple', 'banana', 'coconut'}"
      ]
     },
     "execution_count": 112,
     "metadata": {},
     "output_type": "execute_result"
    }
   ],
   "source": [
    "fruit_set = {\"apple\", \"banana\", \"coconut\"}\n",
    "fruit_set"
   ]
  },
  {
   "cell_type": "markdown",
   "metadata": {},
   "source": [
    "Let's add orange to our collection. You can do this by `set.add()`."
   ]
  },
  {
   "cell_type": "code",
   "execution_count": 113,
   "metadata": {},
   "outputs": [
    {
     "data": {
      "text/plain": [
       "{'apple', 'banana', 'coconut', 'dragon fruit'}"
      ]
     },
     "execution_count": 113,
     "metadata": {},
     "output_type": "execute_result"
    }
   ],
   "source": [
    "fruit_set.add(\"dragon fruit\")\n",
    "fruit_set"
   ]
  },
  {
   "cell_type": "markdown",
   "metadata": {},
   "source": [
    "If you add something that is already in the set, nothing would change."
   ]
  },
  {
   "cell_type": "code",
   "execution_count": 114,
   "metadata": {},
   "outputs": [
    {
     "data": {
      "text/plain": [
       "{'apple', 'banana', 'coconut', 'dragon fruit'}"
      ]
     },
     "execution_count": 114,
     "metadata": {},
     "output_type": "execute_result"
    }
   ],
   "source": [
    "fruit_set.add(\"apple\")\n",
    "fruit_set"
   ]
  },
  {
   "cell_type": "markdown",
   "metadata": {},
   "source": [
    "You can remove an item by `set.remove()` (Just like list. But list allow duplicate so it will only remove the first occurrence of the item)"
   ]
  },
  {
   "cell_type": "code",
   "execution_count": 115,
   "metadata": {},
   "outputs": [
    {
     "data": {
      "text/plain": [
       "{'apple', 'banana', 'coconut'}"
      ]
     },
     "execution_count": 115,
     "metadata": {},
     "output_type": "execute_result"
    }
   ],
   "source": [
    "fruit_set.remove(\"dragon fruit\")\n",
    "fruit_set"
   ]
  },
  {
   "cell_type": "markdown",
   "metadata": {},
   "source": [
    "### Union, intersection and difference\n",
    "\n",
    "Here we have 2 sets - Jason's and mine favorite fruit sets. We will demonstrate how to get the union, intersection and differences of the 2 sets."
   ]
  },
  {
   "cell_type": "code",
   "execution_count": 116,
   "metadata": {},
   "outputs": [],
   "source": [
    "my_set = {\"apple\", \"banana\", \"coconut\", \"orange\", \"pear\"}\n",
    "Jason_set = {\"orange\", \"banana\", \"watermelon\", \"strawberry\", \"pomegranate\"}"
   ]
  },
  {
   "cell_type": "markdown",
   "metadata": {},
   "source": [
    "Use `set1.union(set2)` to get the union of 2 sets."
   ]
  },
  {
   "cell_type": "code",
   "execution_count": 117,
   "metadata": {},
   "outputs": [
    {
     "data": {
      "text/plain": [
       "{'apple',\n",
       " 'banana',\n",
       " 'coconut',\n",
       " 'orange',\n",
       " 'pear',\n",
       " 'pomegranate',\n",
       " 'strawberry',\n",
       " 'watermelon'}"
      ]
     },
     "execution_count": 117,
     "metadata": {},
     "output_type": "execute_result"
    }
   ],
   "source": [
    "my_set.union(Jason_set)"
   ]
  },
  {
   "cell_type": "markdown",
   "metadata": {},
   "source": [
    "Use `set1.intersection(set2)` to get the intersection."
   ]
  },
  {
   "cell_type": "code",
   "execution_count": 118,
   "metadata": {},
   "outputs": [
    {
     "data": {
      "text/plain": [
       "{'banana', 'orange'}"
      ]
     },
     "execution_count": 118,
     "metadata": {},
     "output_type": "execute_result"
    }
   ],
   "source": [
    "my_set.intersection(Jason_set)"
   ]
  },
  {
   "cell_type": "markdown",
   "metadata": {},
   "source": [
    "Use `-` to get the unique values in a particular set.\n",
    "\n",
    "(Note that `set1 - set2` and `set2 - set1` will come up with different results)"
   ]
  },
  {
   "cell_type": "code",
   "execution_count": 119,
   "metadata": {},
   "outputs": [
    {
     "data": {
      "text/plain": [
       "{'apple', 'coconut', 'pear'}"
      ]
     },
     "execution_count": 119,
     "metadata": {},
     "output_type": "execute_result"
    }
   ],
   "source": [
    "my_set - Jason_set"
   ]
  },
  {
   "cell_type": "code",
   "execution_count": 120,
   "metadata": {},
   "outputs": [
    {
     "data": {
      "text/plain": [
       "{'pomegranate', 'strawberry', 'watermelon'}"
      ]
     },
     "execution_count": 120,
     "metadata": {},
     "output_type": "execute_result"
    }
   ],
   "source": [
    "Jason_set - my_set"
   ]
  },
  {
   "cell_type": "markdown",
   "metadata": {},
   "source": [
    "#### Problem - non-overlapped\n",
    "\n",
    "Are you able to get the fruit set that are **not overlapped** between Jason and me? (Like the red regions in the image below)\n",
    "\n",
    "<img src=\"https://upload.wikimedia.org/wikipedia/commons/thumb/4/46/Venn0110.svg/180px-Venn0110.svg.png\" height=100>"
   ]
  },
  {
   "cell_type": "code",
   "execution_count": null,
   "metadata": {},
   "outputs": [],
   "source": [
    "# Please write and test your codes in this cell\n"
   ]
  }
 ],
 "metadata": {
  "kernelspec": {
   "display_name": "base",
   "language": "python",
   "name": "python3"
  },
  "language_info": {
   "codemirror_mode": {
    "name": "ipython",
    "version": 3
   },
   "file_extension": ".py",
   "mimetype": "text/x-python",
   "name": "python",
   "nbconvert_exporter": "python",
   "pygments_lexer": "ipython3",
   "version": "3.8.17"
  }
 },
 "nbformat": 4,
 "nbformat_minor": 2
}
