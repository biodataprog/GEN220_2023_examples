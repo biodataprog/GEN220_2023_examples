{
 "cells": [
  {
   "cell_type": "code",
   "execution_count": 1,
   "id": "f6da464e-5bc6-42a9-b259-f90e5f9826e5",
   "metadata": {},
   "outputs": [
    {
     "name": "stdout",
     "output_type": "stream",
     "text": [
      "own is in there\n",
      "tree is not in there\n"
     ]
    }
   ],
   "source": [
    "string=\"TREEBRANCH IS brown\"\n",
    "\n",
    "if \"own\" in string:\n",
    "    print(\"own is in there\")\n",
    "\n",
    "if \"tree\" in string:\n",
    "    print(\"tree is in there\")\n",
    "else:\n",
    "    print(\"tree is not in there\")"
   ]
  },
  {
   "cell_type": "code",
   "execution_count": 3,
   "id": "def62c66-9512-443b-8e34-d4c24d1687f9",
   "metadata": {},
   "outputs": [
    {
     "name": "stdout",
     "output_type": "stream",
     "text": [
      "image001.jpg starts with image\n",
      "image001.jpg is an image type\n",
      "IMG_981.JPG is an image type\n",
      "fav.gif is an image type\n"
     ]
    }
   ],
   "source": [
    "files = [\"image001.jpg\",\"IMG_981.JPG\",\"fav.gif\",\"news.txt\"]\n",
    "for filename in files:\n",
    "    if filename.startswith(\"image\"):\n",
    "        print(filename,\"starts with image\")\n",
    "    if filename.endswith(\"gif\") or filename.lower().endswith(\".jpg\"):\n",
    "        print(filename,\"is an image type\")"
   ]
  },
  {
   "cell_type": "code",
   "execution_count": 13,
   "id": "8c104e0a-e8fc-4ce3-82df-7dd4b3a02b17",
   "metadata": {},
   "outputs": [
    {
     "name": "stdout",
     "output_type": "stream",
     "text": [
      "this matched with the 'in' operator\n",
      "matched bow\n"
     ]
    }
   ],
   "source": [
    "import re\n",
    "if \"bow\" in \"elbow\":\n",
    "    print(\"this matched with the 'in' operator\")\n",
    "m = re.search(\"bow\",\"elbow\")\n",
    "if m:\n",
    "    print(\"matched bow\")\n",
    "else:\n",
    "    print(\"did not match bow\")"
   ]
  },
  {
   "cell_type": "code",
   "execution_count": 53,
   "id": "d6261375-c8f5-4875-8996-219bfe9a6b57",
   "metadata": {},
   "outputs": [
    {
     "name": "stdout",
     "output_type": "stream",
     "text": [
      "number 1 is true\n",
      "number 2 is true\n",
      "number 3 is false\n",
      "number 4 is true\n",
      "number 5 is false\n",
      "number 6 is false\n",
      "number 7 is true\n",
      "number 8 is false\n",
      "number 9 is true\n",
      "ATGTGTGTG\n",
      "TGTGTGTG\n",
      "TG\n"
     ]
    }
   ],
   "source": [
    "m = re.search('\\d bird', '  8 birds') # true\n",
    "if m:\n",
    "    print(\"number 1 is true\")\n",
    "\n",
    "m = re.search('\\d bird', '1 bird') # true\n",
    "if m:\n",
    "    print(\"number 2 is true\")\n",
    "\n",
    "m = re.search('\\d bird', 'A bird') # false\n",
    "if m:\n",
    "    print(\"number 3 is true\")\n",
    "else:\n",
    "    print(\"number 3 is false\")\n",
    "\n",
    "m = re.search('[123] bird', '1 bird')  # true\n",
    "if m:\n",
    "    print(\"number 4 is true\")\n",
    "else:\n",
    "    print(\"number 4 is false\")\n",
    "\n",
    "m = re.search('[0-3] bird', '4 birds') # false\n",
    "if m:\n",
    "    print(\"number 5 is true\")\n",
    "else:\n",
    "    print(\"number 5 is false\")\n",
    "    \n",
    "m = re.search('\\d bird', '4 Birds') # false\n",
    "if m:\n",
    "    print(\"number 6 is true\")\n",
    "else:\n",
    "    print(\"number 6 is false\")\n",
    "    \n",
    "m = re.search('\\d [Bb]ird', '4 Birds') # true\n",
    "if m:\n",
    "    print(\"number 7 is true\")\n",
    "else:\n",
    "    print(\"number 7 is false\")\n",
    "    \n",
    "m = re.search('^\\d{1,4} [Bb]ird', 'TTT48 Birds') # true\n",
    "if m:\n",
    "    print(\"number 8 is true\")\n",
    "else:\n",
    "    print(\"number 8 is false\")\n",
    "    "
   ]
  },
  {
   "cell_type": "code",
   "execution_count": 49,
   "id": "018bddd5-2673-4446-af80-e6766e861503",
   "metadata": {},
   "outputs": [
    {
     "name": "stdout",
     "output_type": "stream",
     "text": [
      "Group 0 ABABABC\n",
      "Group 1 ABABAB\n",
      "Group 2 AB\n"
     ]
    }
   ],
   "source": [
    "import re\n",
    "m = re.search(\"((AB)+)C\",\"ABABABCDED\")\n",
    "if m:\n",
    "    print(\"Group 0\",m.group(0))\n",
    "    print(\"Group 1\",m.group(1))\n",
    "    print(\"Group 2\",m.group(2))"
   ]
  },
  {
   "cell_type": "code",
   "execution_count": 61,
   "id": "65f8c943-8a3a-4157-95be-98b3e152dc9e",
   "metadata": {},
   "outputs": [
    {
     "name": "stdout",
     "output_type": "stream",
     "text": [
      "number 9 is true\n",
      "ATGTGTGTG\n",
      "TGTGTGTG\n",
      "TG\n",
      "match starts at 2\n",
      "match ends at 11\n",
      "ATGTGTGTG\n"
     ]
    }
   ],
   "source": [
    "strtest='AAATGTGTGTGTAA'\n",
    "m = re.search('A((TG){3,})', strtest) # true\n",
    "if m:\n",
    "    print(\"number 9 is true\")\n",
    "    print(m.group(0))\n",
    "    print(m.group(1))\n",
    "    print(m.group(2))\n",
    "    print(f'match starts at {m.start()}')\n",
    "    print(f'match ends at {m.end()}')\n",
    "    print(strtest[m.start():m.end()])"
   ]
  },
  {
   "cell_type": "code",
   "execution_count": 65,
   "id": "e8283146-09f4-42f4-8102-58243da34dc7",
   "metadata": {},
   "outputs": [
    {
     "name": "stdout",
     "output_type": "stream",
     "text": [
      "ATGTGAGTG\n",
      "TGTGAGTG\n",
      "TG\n",
      "match starts at 2\n",
      "match ends at 11\n",
      "ATGTGAGTG\n"
     ]
    }
   ],
   "source": [
    "strtest='AAATGTGAGTGTTGAA'\n",
    "m = re.search('A((TG|AG){3,})', strtest) # true\n",
    "if m:\n",
    "    print(m.group(0))\n",
    "    print(m.group(1))\n",
    "    print(m.group(2))\n",
    "    print(f'match starts at {m.start()}')\n",
    "    print(f'match ends at {m.end()}')\n",
    "    print(strtest[m.start():m.end()])\n",
    "else:\n",
    "    print(\"no matchy\")"
   ]
  },
  {
   "cell_type": "code",
   "execution_count": 68,
   "id": "1d430142-cb31-4537-9cde-697a908d49d7",
   "metadata": {},
   "outputs": [
    {
     "name": "stdout",
     "output_type": "stream",
     "text": [
      "GAATTC matches 1 sites\n",
      "CC[AT]GG matches 0 sites\n",
      "//\n"
     ]
    }
   ],
   "source": [
    "EcoRI   = \"GAATTC\"\n",
    "EcoRII  = \"CC[AT]GG\"\n",
    "\n",
    "RestrictionEnzymes = [EcoRI, EcoRII]\n",
    "DNA = \"ACAGACGAGAGAATTCGGTAGAT\"\n",
    "for RE in RestrictionEnzymes:\n",
    "   pattern = re.compile(RE)\n",
    "   match = pattern.search(DNA)\n",
    "   count = pattern.findall(DNA)\n",
    "   print(RE,\"matches\", len(count), \"sites\")\n",
    "\n",
    "print(\"//\")"
   ]
  },
  {
   "cell_type": "code",
   "execution_count": 69,
   "id": "e8437e97-1851-4a9d-a110-340e67d87cbd",
   "metadata": {},
   "outputs": [
    {
     "name": "stdout",
     "output_type": "stream",
     "text": [
      "The cat curled up on the couch for a catnap\n",
      "The dog curled up on the couch for a dognap\n",
      "The dog curled up on the couch for a catnap\n"
     ]
    }
   ],
   "source": [
    "import re\n",
    "message=\"The cat curled up on the couch for a catnap\"\n",
    "newmsg = re.sub(r'cat',r'dog',message)\n",
    "print(message)\n",
    "print(newmsg)\n",
    "# only replace first instance\n",
    "newmsg = re.sub(r'cat',r'dog',message,1)\n",
    "print(newmsg)"
   ]
  },
  {
   "cell_type": "code",
   "execution_count": 72,
   "id": "2cf16516-1f41-4acd-a2ff-18add1fc7bfe",
   "metadata": {},
   "outputs": [
    {
     "name": "stdout",
     "output_type": "stream",
     "text": [
      "[TCGA][TCGA][TCGA][TCGA]\n"
     ]
    }
   ],
   "source": []
  },
  {
   "cell_type": "code",
   "execution_count": 79,
   "id": "9db3fa08-f69e-4636-920d-6ff082ebc404",
   "metadata": {},
   "outputs": [
    {
     "name": "stdout",
     "output_type": "stream",
     "text": [
      "name is tpg|BK006934.2|\n",
      "cccacacacaccacacccacacaccacacccacacttttcacatctacctctactctcgctgtcactccttacccggctttctgaccgaaattaaaaaaaaaaaaatgaaaaPREPREcctgttctttagccctacaacacttctacatagccctaaatagccctaaatagccctcatgtacgtctcctccaagccctgttgtctcttacccggatgttcaaccaaaagctacttactacctttattttatgtttactttttataggttgtctttttatcctactctttcccacttgtctctcgctactgccgtgcaacaaacactaaatcaaaacagtgaaatactactacattaaaacgcatattccctagaaaaaaaaatttcttacaatatactatactacacaatacataatcactgactttcgtaacaacaatttccttcactctccaacttctctgctcgaatctctacatagtaatattatatcaaatctaccgtctggaacatcatcgctatccagctctttgtgaaccgctaccatcagcatgtacagcggtaccctcgtgttatctgcagcgagaacttcaacgtttgccaaatcaagccaatgtggtaacaaccacacctccgaaatctgctccaaaagatattccagtttctgccgaaatgttttattgtagaacagccctatcagcatcgacaggaatgccgtccaatgcggcactttagatggggtaactcccagcgcaagctgatctcgcaagtgcattcctagacttaattcatatctgctcctcaactgtcgatgatgcctgctaaactgcagcttgacgtactgcggaccctgcagtccagcgctcgtcatggaacgcaaacgctgaaaaactccaactttctcgagcgcttccacaaagaccgtatcgtcttttgcctcccattcttcctggcactttttctcgtcccagttcaaaaagtactgcagcacctctgtcttcgattcacgcaagttgctccatactttataatacaactctttgatctgccttccagacatgcggaaaacttggctcccttgcttgcctcttgtcgaatccaatacactaattgtttctcttcttctagtaatggccaggtaccaagcataatttctctgtatctgagagtagatctctctcctttttacgctaaaaaatttcaaataccctacagggtccccatgatatggctcgatgtcttccaagtattctttgtattcctcgtcatttcgcagcattctctccacagctagtgcttcccaagccatcctccgatacgatactttctggccagcccaacagacacagagctcgaacatcttttgacagcccttgcataatccgtattgtgtgaatacgccctctgggcagaagtatatgtcaataccatagaggaaaagatgtttaatttcgtcagaccgaaatccaagaaactgtaagacattcatattctcggaagtattgggaaattgtgctttcagtttctttctctctagcaaaaccatttgactccctttccgcttatacggctctttgttaatgtcggtgactggatggaatctattatcctcagcattgccatctttattggcgtcctccttggcactagcgttggtactttcagtggtagtagcattagtgctggagttggtgctagcagtggtagtagcattagtgctggagttggtactttcagtggtagtagcattagtgttggagttggtactttcagtggtagtcgcactagtcctgacgttgatgctggcagtggtagtcgcactagtcctgacgttgatgctggcagtagtagtagcactagtcctgacgttggtgctggcagtggtagtagcattagtgctggagttggtagtcgcattggtactggcgttagtactggcattagcactaccatgaatgcacgtgtcgctgtcctcatcactgctgcaatactttctgtacctgtcactgctattgctctcctggaagctagacggtaacgcaacgatcgacatggaagctgtcgcctgattttcagccaatctgtccattctttctatcagttccactgtgtcagcagacaggtctgtcctggagccacagcatccaacatgctggcccttttttcctttctttgattcaagtccatagaactcgcgtacctgttcggttatacagccttccttaattggtggcaattcacccttacgattccttgcggcccaactgttttttctagataatagataacagagcccccccccccatctcttagtctccctacgccttgaatgagctcaataatattaagtctattatcaagcatgatcaccatcatcaattgcttaatgtcaattccttcagtcactaattttgttccgatgagaactcgcatgctaccgtcagtgacaaactcctttgtgcgagacaccttttctgcagcacccagcttcccgtgtatccataccaccctaaaatactttctccaagagcaggccaattcttccacttcgttggttgtgcttgcaactacaatggccttcgactctggttcactttcaaagagggctaaaagaagcttcagtgcttcttcgggctgtgattccactttcttccgaattttatgaacatgccctaaaggcaccttggatttctccttgattagattaaacatccgtgttggatagctggatagacctctgctgagatcttccgaccgtttgagctcgttgatgtccatcgacttcttggccagtcccgtaagcccaatacgctgcaacgcagcatcagcaacagcctcaggggctgtgccgctcaaaaagattgctttctcaaaagcgtcaaaatcaaggttagttatgcccccaaattgcgactgccggtagacctccgtttcaaagttgtgcaactcatctacaatgaggtaacccaattttacgttgttggtcctaaaggtgcactcaacaatattctcccacgcagctatcctgtctgtgaaattagtgctagcaagatcatcgtagatccccacgtataaatcagtaacgccatcgcaaccttcttcaataaagtttcttacaggggccacattcaagcaaccgcatcggcccaacctgatcatgcaattagcaagcaacactgtgtacggtacaaacagaaacgacacatattccacgtcgcccttagacgccagtgctatcaaggggagatgaaataactccgtcttaccatagcccggtggggcctgtactgccacagagggtgtgtctgccatgtatatttcatgacataagcgcaactgatgcaagtccctgaattcaaaggagctgccaaagagtttctggcctgcgacgaggatatcgtttgtactcttgggctctcggggcctttttcgcgttactcttgaaattttttgatcatgatctgaactcgccgcctcacctgccactacgtcttccgcattccgagtactagagaatgaacaatggtagtcgctttcaaggcctaaccattgaatccagcgctcggaagtgagtccgtcaagcgtctttagtcgaggctccgatgaaccgttcttgttgtatcgtcgacgtatacgttgcgctgtagctctggataacggtaagcgtatcaccgtaagctcgtcaattatttttgagagccgcggtcattttgttagtatctcttctcaacttgggcagcacacatgcaaaacatcacccaatcggtcctttttgttcatcatatcgttacatatctgtgaaaagtactttatctcagtgggtttacgtgggcatagatcacgcttcagccgctctgtgtcgactttcttttcgccaggtaaacttgcttggtatgcagaaaaaatcgatagctcatctacgtgtagtaacaaaaacatgtggggtgccaaattgtacccatatttccttatggtgcttttctgaagactccttacaataggtgcgccagaaacaaagtcagtgaaagtacgcatcgtagagctgtcgttcggcctggcactcgctatttcgtgacaacgttccaggacacggaaactcaactcattatagtatcctctgttgaggtaaaaaagagaaagggtatcgtaatcctttctattgaatttcaaagtatgcactPREPREaacgtgtagaccatcaagttgattttcttgggaataagatactttgaagggattggtccgccctggaaatctggttcgtcttcaacaaacgtcaggaacttttgtacatttttcccgaccatgacggaaacgacaattttttcaaaagaccttttcctatccattgcaccagttctgaattttaccactttgattaggccagacttttcgtcttcgtagaatgaccgcacttccgtggggatcgattcaaataaagttattgagggacaatgtaccaagtcgtttttgttatttagagccgactcaaactcgtcaaagtttgctttttcaaacttacgcctatcggaaactttcattttatttttgtaagtttcgaaattaacaatagtatgttgattgttatgctttttgacaagaaatccatcaatataaacaaaagattgtccagtttccgtcttatcatcatctaagaatgtaataattaagctactctattgagaagaagcagaatctgcgctatgcaggtgcaaatctccagcagcagcaaagaaaattcagttaataagaaatctcactaagataagcgactgtctgtcccaacatagaaaacagaaggatgtctcattcatcgcttgatttccggcctgcaaaaataaagcagtcggtacgtgctttcgttttcaatttccatggtgcacagtatcttaaccgtctgcttagtcgaggagaaccaggattctgttcgttgctcagccgcttcgtggataaattttattaccccgctgaggtagaggagccctttttggcgtaccaagtcacttcctaatgctccatgtcccacccaccatgtPREPREgttgacaaatgatcgtaaataatacacacgtacttacccacacacaccacatgccacactcacttgcacttgtatactggtacggcatacgcacacggatgctacagtatataccactctcaacttaccctactttcacattctactccactccatgacccatctctcactaaatcagtactaaatgcacccacatcattatgcacggcacttgcctcagcggtctataccctgtgccatttacccataacgcccacgattatccacattttaatatctatatctcattcggcggccccaaatattgtataactgctcttaatacatacgttatacctctttttcaccgtatactaaccactcaatttatatacacttatgccaatattacaaaaaaatcaccactaaaatcacctaaacataaaaatattctatccttcaaccatagtacataaacacactcaattgcgtatcaataccaccatgacgtcattaacttaaatgttccttaataccgtcataccactatgctctattccatatattgtaatataactgtactctatagtcatacagacgcttttacttcaccctatcttctcatactattgtcatagaatctcacactgacgcatgattaaaacgaataatttttactataaggcctcccatccgtgctctacccttttgtttgcaatatttatacagaatctcaaagcaagcgggagaagtggtgattacccagatgtcatgcatgatctgagcaccaccgtacctctaggttttgccttgatcaattttacagtgacaccaagcataaggataaaaaatggtattgaaaggttgtccacatttgtaagtaacttggttctatgaatcttcatgtcagatacgtaggacggactctttcctgtgtaaatatttgtgacagctacgtctattttctactagatgtttacacagttttgtcacaggaaatctacgcttaaaatatgtatttcattcaagcggtaaccgctgtacgagcagtgacattgctggtcgcaccttaaatgtaaaccaaagttacggcacaccgtgatgcacccgcattaaagttttgtaaattcgttattacgattatcgagttggctagatagaaaaccggaaatgaaatggatgcccttttcgaatagctgagtttctttgcctaaaatagcccaatattgtttccctttttctatcacgaggttactgagccattgcatgaacgcgcgcgcctcggcggctttttttttctgctgtgctgtataaaagcgaaaagtcagaagttactatttcgaataaaaaacccctcgaactgccatctcactaccgaaaatgaaagagaatgaagtcaaagatgagaaaagcgtagatgtgttatccttcaaacagctcgaattccaaaagaccgttctacctcaagatgttttccgaaacgaattgacctggttttgttatgaaatttacaagtctttagcgtttcgcatctggatgctgttatggctaccacttagcgtctggtggaaactttccagcaattggattcacccacttatagtttcacttcttgtcctgttcctgggaccattttttgtccttgttatttgtggactttctcgtaagcgttccttatcgaaacaactcattcagttttgcaaagagattactgaagacacaccaagttcggatcctcatgattgggaagtcgttgcagcaaatctaaattcgtacttctatgaaaataagacttggaataccaagtacttttttttcaatgccatgagctgccaaaaagcgtttaaaacaacccttctcgaacccttctctttaaaaaaagacgaatctgcaaaggttaagtcatttaaggattccgttccttatatcgaagaggccttgcaagtgtatgctgcaggatttgacaaagagtggaagctgtttaatactgagaaggaagagagtcctttcgacctggaagacattcagctccccaaagaagcttaccgatttaagcttacctggattcttaaaaggattttcaacctgcggtgtttaccactcttcctttattattttttaattgtctacacgtctggaaatgctgaccttatatcacgtttcttgtttccggtagtaatgttttttatcatgacgagagatttccaaaatatgaggatgattgttttatccgtgaaaatggaacacaagatgcagttcttgtcaactattataaatgagcaagaaagtggtgcgaatggatgggacgaaattgcaaagaaaatgaataggtatttgtttgagaaaaaagtctggaataatgaagagtttttctacgatggacttgactgcgaatggttttttaggcgctttttctatcgtctcttatctttaaaaaaacctatgtggtttgcttcgttgaacgttgagctatggccatacattaaagaagcgcaatcggcccgcaatgagaagcccctaaagtaggaacaaatgttccttttccaaaatatactatgtgtagttgatcgaatatcagtaagtcaaaacgtattttacttgtttattattattaatactccttttcgcatatgttttatcactttacaccatacaataaccactaaattcaaaaacacttattttcaatatttgttatagaaaaataaccactaaaatcacctaaatataaaaatattctaccctttagcaataagacPREPREactttacttggggtaagaatactgccatggtgtcattaacatgaaagttcaataatgttttcatactaatcaatatgtacacaggcttcacattagaacatcatatattaaagcggtaacttaaaatccagataatacatttttggtcatataagtgctttttttttgtaggatataatcgcaaatgatatcactacactatgacatattgttgacgtagtaaattacgatttagcttatatgtcataatgtagtaagtttatatatgttatgtaaatgtaagaattacataggtactgtttttgtacacagaagctataatttctcaagtactaccggattagaggtttgctacaatacgttttccactatatgttttctatgtgPREPREattacPREPREattactcatattacgcttttgtgttatcacattaaacatatacatggtaacaaatattactatcacttatcttgcttcatcttatgtaccatacaaaaattactgcgcatatcagagatcattttttcgaacacatatcctgttggggttttgtaaatctttcttatgacctgcctaaggcctttgcaaaacgtttcgcgatccagtcattgataggatcatcttccttggtttggacatattctctgtcaggtaacttttgggcaaaatcttcagtcaaccgaggatctcttacgcagaatgttagaaggaacataggcgctgaaaatacaagcgcaacaataacttcgtatttttgaacgtgtctgtaagcttcaaccatcgcagacctaactggagtaccccagggattggaaagaataaaagttagtggtgagccatatgctgctgtagccaggtcagcgtctcccatgtagtgcaataatttagggtacaatgactgcgtccatatggcaccggaaatggcagctgcaactgctccacctattctgaaaactgtatagtttaatgctgtgacagtagccatattctcatgggatgttaccgactgaatagaaacaattgtaggataatcgaataaacaactactgagaccccaaataaccataccagcaattatacctccatcggcgtcttgacctgacctgtagcggtaaaatagtcccatagtaatgaaataaagtgagccaccaaaaataatatacgacttcaatctagatgatctcgtaacgatgagccccagaaatggagcaacaacagcagtcacaaaagagtataagtttattattcttgtagctgaggaagcgctctcatctaccgcaactactagaatggtgtagagatacccagcagccatttgatatacaaagcagataaaaaacataattcccaatggggcccacacgccacgatcttttagcagcttgaatggagcgaaaggaaccaaagcaagtcgactttcccaatatatgaagcctggaaccaggacaaagccaagcacaaagggcccgataatctttgaatttctccaatttgtagagacgccaccagcaagagtgagtggtacaagaatacaaccaacaccagcagtaaacaacaacacaccgacaacatctagcttccagaacaactgtaccagcatttgtactaatccgtgcgtttgatagtacgatttttcatcctgtaattctttccattccacgtcatttcttactttccatctcatatggagcatacacaaaatcaatgggatacagcatagagggaaaatgaacgcccacatagcaatattccacgaccagttctctaacgggtttgctgcctccactacactacctgagacccacgtagtgataatcgagggccatgaaggtatcaatgtgtaaaatagcctccattttaatgaagaattatcagacaacatcaaaacaacctgtagcataacaccgacaagtcccacataataaaagacagctccagcagcatacctctggacatcatatgcttgagattgaattattgtacccacaatgtaaagtacaatggatacaagaaacaacgttagccttccaaagatatctgataaccctccaaagatcacctgPREPREagcagatatcattagaactatgacgcttactgtagaaatgagagaatgtgcggagtacgagttcattgcgtaggtcatatatgtaccccttatgctgctatctaatccataagcgaaagtgcaaatgaatgcagaaaacaggaatatagcttttaattgccaagtatcatactttttagccattagctcagacttacgaataatcaatgattttgttccctttaatttatctttcatttcatctctgggcgacgaatcgtcatccatcttttcatcaaccatcagttcattacaatttttttcagtattcttacgctttgtttggctagaacgattgtcttctgggacttcgatcatatttcctttggcccaaagagttacaactgtttttggagctcaagtggaaaggacacaagcaaagttcttctaccaggatctcatgtctttatagaaaaaagtaaggtgtaaaaaggctactgggtaaaattcaccacgttatcttcttaacttgcccttagtgaaaagctgtatcatttcagcttctgtgcagattagtgagtaactgtcttagatttgtggaatcggagcacagaaactccagtagggttgttacggactacgttctgaaagtatattccgttttcttaaagcaggtgcaagttactggcataacaggacccatcacttcagccacagctttgcttctaaagatatatacgacatactggtaaagcacggagccctacggacgctcaaagttattcttttttttttgttccttactgtgaactaagaactgcacccattttctgattgcttgcttgagataggtgcttatataccgggtgtttgtatatagcaaaggtagagggagaacggattgcacacaacccggcctgacagggaaatttaatatctgcaggaaagtttcgtatgatcccggacgggagggaaacctttagaatttaataaaagacgatcattggactcacataatttaaattaacaaggaaaaatattgctaggtaggttgtcgacaactcaatatatatgaaaaaaaaagaaagatgctaaaacgaggcttttttcttttggacaaggggagtccaaccgccctgcataagtttattcagcctgtgaatgactataaaccatatatcatacttcttgcttctttatacatttttttcaatggaaatatttatatagaaagggcgctgcgctttttgaggtgaatgttttcatttttcaagttattcagtagcgttacccagttgagtggatagagaattcaagtttaaagctcatctcaaacaaacagtaaaggattctacgcggtacagacttatttcctagtcgagcatgattcgatcattgacatatatcccatctcttgatctaagacttgatcattttctttaaattaagagttttgggcaagtgtaaagcaagggttaaatgattatgtagttatggaagtaccaaattcaagttcgtaagaggcttgctttctactgatatataaaacgctcgaccgattggttcttcaattggtatagctaataactatagctggactaattaagacttcaaggacgtcttacgcaagcgtgggtgattttattattaaacaatttttctgtctctatacgcatatatgttctataacataaatatgtaatggatactaacctttttctgtgattaacttactctttgcgttacacctccatctgactcataaaacaggaagactcagatttattaactttagcatttacgccgcaaatggtaaatgctccggcccgataccctgaaatagcaacatgtacgaaagaaggtattcaactgaagccttttagacagacaagactattggattatcaaggcactatattttaccactacagtaaatacttctgataagaacggcatgaataatcaagtaggttttataatactggtatacattaatataatcaactatttatactatcaaaaaaaaaagcttttttttttttgtttttttaagttttatggaatttcattcgtaaaggcgtttgtctctagtttgtgatagtgtagataccgtccttggatagagcactggagatggctggctttaatctgctggagtaccatggaacaccggtgatcattctggtcacttggtctggggcaataccagtcaacatggtggtgaagtcaccgtagttgaaaacggcttcagcaacttcaaccgggtaggtttcagttgggtgggcggcttggaacatgtagtattgggccaagtgagctctgatatcagagacgtagacacccaattcaaccaagttgactctttcgtcagattgagctagagtggtggttgcggaagcagtagcagcgatggcagcgacaccagcggcgattgaagttagtttgaccattgtatttgttatgtttgttatgtttgttagtgctgatataagcttaacaggaagggaaggaataaagacatattctcaaaggcatatagttgaagcagctctatttatacccatgccttcatcagtcatcactacttaaacgattcgttaacagacgctcatttagtacctcgcatattctccatatctcatctttcacagaatttgattatcactatgaagatgttattgtttttaaacgaggcatgcatctttatagattccgtatgcgaaggtattgttttctggggcctttgtctattcgtatgcgcagaatgtgggaatgcctattataggggtgccagagtgccttataaaacccttttccgtgcctttgaagtttccgttttcggtcaaaaagaatatccgaattttagatttggaccctcgtacagattcttatgtttaagcccatattcaatttgctgtaaacagcctccaatggaagaggtaatactatattatccctctcctgatagtttaattaaaaatagaaaacgtgtattgggagtcgcttatttgtagagtttgtagtttttaagcgttctcaggaaattcattgacgcaattacgtaattgtaggccgctgagaagcagctagtattggaagagccgcgtatggtaaaaaaaaaatgttgagttcagtttgtagcagtactacaactctgtgcggtgggaaaaatttattcttcgaggcacagtatttttcttctagctagatataaagaaaagtgaaaaaggcaatatatggcgctaatgtattttattcaattaaaaactttctgtaggaaatggtattaatagttggtattccttgtagacaaaaccatcgctatattcatggtgacggctcatctctaaagcttcttaaatgtacagtcagctaagtgttctcataagaaagggtttgaagaagtctccgatagcgtgctttagtatgttgacgaaagaaatcaagatctagcttatatgtcataatgaagtaagttatattggagtttttctggtaaattctacaaaagttatgcaacatacttatttctgtcctcttcttactcgtcttgcggccaaaactcgaagaaaaacatacgggccaagaaaaatgatgcaatcctcccagttctagatattcccgcttttaagtcccgaattataacaatataaaaaggatatagaaaatgtaattgttaacttgtggtataaagacaaattcaaaagcaagtgagggcccgctaaggctatgagttcagaattattaatatctaattctaaaccaagaccagaaggattaagaaaattatgcgaaggtgagacagtgatccttccaagggacataacccccagcaaatgcgcttatttcttaaaacagaatatcgtattcatttcatatattttcatccatattattattaccataatcttaaaccgcctggcattatctgcacacggtaatactttgattattatcttagcggctttactaattacaatttcactattccttttactcctcttaccttacttaagctgctcaagatataagttaagatgtttagatgatgattgtaagttcaaactattagcggaagtcattacacataaacctaacatggacttgagcacatgggaccggattgcatatgacatgaaccaatttgtatatgaccgtcgtatatgtgcagatagatcttttttctacgatggcagttattgctatcaggtttttaaaaagttggtggctaccccgtaccttgtgaattccaatatgaatagtatatatgctgatctggagatgagaagtaatggagcaaccaacattaacgattctggtaatagttcattacacatcgaattgggcacttatatttttaaagcattggccgttttcaggaactctgttgacaagtactgggaggataagtatccagagatgggggtcacagtttgattggaaggtatttctaggttctactttagttttttataacgcatccagtacaaagaaatgatattggtatttggaaaagtcattgaatattcttgaatagattataagtgagcttcctttctgtatcaggatatgtggcttaactttaaactcgtataataaaagtactcgtatttttgtgggatgtttgcctccgtaaatttataaatggcaacaggaacactattataatgtaatgttacaatattacttttactgtataagtttaatgctttataaaactagatggcagcttctaagttgtggcttgtgtcggaggttcaagctgtcctccaagttcagcgcagcgattatttgcaaattatctacgtaaggactatataaacgtttcgatgccctctcttcacatcttttgtgtcgaacctcgaacatcgagcatgcattgtccatttttgagccagtttctgcttattctcgtatttcaacaataatgttgttgcataatgtacgcacactttgtgcggcattttatagcttacagatacagatgaatttacgagctgtataaaagaactacaaggaagttgtaactgcaaaaaaatgtcaccgggacgatatcatcacaaatatggagggccgcaaaagtgaagatgaaaagaacgaagccgctttagcctgtgatgtctttgaatcctccaatgccaaactaccaaagaatgtattcagaagttcctttacttggtattgctatgaagttatcaataggtcagcattccatatttggttattgttatgtttaacgctcattgttggttggaaggttttttcaggcatcggtggtagaagaccatctgactcaaacatggacggcccccaaaccaaacataaacggaatccaggttttttgaggcgtcattcgaccatcgttatcttagttatatctttagcagtgtctttctcatgggaagctttcaaaatgtatcgtgaacgcaccttcgggaaacaaatcactcagtttgccaaagaaattattaaaagtgcgccaagcacagatatggaaagctgggaccgtgttgcagcggattttaactcttatatgtacgaaaataaactttggaacacagaatactttttttgttgatggttctagctgccatgtagcatttaggagaacccttctatggatttcctcaagaattgacggcgactataaaatagaatattttaggaaacacccttatattgaagaagcccttaaagtatattttgcagaagtggatagaaagtggaatttaaatacttctcagcaattgttaagcaatatttcggttggaaatatcaaacttcctggtcaatcatgtcgtttcaaattatttcatattttcaagaaagtcaPREPREagcgtttttctcaagtagcaactgttatattcttcgtcatgagtatccgttctccaagaaatctcggctttttttttactcttgccctttttgtcgtacttgtttgctcccaggaatggttctcctttgaaatgaatagatcttgttcaatgaaagtggaacatagaatgcaatttttgtcaactataatcagtgaacatcagaaatcggatgtgaattgttgggaccaaatcgcaaagaagatgaatgtatacttatttgagcagaaagtttccggctcagacgtgtttttcttagatggagcagattgtgagcgctttttcgaacgtaatttcctccgttatctaccctcaagaaagtcttcccatcctgacctaccaattgctgaattgttgccgtatatcagaaaagccgacattgcctgtgctggtaagcaattgatttaactactgaagtttgcctttggtttgaaaaataattctgccagccagacatgtttttaatagcgctaacctaaataataataaacagcagtgcgtaatagacttaPREPREtacctgataattagtttgacgtttcacttcgcagccttttctggtctggccacaagactatatggcatcaagaaaggtgtttacgtttataacacacgtattgtacaagctttctgcgttggctttagtgtctgtagaaaattatagaaaattctaattatgttttaaggttaagtgctagtggtgctcaaaataaaaaactgtttagtaactgctcgtgtaaaatggaagtactccaaaagtcccttttcttactgaattgcgccgattttaaccttttaattcggatgttttatgtttttttttctacaattgcacccgtttagtccaaggcatattacatttcgatctgagtttaatgaataggaagaatttattacatagcataccagtcccttttaatggcaccatattttgtgcatatgPREPREattggtaggccacagtgcagatcacacacatcagtagcgcataattatttttttgcctgttcaatttaactctgcgcaaatagcgcatctctatacgcacatatccgatttcagcacgaactatactgcgggaactgtaaaactaaaagacatggtaataattttcatgtttttcaatcccttacaatggacaatctagccaatgtccgaatctgtaaaagcggtagatgaagagattacgaagacaggcaagtgaaagattaagataacttgctacaacatatgaaaaggcttactttaggcttcaggcaccctatagaggccaaccacttaataaattcttggcgtagtgcaatcaagcagtgaacagaaacaaatcacatgtttccttggcagaatgctcatataaatgatgacgtaatttttacaagaatgccatatattaactttttagggccaaattaagattgagttgaaatattcatttttacactactaatctttttgaatgcgcgcagttttctaagtatcaagctctctgcaatcttgtatgaaagatgcagctaggcacataggaaatgagaaatcatagttatttttatttttatttctctccgtaaatatgcacttcatacaaacaaggaaaaaatatgatcaaagaaaggcaaaaatagtaagttcaggcaatatagagaaaataatttatttctacaagtagaggggcgcagtagaatgcatttgtatagcatagccaagtcaacaacaatactgcgttttctaaggcatattttattgccatttttgcatctctctattcattttactagttgcttgtgcagaataatctatgttggctggaaaagtttttggaaacatttttttttttgcgggcataaaataaaaactccgctgttcatcgcttcctacgcaatgttcttagccaagcaaaaaattatagttacaatgtttgaggtttcttccgttctagagaaactgccgcagaatattttactgtttcactaccctcttccttccaaaatgggaaataatttattaatgtcgttcttaacacaaagatcgatcgatgaaaaggaaattgatgcattattacatcctaatgcggtctatcgtttctgcaatatgagaaccacattcagaacattatcctcatatggcaaataaacgagatatcaagataccggacccccttttttacagtagataaaccggagaataccagagtattttccaaatatagaaagaaaagggttatttctaatt\n"
     ]
    }
   ],
   "source": [
    "import itertools, sys, re, os\n",
    "Chr8=\"http://sgd-archive.yeastgenome.org/sequence/S288C_reference/chromosomes/fasta/chr08.fsa\"\n",
    "\n",
    "PREsite=r'TGA[AT]AC'\n",
    "REPLACE='PREPRE'\n",
    "Chr8File=\"chr08.fsa\"\n",
    "#if not os.path.exists(Chr8File):\n",
    "#    os.system(f\"curl -O {Chr8}\")\n",
    "\n",
    "Chr8File=\"/bigdata/gen220/shared/data/chr08.fsa\"\n",
    "# define what a header looks like in FASTA format\n",
    "def isheader(line):\n",
    "    return line[0] == '>'\n",
    "\n",
    "def aspairs(f):\n",
    "    seq_id = ''\n",
    "    sequence = ''\n",
    "    for header,group in itertools.groupby(f, isheader):\n",
    "        if header:\n",
    "            line = next(group)\n",
    "            seq_id = line[1:].split()[0]\n",
    "        else:\n",
    "            sequence = ''.join(line.strip() for line in group)\n",
    "            yield seq_id, sequence\n",
    "\n",
    "with open(Chr8File,\"rt\") as fh:\n",
    "    seqs = aspairs(fh)\n",
    "    for seqinfo in seqs:\n",
    "        name = seqinfo[0]\n",
    "        print(f'name is {name}')\n",
    "        seqstr = seqinfo[1].lower()\n",
    "        newseq=re.sub(PREsite,REPLACE,seqstr,flags=re.IGNORECASE)\n",
    "        print(newseq)"
   ]
  },
  {
   "cell_type": "code",
   "execution_count": 82,
   "id": "bc868c9b-ff7e-461d-a1e0-d37ef226f42c",
   "metadata": {},
   "outputs": [
    {
     "name": "stdout",
     "output_type": "stream",
     "text": [
      "GAATTC matches 26 sites\n",
      "//\n",
      "ATCGAT matches 21 sites\n",
      "//\n",
      "CCT[ACGT]AGG matches 25 sites\n",
      "//\n",
      "GGCC matches 407 sites\n",
      "//\n",
      "CC[AT]GG matches 205 sites\n",
      "//\n"
     ]
    }
   ],
   "source": [
    "# import the regular expression library\n",
    "import re\n",
    "import random\n",
    "random.seed(11017) # initialize the starting seed - we will all have basically same result this way\n",
    "\n",
    "# a random DNA sequence generator\n",
    "def rand_DNA (length):\n",
    "    rand_DNA=\"\"\n",
    "    bases = ['A', 'C', 'G', 'T' ]\n",
    "    base_ct = len(bases)\n",
    "    for n in range(length):\n",
    "        rand_DNA += bases[random.randint(0,base_ct-1)]\n",
    "\n",
    "    return rand_DNA\n",
    "\n",
    "\n",
    "# lets initialize a pattern we want to match\n",
    "# let's use the PRE motif which is a binding site for\n",
    "# a transcription factor\n",
    "# based on this paper:\n",
    "#\n",
    "\n",
    "EcoRI   = \"GAATTC\"\n",
    "Bsu15I  = \"ATCGAT\"\n",
    "Bsu36I  = \"CCT[ACGT]AGG\"\n",
    "BsuRI   = \"GGCC\"\n",
    "EcoRII  = \"CC[AT]GG\"\n",
    "\n",
    "RestrictionEnzymes = [EcoRI, Bsu15I, Bsu36I,\n",
    "                      BsuRI, EcoRII]\n",
    "\n",
    "# Now let's search for this element in DNA sequence\n",
    "\n",
    "DNA = rand_DNA(100000)\n",
    "#print DNA\n",
    "for RE in RestrictionEnzymes:\n",
    "    pattern = re.compile(RE)\n",
    "    match = pattern.search(DNA)\n",
    "    count = pattern.findall(DNA)\n",
    "    print(RE,\"matches\", len(count), \"sites\")\n",
    "#    while match:\n",
    "#        print match.group(0), match.start(), match.end()\n",
    "#        match = pattern.search(DNA,match.end()+1)\n",
    "\n",
    "    print( \"//\")"
   ]
  },
  {
   "cell_type": "code",
   "execution_count": 110,
   "id": "180c145b-7147-491a-8868-b1305c7eb6be",
   "metadata": {},
   "outputs": [
    {
     "name": "stdout",
     "output_type": "stream",
     "text": [
      "10000 or 10000\n",
      "{'C': 0.1267, 'A': 0.368, 'G': 0.1199, 'T': 0.3854}\n",
      "GC % is 0.2466\n"
     ]
    }
   ],
   "source": [
    "import random\n",
    "random.seed(11011) # initialize the starting seed - we will all have basically same result this way\n",
    "\n",
    "# a random DNA sequence generator\n",
    "def rand_DNA (length=1000):\n",
    "    rand_DNA=\"\"\n",
    "    bases = ['A','A','A', 'C', 'G', 'T','T','T' ]\n",
    "    base_ct = len(bases)\n",
    "    for n in range(length):\n",
    "        rand_DNA += bases[random.randint(0,base_ct-1)]\n",
    "\n",
    "    return rand_DNA\n",
    "\n",
    "def calculate_base_frequency(seqstr):\n",
    "    bases = {}\n",
    "    total = 0\n",
    "    for b in seqstr:\n",
    "        if b not in bases:\n",
    "            bases[b] = 0\n",
    "        bases[b] += 1\n",
    "        total += 1\n",
    "    totalalso = sum(bases.values())\n",
    "    print(f'{total} or {totalalso}')\n",
    "    for b in bases:\n",
    "        bases[b] /= total\n",
    "        #print(bases)\n",
    "    return bases  \n",
    "        \n",
    "randseq = rand_DNA()\n",
    "randseq = rand_DNA(10000)\n",
    "freqs = calculate_base_frequency(randseq)\n",
    "print(freqs)\n",
    "print(f'GC % is {freqs[\"G\"] + freqs[\"C\"]}')"
   ]
  },
  {
   "cell_type": "code",
   "execution_count": null,
   "id": "4b6199b8-08bb-4376-8d0b-27cfb6d21564",
   "metadata": {},
   "outputs": [],
   "source": []
  }
 ],
 "metadata": {
  "kernelspec": {
   "display_name": "Python (GEN220)",
   "language": "python",
   "name": "gen220"
  },
  "language_info": {
   "codemirror_mode": {
    "name": "ipython",
    "version": 3
   },
   "file_extension": ".py",
   "mimetype": "text/x-python",
   "name": "python",
   "nbconvert_exporter": "python",
   "pygments_lexer": "ipython3",
   "version": "3.9.7"
  }
 },
 "nbformat": 4,
 "nbformat_minor": 5
}
