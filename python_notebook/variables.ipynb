{
 "cells": [
  {
   "cell_type": "code",
   "execution_count": 1,
   "metadata": {},
   "outputs": [
    {
     "name": "stdout",
     "output_type": "stream",
     "text": [
      "20\n",
      "xxxxxxxxxx\n",
      "this is my message\n"
     ]
    }
   ],
   "source": [
    "print(10+10 )\n",
    "\n",
    "print(\"x\"*10)\n",
    "\n",
    "print(\"this is my message\")"
   ]
  },
  {
   "cell_type": "code",
   "execution_count": 3,
   "metadata": {},
   "outputs": [
    {
     "name": "stdout",
     "output_type": "stream",
     "text": [
      "0 \t\n",
      "1 \t\n",
      "2 \t\n",
      "3 \t\n",
      "4 \t\n",
      "5 \t\n",
      "6 \t\n",
      "7 \t\n",
      "8 \t\n",
      "9 \t\n",
      "10 \t\n",
      "11 \t\n",
      "12 \t\n",
      "13 \t\n",
      "14 \t\n",
      "15 \t\n",
      "16 \t\n",
      "17 \t\n",
      "18 \t\n",
      "19 \t\n",
      "20 \t\n",
      "21 \t\n",
      "22 \t\n",
      "23 \t\n",
      "24 \t\n",
      "25 \t\n",
      "26 \t\n",
      "27 \t\n",
      "28 \t\n",
      "29 \t\n",
      "30 \t\n",
      "31 \t\n",
      "32 \t\n",
      "33 \t\n",
      "34 \t\n",
      "35 \t\n",
      "36 \t\n",
      "37 \t\n",
      "38 \t\n",
      "39 \t\n",
      "40 \t\n",
      "41 \t\n",
      "42 \t\n",
      "43 \t\n",
      "44 \t\n",
      "45 \t\n",
      "46 \t\n",
      "47 \t\n",
      "48 \t\n",
      "49 \t\n",
      "50 \t\n",
      "51 \t\n",
      "52 \t\n",
      "53 \t\n",
      "54 \t\n",
      "55 \t\n",
      "56 \t\n",
      "57 \t\n",
      "58 \t\n",
      "59 \t\n",
      "60 \t\n",
      "61 \t\n",
      "62 \t\n",
      "63 \t\n",
      "64 \t\n",
      "65 \t\n",
      "66 \t\n",
      "67 \t\n",
      "68 \t\n",
      "69 \t\n",
      "70 \t\n",
      "71 \t\n",
      "72 \t\n",
      "73 \t\n",
      "74 \t\n",
      "75 \t\n",
      "76 \t\n",
      "77 \t\n",
      "78 \t\n",
      "79 \t\n",
      "80 \t\n",
      "81 \t\n",
      "82 \t\n",
      "83 \t\n",
      "84 \t\n",
      "85 \t\n",
      "86 \t\n",
      "87 \t\n",
      "88 \t\n",
      "89 \t\n",
      "90 \t\n",
      "91 \t\n",
      "92 \t\n",
      "93 \t\n",
      "94 \t\n",
      "95 \t\n",
      "96 \t\n",
      "97 \t\n",
      "98 \t\n",
      "99 \t\n"
     ]
    }
   ],
   "source": [
    "for i in range(100):\n",
    "    print(i,\"\\t\")"
   ]
  },
  {
   "cell_type": "code",
   "execution_count": 4,
   "metadata": {},
   "outputs": [],
   "source": [
    "import pandas\n",
    "print(pandas.__version__)"
   ]
  }
 ],
 "metadata": {
  "kernelspec": {
   "display_name": "Python 3 (ipykernel)",
   "language": "python",
   "name": "python3"
  },
  "language_info": {
   "codemirror_mode": {
    "name": "ipython",
    "version": 3
   },
   "file_extension": ".py",
   "mimetype": "text/x-python",
   "name": "python",
   "nbconvert_exporter": "python",
   "pygments_lexer": "ipython3",
   "version": "3.9.7"
  }
 },
 "nbformat": 4,
 "nbformat_minor": 4
}
