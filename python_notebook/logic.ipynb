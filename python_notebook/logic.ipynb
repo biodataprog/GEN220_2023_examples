{
 "cells": [
  {
   "cell_type": "markdown",
   "metadata": {},
   "source": [
    "# Logic in Python\n",
    "\n",
    "If-else statement is mainly used for decision making.\n",
    "\n",
    "<img src=\"https://media.geeksforgeeks.org/wp-content/uploads/20230220123250/flowchart_of_if_else_in_c.png\" width=400>\n",
    "\n",
    "In this section, we'll cover:\n",
    "\n",
    "1. How to write [`if-else` statement](#if-else-statement)?\n",
    "2. [Comparison](#comparison-operators), [identity](#identity-operators) and [logical operators](#identity-operators) in Python\n",
    "   - [Problem - fall-into-which-intervals?](#problem---fall-into-which-intervals)\n",
    "3. [Nested `if-else` statement](#nested-if-else-statement)\n",
    "4. How to use `if` to [check empty objects](#use-if-to-check-empty-object)?\n",
    "   - [Problem - determine-boolean-value](#problem---determine-boolean-value)\n"
   ]
  },
  {
   "cell_type": "markdown",
   "metadata": {},
   "source": [
    "## `If-else` statement"
   ]
  },
  {
   "cell_type": "markdown",
   "metadata": {},
   "source": [
    "The below cell is a typical if-else statement in bash."
   ]
  },
  {
   "cell_type": "code",
   "execution_count": null,
   "metadata": {},
   "outputs": [],
   "source": [
    "%%bash\n",
    "a=2\n",
    "\n",
    "if [ $a == 1 ]; then\n",
    "    echo \"a is equal to 1\"\n",
    "else\n",
    "    echo \"a is not equal to 1\"\n",
    "fi"
   ]
  },
  {
   "cell_type": "markdown",
   "metadata": {},
   "source": [
    "If you have more than 2 choices, the statement should be like this:"
   ]
  },
  {
   "cell_type": "code",
   "execution_count": null,
   "metadata": {},
   "outputs": [],
   "source": [
    "%%bash\n",
    "a=\"C\"\n",
    "\n",
    "if [ $a == \"A\" ]; then\n",
    "    echo \"a belong to group A\"\n",
    "elif [ $a == \"B\" ]; then\n",
    "    echo \"a belong to group B\"\n",
    "elif [ $a == \"C\" ]; then\n",
    "    echo \"a belong to group C\"\n",
    "else\n",
    "    echo \"a does not belong to any of the group\"\n",
    "fi"
   ]
  },
  {
   "cell_type": "markdown",
   "metadata": {},
   "source": [
    "The structure of `if-else` statement in Python is quite similar to bash, but is much more simplified.\n",
    "1. Get rid of `then`, `fi` and dollar sign (`$`) when calling variable.\n",
    "2. Need to add a colon(`:`) after your statements.\n",
    "3. **Indentation** is requried.\n",
    "\n",
    "Note that Python disallows mixing spaces and tabs for indentation! (Some editor help you fix that but you should beware of the rule when editing on plain text.)\n",
    "\n",
    "<img src=\"https://external-preview.redd.it/EcwKGjcxeR77frd8nFeG2ggEpCSLtGbudsABDPGBTe8.png?auto=webp&s=738e71260d3ec2e1f8ec863ad3f1de9b6aff51ad\">\n",
    "\n",
    "Here is a basic `if-else` statement in python:"
   ]
  },
  {
   "cell_type": "code",
   "execution_count": null,
   "metadata": {},
   "outputs": [],
   "source": [
    "a = 2\n",
    "if a == 1:\n",
    "    print(\"a is equal to 1\")\n",
    "else:\n",
    "    print(\"a is not equal to 1\")\n"
   ]
  },
  {
   "cell_type": "markdown",
   "metadata": {},
   "source": [
    "More complicated statement:"
   ]
  },
  {
   "cell_type": "code",
   "execution_count": null,
   "metadata": {},
   "outputs": [],
   "source": [
    "a = \"C\"\n",
    "\n",
    "if a == \"A\":\n",
    "    print(\"a belong to group A\")\n",
    "elif a == \"B\":\n",
    "    print(\"a belong to group B\")\n",
    "elif a == \"C\":\n",
    "    print(\"a belong to group C\")\n",
    "else:\n",
    "    print(\"a does not belong to any of the group\")"
   ]
  },
  {
   "cell_type": "markdown",
   "metadata": {},
   "source": [
    "## Comparison operators\n",
    "`==`, `!=`, `<`, `<=`, `>`, `>=`"
   ]
  },
  {
   "cell_type": "markdown",
   "metadata": {},
   "source": [
    "To test if somehting is equal use `==`.\n",
    "\n",
    "`==` test the equality of the value. It can be either numerical value, a string value, a list component, and a dictionary."
   ]
  },
  {
   "cell_type": "code",
   "execution_count": null,
   "metadata": {},
   "outputs": [],
   "source": [
    "a = 7\n",
    "\n",
    "if a == 7:\n",
    "    print(\"a is equal to 10\")"
   ]
  },
  {
   "cell_type": "markdown",
   "metadata": {},
   "source": [
    "**VERY IMPORTANT: Do NOT misuse `=` for `==` for comparison!**\n",
    "\n",
    "(`=` is for **assigning variable**)"
   ]
  },
  {
   "cell_type": "code",
   "execution_count": null,
   "metadata": {},
   "outputs": [],
   "source": [
    "a = 7\n",
    "\n",
    "if a = 7:\n",
    "    print(\"a is equal to 10\")"
   ]
  },
  {
   "cell_type": "markdown",
   "metadata": {},
   "source": [
    "Use `!=` to indicate not equal to:"
   ]
  },
  {
   "cell_type": "code",
   "execution_count": null,
   "metadata": {},
   "outputs": [],
   "source": [
    "a = 7\n",
    "b = 20\n",
    "\n",
    "if a != b:\n",
    "    print(\"a is not equal to b\")"
   ]
  },
  {
   "cell_type": "markdown",
   "metadata": {},
   "source": [
    "In fact, you can combine the two statements together to form the following `if-else` statement."
   ]
  },
  {
   "cell_type": "code",
   "execution_count": null,
   "metadata": {},
   "outputs": [],
   "source": [
    "if a == b:\n",
    "    print(\"a is equal to 10\")\n",
    "else:\n",
    "    print(\"a is not equal to b\")"
   ]
  },
  {
   "cell_type": "markdown",
   "metadata": {},
   "source": [
    "You can even swap the statements. These two expressions are equivalent."
   ]
  },
  {
   "cell_type": "code",
   "execution_count": null,
   "metadata": {},
   "outputs": [],
   "source": [
    "if a != b:\n",
    "    print(\"a is not equal to b\")\n",
    "else:\n",
    "    print(\"a is equal to 10\")"
   ]
  },
  {
   "cell_type": "markdown",
   "metadata": {},
   "source": [
    "More comparison operators:\n",
    "\n",
    "`<`: less than\n",
    "\n",
    "`<=`: less than or equal to\n",
    "\n",
    "`>`: greater than\n",
    "\n",
    "`>=`: greater than or equal to"
   ]
  },
  {
   "cell_type": "code",
   "execution_count": null,
   "metadata": {},
   "outputs": [],
   "source": [
    "a = 7\n",
    "b = 20\n",
    "\n",
    "if b > a:\n",
    "    print(\"b is greater than a\")"
   ]
  },
  {
   "cell_type": "markdown",
   "metadata": {},
   "source": [
    "## Identity Operators\n",
    "`is`, `is not`"
   ]
  },
  {
   "cell_type": "markdown",
   "metadata": {},
   "source": [
    "`is` checks if both the variables point to the **same object**. (Python is an **object-oriented programming language**. So you can simply consider every variables as objects.)\n",
    "\n",
    "If you want to test the equality of two values, avoid using `is` but use `==` instead.\n",
    "\n",
    "Here is an example: They both named \"Jason\" but they are not the same person. \n",
    "\n",
    "<img src=\"https://lab.stajich.org/images/members/Stajich_2019_2.jpg\" width=\"200\"><img src=\"https://static.independent.co.uk/s3fs-public/thumbnails/image/2015/08/27/10/statham-crop.jpg?quality=75&width=990&crop=3%3A2%2Csmart&auto=webp\" width=200>"
   ]
  },
  {
   "cell_type": "code",
   "execution_count": null,
   "metadata": {},
   "outputs": [],
   "source": [
    "# Assign a value (which is a string) to a variable \"Jason_Stajich\"\n",
    "Jason_Stajich = \"My name is Jason\"\n",
    "# Assign another variable \"JStajich_from_UCR\" and point to the variable \"Jason_Stajich\". They are in fact the same object.\n",
    "JStajich_from_UCR = Jason_Stajich\n",
    "\n",
    "# Assign another variable \"Jason_Statham\" which has the same value but is a different object.\n",
    "Jason_Statham = \"My name is Jason\""
   ]
  },
  {
   "cell_type": "code",
   "execution_count": null,
   "metadata": {},
   "outputs": [],
   "source": [
    "print(Jason_Stajich, JStajich_from_UCR, Jason_Statham, sep=\"\\n\")"
   ]
  },
  {
   "cell_type": "code",
   "execution_count": null,
   "metadata": {},
   "outputs": [],
   "source": [
    "# Check if both variables have the same value?\n",
    "print(Jason_Stajich == JStajich_from_UCR)\n",
    "print(Jason_Stajich == Jason_Statham)"
   ]
  },
  {
   "cell_type": "code",
   "execution_count": null,
   "metadata": {},
   "outputs": [],
   "source": [
    "# Check if both variables are the same object?\n",
    "print(Jason_Stajich is JStajich_from_UCR)\n",
    "print(Jason_Stajich is Jason_Statham)"
   ]
  },
  {
   "cell_type": "markdown",
   "metadata": {},
   "source": [
    "Use `is not` for correlary test with `is`."
   ]
  },
  {
   "cell_type": "code",
   "execution_count": null,
   "metadata": {},
   "outputs": [],
   "source": [
    "print(Jason_Stajich is not Jason_Statham)"
   ]
  },
  {
   "cell_type": "markdown",
   "metadata": {},
   "source": [
    "## logical operators\n",
    "\n",
    "`not`, `or`, `and`"
   ]
  },
  {
   "cell_type": "markdown",
   "metadata": {},
   "source": [
    "We have already covered the concept of `not` in some of the examples above."
   ]
  },
  {
   "cell_type": "code",
   "execution_count": null,
   "metadata": {},
   "outputs": [],
   "source": [
    "a = 7\n",
    "b = 10\n",
    "\n",
    "# The below two expressions are equivalent\n",
    "print(not a == b)\n",
    "print(a != b)"
   ]
  },
  {
   "cell_type": "markdown",
   "metadata": {},
   "source": [
    "You can combine multiple statements with `or` and `and`.\n",
    "\n",
    "Use `or` to test if either one of the statement is `True`.\n",
    "Use `and` to test if all the statement is `True`."
   ]
  },
  {
   "cell_type": "code",
   "execution_count": null,
   "metadata": {},
   "outputs": [],
   "source": [
    "print(True or True)\n",
    "print(False or False)\n",
    "print(True or False)\n",
    "print(False or True)"
   ]
  },
  {
   "cell_type": "code",
   "execution_count": null,
   "metadata": {},
   "outputs": [],
   "source": [
    "print(True and True)\n",
    "print(False and False)\n",
    "print(True and False)\n",
    "print(False and True)"
   ]
  },
  {
   "cell_type": "markdown",
   "metadata": {},
   "source": [
    "Let's apply it in a `if-else` statement:"
   ]
  },
  {
   "cell_type": "code",
   "execution_count": null,
   "metadata": {},
   "outputs": [],
   "source": [
    "a = 7\n",
    "b = 20\n",
    "\n",
    "if a > 10 or b > 10:\n",
    "    print(\"a or b is greater than 10.\")\n",
    "elif a > 10 and b > 10:\n",
    "    print(\"Both a and b are greater than 10.\")\n",
    "else:\n",
    "    print(\"Both a and b are less than 10.\")"
   ]
  },
  {
   "cell_type": "markdown",
   "metadata": {},
   "source": [
    "#### Problem - fall into which intervals?\n",
    "Say we have 4 intervals: \n",
    "- x <= 0\n",
    "- 0 < x <= 10\n",
    "- 10 < x <= 20\n",
    "- x > 20\n",
    "\n",
    "Can you write a if-else statement to determine `x` is falling into which interval?"
   ]
  },
  {
   "cell_type": "code",
   "execution_count": null,
   "metadata": {},
   "outputs": [],
   "source": [
    "x = 21\n",
    "# Please write and test your codes in this cell\n"
   ]
  },
  {
   "cell_type": "markdown",
   "metadata": {},
   "source": [
    "## Nested `if-else statement`"
   ]
  },
  {
   "cell_type": "markdown",
   "metadata": {},
   "source": [
    "Let's take a look at the following flow chart:\n",
    "\n",
    "<img src=\"https://i.chzbgr.com/full/6370681600/h0FFF2C88/classic-how-to-fix-anything\">\n",
    "\n",
    "It seems like we can write a nested `if-else` statement to describe it!"
   ]
  },
  {
   "cell_type": "code",
   "execution_count": null,
   "metadata": {},
   "outputs": [],
   "source": [
    "does_it_move = False\n",
    "should_it_move = True\n",
    "\n",
    "if does_it_move:\n",
    "    if should_it_move:\n",
    "        print(\"No problem!\")\n",
    "    else:\n",
    "        print(\"Use tape\")\n",
    "else:\n",
    "    if should_it_move:\n",
    "        print(\"Use WD40\")\n",
    "    else:\n",
    "        print(\"No problem!\")\n"
   ]
  },
  {
   "cell_type": "markdown",
   "metadata": {},
   "source": [
    "## Use `if` to check empty object\n",
    "From the above example, you should noticed that `if` can be used to test the `True` or `False` of a single value.\n",
    "\n",
    "One useful technique derived from this feature - we can use `if` to check whether an object is *empty*, which usually returns `False`."
   ]
  },
  {
   "cell_type": "code",
   "execution_count": null,
   "metadata": {},
   "outputs": [],
   "source": [
    "# a is an empty list and b is a non-empty list (we'll talk more about this data structure)\n",
    "a = []\n",
    "b = [1, 2, 3]\n",
    "\n",
    "if a:\n",
    "    print(\"a is not empty.\")\n",
    "else:\n",
    "    print(\"a is empty.\")\n",
    "\n",
    "if b:\n",
    "    print(\"b is not empty.\")\n",
    "else:\n",
    "    print(\"b is empty.\")"
   ]
  },
  {
   "cell_type": "code",
   "execution_count": null,
   "metadata": {},
   "outputs": [],
   "source": [
    "# a is an empty dictionary and b is a non-empty dictionary (we'll talk more about this data structure)\n",
    "a = {}\n",
    "b = {\"apple\": 1, \"banana\": 2, \"coconut\": 3}\n",
    "\n",
    "if a:\n",
    "    print(\"a is not empty.\")\n",
    "else:\n",
    "    print(\"a is empty.\")\n",
    "\n",
    "if b:\n",
    "    print(\"b is not empty.\")\n",
    "else:\n",
    "    print(\"b is empty.\")"
   ]
  },
  {
   "cell_type": "markdown",
   "metadata": {},
   "source": [
    "#### Problem - determine boolean value\n",
    "\n",
    "Can you use `if` to check whether the following values are `True` or `False`?\n",
    "- None\n",
    "- 0     (the interger zero)\n",
    "- bool(\"\")      (empty string)\n",
    "- bool(\"0\")     (the string zero)\n",
    "\n",
    "(`bool()` function takes an argument and return its boolean value.)\n",
    "\n",
    "(You can try this either use `if-else` statement or simply using comparison operator `==`)"
   ]
  },
  {
   "cell_type": "code",
   "execution_count": null,
   "metadata": {},
   "outputs": [],
   "source": [
    "# Please write and test your codes in this cell\n"
   ]
  }
 ],
 "metadata": {
  "kernelspec": {
   "display_name": "Python 3 (ipykernel)",
   "language": "python",
   "name": "python3"
  },
  "language_info": {
   "codemirror_mode": {
    "name": "ipython",
    "version": 3
   },
   "file_extension": ".py",
   "mimetype": "text/x-python",
   "name": "python",
   "nbconvert_exporter": "python",
   "pygments_lexer": "ipython3",
   "version": "3.9.7"
  }
 },
 "nbformat": 4,
 "nbformat_minor": 4
}
