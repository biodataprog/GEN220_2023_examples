{
 "cells": [
  {
   "cell_type": "markdown",
   "metadata": {},
   "source": [
    "# Iterator and loop in Python\n",
    "\n",
    "In this section, we'll cover:\n",
    "1. How to write a `for` loop in Python.\n",
    "2. Use `range()` function to generate a sequence of numbers.\n",
    "3. Interfere the loop with `continue` and `break`.\n",
    "4. Use `len()` to compute the length of an object.\n",
    "5. The different between `for` loop and `while` loop."
   ]
  },
  {
   "cell_type": "markdown",
   "metadata": {},
   "source": [
    "## For loop\n",
    "\n",
    "Here is a typical `for` loop in bash:"
   ]
  },
  {
   "cell_type": "code",
   "execution_count": 6,
   "metadata": {},
   "outputs": [
    {
     "name": "stdout",
     "output_type": "stream",
     "text": [
      "1\n",
      "2\n",
      "3\n",
      "4\n",
      "5\n"
     ]
    }
   ],
   "source": [
    "%%bash\n",
    "\n",
    "for number in 1 2 3 4 5; do\n",
    "    echo $number;\n",
    "done"
   ]
  },
  {
   "cell_type": "markdown",
   "metadata": {},
   "source": [
    "Again, the `for` loop in Python is simplified a bit.\n",
    "- We don't need `do`, `done` and dollar sign (`$`) for variable calling. \n",
    "- Need to add colon(`:`) after your statements.\n",
    "- Indentation sensitive.\n",
    "\n",
    "The above bash `for` loop be re-written in Python as below:"
   ]
  },
  {
   "cell_type": "code",
   "execution_count": 14,
   "metadata": {},
   "outputs": [
    {
     "name": "stdout",
     "output_type": "stream",
     "text": [
      "1\n",
      "2\n",
      "3\n",
      "4\n",
      "5\n"
     ]
    }
   ],
   "source": [
    "for number in [1, 2, 3, 4, 5]:\n",
    "    print(number)"
   ]
  },
  {
   "cell_type": "markdown",
   "metadata": {},
   "source": [
    "As demonstrated in the example above, the `for` loop iterates through an *iterable*, returning an item (assign to variable `number`) for each iteration.\n",
    "\n",
    "The below shows more valid *iterables* in Python:"
   ]
  },
  {
   "cell_type": "markdown",
   "metadata": {},
   "source": [
    "List of strings is an iterable. It just like a numerical list, but returns a string (a fruit in this case) instead of a number for each round."
   ]
  },
  {
   "cell_type": "code",
   "execution_count": 17,
   "metadata": {},
   "outputs": [
    {
     "name": "stdout",
     "output_type": "stream",
     "text": [
      "apple\n",
      "banana\n",
      "coconut\n"
     ]
    }
   ],
   "source": [
    "fruit_list = [\"apple\", \"banana\", \"coconut\"]\n",
    "\n",
    "for fruit in fruit_list:\n",
    "    print(fruit)"
   ]
  },
  {
   "cell_type": "markdown",
   "metadata": {},
   "source": [
    "Tuple (very similar to list, but it is immutable) is an iterable. It also returns an item for each round."
   ]
  },
  {
   "cell_type": "code",
   "execution_count": 18,
   "metadata": {},
   "outputs": [
    {
     "name": "stdout",
     "output_type": "stream",
     "text": [
      "1\n",
      "2\n",
      "3\n",
      "4\n",
      "5\n"
     ]
    }
   ],
   "source": [
    "numerical_tuple = (1, 2, 3, 4, 5)\n",
    "\n",
    "for number in numerical_tuple:\n",
    "    print(number)"
   ]
  },
  {
   "cell_type": "markdown",
   "metadata": {},
   "source": [
    "String can also be an iterable. It returns a charactor for each round."
   ]
  },
  {
   "cell_type": "code",
   "execution_count": 19,
   "metadata": {},
   "outputs": [
    {
     "name": "stdout",
     "output_type": "stream",
     "text": [
      "A\n",
      "T\n",
      "T\n",
      "G\n",
      "G\n",
      "C\n"
     ]
    }
   ],
   "source": [
    "dna = \"ATTGGC\"\n",
    "\n",
    "for nt in dna:\n",
    "    print(nt)"
   ]
  },
  {
   "cell_type": "markdown",
   "metadata": {},
   "source": [
    "### Range operator\n",
    "The function [`range()`](https://docs.python.org/3/library/functions.html#func-range) create a sequence of numbers. (Very similar to `seq` in UNIX)"
   ]
  },
  {
   "cell_type": "code",
   "execution_count": 20,
   "metadata": {},
   "outputs": [
    {
     "name": "stdout",
     "output_type": "stream",
     "text": [
      "0\n",
      "1\n",
      "2\n",
      "3\n",
      "4\n"
     ]
    }
   ],
   "source": [
    "for number in range(5):\n",
    "    print(number)"
   ]
  },
  {
   "cell_type": "markdown",
   "metadata": {},
   "source": [
    "In fact, the `range()` function can takes more than one arguments:\n",
    "\n",
    "- if only one argument is given:\n",
    "    - range(stop)\n",
    "- if more than two arguments are given:\n",
    "    - range(start, stop, step=1)"
   ]
  },
  {
   "cell_type": "code",
   "execution_count": 31,
   "metadata": {},
   "outputs": [
    {
     "name": "stdout",
     "output_type": "stream",
     "text": [
      "0\n",
      "1\n",
      "2\n",
      "3\n",
      "4\n"
     ]
    }
   ],
   "source": [
    "# This is an equivelant as the example above\n",
    "# 0      1      2      3      4      5\n",
    "# print  print  print  print  print  stop\n",
    "for number in range(0, 5):\n",
    "    print(number)"
   ]
  },
  {
   "cell_type": "markdown",
   "metadata": {},
   "source": [
    "You can count from 1 instead:"
   ]
  },
  {
   "cell_type": "code",
   "execution_count": 26,
   "metadata": {},
   "outputs": [
    {
     "name": "stdout",
     "output_type": "stream",
     "text": [
      "1\n",
      "2\n",
      "3\n",
      "4\n"
     ]
    }
   ],
   "source": [
    "# 1      2      3      4      5\n",
    "# print  print  print  print  stop\n",
    "for number in range(1, 5):\n",
    "    print(number)"
   ]
  },
  {
   "cell_type": "markdown",
   "metadata": {},
   "source": [
    "You can counts by twos:"
   ]
  },
  {
   "cell_type": "code",
   "execution_count": 30,
   "metadata": {},
   "outputs": [
    {
     "name": "stdout",
     "output_type": "stream",
     "text": [
      "0\n",
      "2\n",
      "4\n"
     ]
    }
   ],
   "source": [
    "# 0      1     2      3     4\n",
    "# print  skip  print  skip  print\n",
    "for number in range(0, 5, 2):\n",
    "    print(number)"
   ]
  },
  {
   "cell_type": "markdown",
   "metadata": {},
   "source": [
    "You can do backward counting"
   ]
  },
  {
   "cell_type": "code",
   "execution_count": 24,
   "metadata": {},
   "outputs": [
    {
     "name": "stdout",
     "output_type": "stream",
     "text": [
      "10\n",
      "9\n",
      "8\n",
      "7\n",
      "6\n",
      "5\n",
      "4\n",
      "3\n",
      "2\n",
      "1\n"
     ]
    }
   ],
   "source": [
    "for number in range(10, 0, -1):\n",
    "    print(number)"
   ]
  },
  {
   "cell_type": "markdown",
   "metadata": {},
   "source": [
    "#### Problem 1:\n",
    "\n",
    "How to count down by threes from 180 to 150(include)?"
   ]
  },
  {
   "cell_type": "code",
   "execution_count": null,
   "metadata": {},
   "outputs": [],
   "source": [
    "# Please write and test your codes in this cell\n"
   ]
  },
  {
   "cell_type": "markdown",
   "metadata": {},
   "source": [
    "## Continue and break\n",
    "\n",
    "Typically all the codes in a `for` loop will be executed.\n",
    "If you want to skip some of the codes, you can do this by `continue`.\n",
    "\n",
    "In the example below, we combine the `if` statement to skip the round if the `number` == 7.\n",
    "Note that the codes *before* `continue` will be execute; but the codes *after* `continue` will be skipped for that particular iteration."
   ]
  },
  {
   "cell_type": "code",
   "execution_count": 38,
   "metadata": {},
   "outputs": [
    {
     "name": "stdout",
     "output_type": "stream",
     "text": [
      "The number is ...\n",
      "0\n",
      "The number is ...\n",
      "1\n",
      "The number is ...\n",
      "2\n",
      "The number is ...\n",
      "3\n",
      "The number is ...\n",
      "4\n",
      "The number is ...\n",
      "5\n",
      "The number is ...\n",
      "6\n",
      "The number is ...\n",
      "The number is ...\n",
      "8\n",
      "The number is ...\n",
      "9\n"
     ]
    }
   ],
   "source": [
    "for number in range(10):\n",
    "    print(\"The number is ...\")  # This will be run\n",
    "    if number == 7:\n",
    "        continue\n",
    "    print(number)               # This will be skipped when number == 7"
   ]
  },
  {
   "cell_type": "markdown",
   "metadata": {},
   "source": [
    "#### Problem 2:\n",
    "\n",
    "We got a list of fruits! Can you iterate through the list and print(\"I like\", fruit) for each round?\n",
    "\n",
    "However, I don't really like **dragon fruit** and **pomegranate**, please use `continue` to skip them."
   ]
  },
  {
   "cell_type": "code",
   "execution_count": 45,
   "metadata": {},
   "outputs": [
    {
     "data": {
      "text/plain": [
       "['apple',\n",
       " 'banana',\n",
       " 'coconut',\n",
       " 'dragon fruit',\n",
       " 'grape',\n",
       " 'watermelon',\n",
       " 'dragon fruit',\n",
       " 'pomegranate']"
      ]
     },
     "execution_count": 45,
     "metadata": {},
     "output_type": "execute_result"
    }
   ],
   "source": [
    "fruit_list = [\"apple\", \"banana\", \"coconut\", \"dragon fruit\", \"grape\", \"watermelon\", \"dragon fruit\", \"pomegranate\"]\n",
    "fruit_list"
   ]
  },
  {
   "cell_type": "code",
   "execution_count": 46,
   "metadata": {},
   "outputs": [],
   "source": [
    "# Please write and test your codes in this cell\n"
   ]
  },
  {
   "cell_type": "markdown",
   "metadata": {},
   "source": [
    "Continue the example in the Problem 2. Say if I really hate dragon fruit and once I saw it, I stop eating.\n",
    "\n",
    "In this case, you can use `break` to jump out the `for` loop. Once meeting a `break`, the program will exit from the `for` loop immediately."
   ]
  },
  {
   "cell_type": "code",
   "execution_count": 50,
   "metadata": {},
   "outputs": [
    {
     "name": "stdout",
     "output_type": "stream",
     "text": [
      "I eat a apple\n",
      "I eat a banana\n",
      "I eat a coconut\n",
      "Aghhhhh!!!\n"
     ]
    }
   ],
   "source": [
    "for fruit in fruit_list:\n",
    "    if fruit == \"dragon fruit\":\n",
    "        break\n",
    "    print(\"I eat a\", fruit)\n",
    "\n",
    "print(\"Aghhhhh!!!\")"
   ]
  },
  {
   "cell_type": "markdown",
   "metadata": {},
   "source": [
    "### Use `len` to compute the length\n",
    "\n",
    "You can use `len` to compute the length of an object."
   ]
  },
  {
   "cell_type": "code",
   "execution_count": 54,
   "metadata": {},
   "outputs": [
    {
     "data": {
      "text/plain": [
       "'ATTGGC'"
      ]
     },
     "execution_count": 54,
     "metadata": {},
     "output_type": "execute_result"
    }
   ],
   "source": [
    "dna = \"ATTGGC\"\n",
    "dna"
   ]
  },
  {
   "cell_type": "code",
   "execution_count": 60,
   "metadata": {},
   "outputs": [
    {
     "data": {
      "text/plain": [
       "6"
      ]
     },
     "execution_count": 60,
     "metadata": {},
     "output_type": "execute_result"
    }
   ],
   "source": [
    "# There are 6 characters in this string.\n",
    "len(dna)"
   ]
  },
  {
   "cell_type": "code",
   "execution_count": 63,
   "metadata": {},
   "outputs": [
    {
     "data": {
      "text/plain": [
       "['domain', 'kingdom', 'phylum', 'class', 'order', 'family', 'genus', 'species']"
      ]
     },
     "execution_count": 63,
     "metadata": {},
     "output_type": "execute_result"
    }
   ],
   "source": [
    "taxonomic_ranks = [\"domain\", \"kingdom\", \"phylum\", \"class\", \"order\", \"family\", \"genus\", \"species\"]\n",
    "taxonomic_ranks"
   ]
  },
  {
   "cell_type": "code",
   "execution_count": 61,
   "metadata": {},
   "outputs": [
    {
     "data": {
      "text/plain": [
       "8"
      ]
     },
     "execution_count": 61,
     "metadata": {},
     "output_type": "execute_result"
    }
   ],
   "source": [
    "# There are 8 items in the list.\n",
    "len(taxonomic_ranks)"
   ]
  },
  {
   "cell_type": "markdown",
   "metadata": {},
   "source": [
    "## `While` loop\n",
    "\n",
    "As shown in the previous example, `For` loop iterate over an iterable which the length is known beforehand.\n",
    "So once the iteration reach the end of the iterable, it will exit from the loop."
   ]
  },
  {
   "cell_type": "code",
   "execution_count": 64,
   "metadata": {},
   "outputs": [
    {
     "data": {
      "text/plain": [
       "['domain', 'kingdom', 'phylum', 'class', 'order', 'family', 'genus', 'species']"
      ]
     },
     "execution_count": 64,
     "metadata": {},
     "output_type": "execute_result"
    }
   ],
   "source": [
    "taxonomic_ranks = [\"domain\", \"kingdom\", \"phylum\", \"class\", \"order\", \"family\", \"genus\", \"species\"]\n",
    "taxonomic_ranks"
   ]
  },
  {
   "cell_type": "code",
   "execution_count": 66,
   "metadata": {},
   "outputs": [
    {
     "name": "stdout",
     "output_type": "stream",
     "text": [
      "domain\n",
      "kingdom\n",
      "phylum\n",
      "class\n",
      "order\n",
      "family\n",
      "genus\n",
      "species\n",
      "The iteration is stop\n"
     ]
    }
   ],
   "source": [
    "for rank in taxonomic_ranks:\n",
    "    print(rank)\n",
    "print(\"The iteration is stop\")"
   ]
  },
  {
   "cell_type": "markdown",
   "metadata": {},
   "source": [
    "The `while` loop, on the other hand, will keep iterating while the condition is True."
   ]
  },
  {
   "cell_type": "code",
   "execution_count": 67,
   "metadata": {},
   "outputs": [
    {
     "name": "stdout",
     "output_type": "stream",
     "text": [
      "0\n",
      "1\n",
      "2\n",
      "3\n",
      "4\n",
      "5\n",
      "6\n",
      "7\n",
      "8\n",
      "9\n",
      "10\n"
     ]
    }
   ],
   "source": [
    "x = 0\n",
    "while x <= 10:\n",
    "#     condition\n",
    "    print(x)\n",
    "    x = x + 1"
   ]
  },
  {
   "cell_type": "markdown",
   "metadata": {},
   "source": [
    "So beware when using a `while` loop. If the condition is not set up properly, it is very easy being trapped in an infinite loop."
   ]
  },
  {
   "cell_type": "code",
   "execution_count": null,
   "metadata": {},
   "outputs": [],
   "source": [
    "x = 0\n",
    "while x <= 10:\n",
    "    print(x)\n",
    "    x + 1       # I forgot to overwrite the x"
   ]
  },
  {
   "cell_type": "markdown",
   "metadata": {},
   "source": [
    "Just like `for` loop, you can use `continue` to skip the rest of an iteration and use `break` to exit from loop."
   ]
  },
  {
   "cell_type": "code",
   "execution_count": 70,
   "metadata": {},
   "outputs": [
    {
     "name": "stdout",
     "output_type": "stream",
     "text": [
      "0\n",
      "1\n",
      "2\n",
      "3\n",
      "4\n",
      "5\n",
      "6\n",
      "7\n"
     ]
    }
   ],
   "source": [
    "x = 0\n",
    "while x <= 10:\n",
    "    print(x)\n",
    "    if x == 7:\n",
    "        break\n",
    "    x = x + 1"
   ]
  },
  {
   "cell_type": "markdown",
   "metadata": {},
   "source": [
    "#### Problem 3:\n",
    "\n",
    "Can you modify the previous `while` loop and use `continue` to skip the `print` function when x == 7?\n",
    "\n",
    "(The output should be 0 1 2 3 4 5 6 8 9 10)"
   ]
  },
  {
   "cell_type": "code",
   "execution_count": null,
   "metadata": {},
   "outputs": [],
   "source": [
    "# Please modify the while loop and test your codes in this cell\n",
    "x = 0\n",
    "while x <= 10:\n",
    "    print(x)\n",
    "    x = x + 1"
   ]
  }
 ],
 "metadata": {
  "kernelspec": {
   "display_name": "base",
   "language": "python",
   "name": "python3"
  },
  "language_info": {
   "codemirror_mode": {
    "name": "ipython",
    "version": 3
   },
   "file_extension": ".py",
   "mimetype": "text/x-python",
   "name": "python",
   "nbconvert_exporter": "python",
   "pygments_lexer": "ipython3",
   "version": "3.8.17"
  }
 },
 "nbformat": 4,
 "nbformat_minor": 2
}
