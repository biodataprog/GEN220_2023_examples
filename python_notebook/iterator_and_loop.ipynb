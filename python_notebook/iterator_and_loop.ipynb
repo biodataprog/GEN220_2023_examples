{
 "cells": [
  {
   "cell_type": "markdown",
   "metadata": {},
   "source": [
    "# Iterator and loop in Python\n",
    "\n",
    "In this section, we'll cover:\n",
    "\n",
    "1. How to write a [`for` loop](#for-loop) in Python?\n",
    "2. Use [`range()` function](#range-operator) to generate a sequence of numbers\n",
    "   - [Problem - count down](#problem---count-down)\n",
    "3. Use `len()` to [compute the length of an object](#use-len-to-compute-the-length)\n",
    "4. Use [`enumerate()` function](#enumerate-the-iterable)\n",
    "5. Interfere the loop with [`continue` and `break`](#continue-and-break)\n",
    "   - [Problem - Oh no! I don't like that](#problem---oh-no-i-dont-like-that)\n",
    "6. The different between `for` loop and [`while` loop](#while-loop)\n",
    "   - [Problem - trap of the while loop](#problem---trap-of-the-while-loop)\n"
   ]
  },
  {
   "cell_type": "markdown",
   "metadata": {},
   "source": [
    "## For loop\n",
    "\n",
    "Here is a typical `for` loop in bash:"
   ]
  },
  {
   "cell_type": "code",
   "execution_count": 1,
   "metadata": {},
   "outputs": [
    {
     "name": "stdout",
     "output_type": "stream",
     "text": [
      "1\n",
      "2\n",
      "3\n",
      "4\n",
      "5\n"
     ]
    }
   ],
   "source": [
    "%%bash\n",
    "\n",
    "for number in 1 2 3 4 5; do\n",
    "    echo $number;\n",
    "done"
   ]
  },
  {
   "cell_type": "markdown",
   "metadata": {},
   "source": [
    "Again, the `for` loop in Python is simplified a bit.\n",
    "- We don't need `do`, `done` and dollar sign (`$`) for variable calling. \n",
    "- Need to add colon(`:`) after your statements.\n",
    "- Indentation sensitive.\n",
    "\n",
    "The above bash `for` loop be re-written in Python as below:"
   ]
  },
  {
   "cell_type": "code",
   "execution_count": 2,
   "metadata": {},
   "outputs": [
    {
     "name": "stdout",
     "output_type": "stream",
     "text": [
      "1\n",
      "2\n",
      "3\n",
      "4\n",
      "5\n"
     ]
    }
   ],
   "source": [
    "for number in [1, 2, 3, 4, 5]:\n",
    "    print(number)"
   ]
  },
  {
   "cell_type": "markdown",
   "metadata": {},
   "source": [
    "As demonstrated in the example above, the `for` loop iterates through an *iterable*, returning an item (assign to variable `number`) for each iteration.\n",
    "\n",
    "The below shows more valid *iterables* in Python:"
   ]
  },
  {
   "cell_type": "markdown",
   "metadata": {},
   "source": [
    "List of strings is an iterable. It just like a numerical list, but returns a string (a fruit in this case) instead of a number for each round."
   ]
  },
  {
   "cell_type": "code",
   "execution_count": 3,
   "metadata": {},
   "outputs": [
    {
     "name": "stdout",
     "output_type": "stream",
     "text": [
      "apple\n",
      "banana\n",
      "coconut\n"
     ]
    }
   ],
   "source": [
    "fruit_list = [\"apple\", \"banana\", \"coconut\"]\n",
    "\n",
    "for fruit in fruit_list:\n",
    "    print(fruit)"
   ]
  },
  {
   "cell_type": "markdown",
   "metadata": {},
   "source": [
    "Tuple (very similar to list, but it is immutable) is an iterable. It also returns an item for each round."
   ]
  },
  {
   "cell_type": "code",
   "execution_count": 4,
   "metadata": {},
   "outputs": [
    {
     "name": "stdout",
     "output_type": "stream",
     "text": [
      "1\n",
      "2\n",
      "3\n",
      "4\n",
      "5\n"
     ]
    }
   ],
   "source": [
    "numerical_tuple = (1, 2, 3, 4, 5)\n",
    "\n",
    "for number in numerical_tuple:\n",
    "    print(number)"
   ]
  },
  {
   "cell_type": "markdown",
   "metadata": {},
   "source": [
    "String can also be an iterable. It returns a charactor for each round."
   ]
  },
  {
   "cell_type": "code",
   "execution_count": 5,
   "metadata": {},
   "outputs": [
    {
     "name": "stdout",
     "output_type": "stream",
     "text": [
      "A\n",
      "T\n",
      "T\n",
      "G\n",
      "G\n",
      "C\n"
     ]
    }
   ],
   "source": [
    "dna = \"ATTGGC\"\n",
    "\n",
    "for nt in dna:\n",
    "    print(nt)"
   ]
  },
  {
   "cell_type": "markdown",
   "metadata": {},
   "source": [
    "### Range operator\n",
    "The function [`range()`](https://docs.python.org/3/library/functions.html#func-range) create a sequence of numbers. (Very similar to `seq` in UNIX)"
   ]
  },
  {
   "cell_type": "code",
   "execution_count": 6,
   "metadata": {},
   "outputs": [
    {
     "name": "stdout",
     "output_type": "stream",
     "text": [
      "0\n",
      "1\n",
      "2\n",
      "3\n",
      "4\n"
     ]
    }
   ],
   "source": [
    "for number in range(5):\n",
    "    print(number)"
   ]
  },
  {
   "cell_type": "markdown",
   "metadata": {},
   "source": [
    "In fact, the `range()` function can takes more than one arguments:\n",
    "\n",
    "- if only one argument is given:\n",
    "    - range(stop)\n",
    "- if more than two arguments are given:\n",
    "    - range(start, stop, step=1)"
   ]
  },
  {
   "cell_type": "code",
   "execution_count": 7,
   "metadata": {},
   "outputs": [
    {
     "name": "stdout",
     "output_type": "stream",
     "text": [
      "0\n",
      "1\n",
      "2\n",
      "3\n",
      "4\n"
     ]
    }
   ],
   "source": [
    "# This is an equivelant as the example above\n",
    "# 0      1      2      3      4      5\n",
    "# print  print  print  print  print  stop\n",
    "for number in range(0, 5):\n",
    "    print(number)"
   ]
  },
  {
   "cell_type": "markdown",
   "metadata": {},
   "source": [
    "You can count from 1 instead:"
   ]
  },
  {
   "cell_type": "code",
   "execution_count": 8,
   "metadata": {},
   "outputs": [
    {
     "name": "stdout",
     "output_type": "stream",
     "text": [
      "1\n",
      "2\n",
      "3\n",
      "4\n"
     ]
    }
   ],
   "source": [
    "# 1      2      3      4      5\n",
    "# print  print  print  print  stop\n",
    "for number in range(1, 5):\n",
    "    print(number)"
   ]
  },
  {
   "cell_type": "markdown",
   "metadata": {},
   "source": [
    "You can counts by twos:"
   ]
  },
  {
   "cell_type": "code",
   "execution_count": 9,
   "metadata": {},
   "outputs": [
    {
     "name": "stdout",
     "output_type": "stream",
     "text": [
      "0\n",
      "2\n",
      "4\n"
     ]
    }
   ],
   "source": [
    "# 0      1     2      3     4\n",
    "# print  skip  print  skip  print\n",
    "for number in range(0, 5, 2):\n",
    "    print(number)"
   ]
  },
  {
   "cell_type": "markdown",
   "metadata": {},
   "source": [
    "You can do backward counting"
   ]
  },
  {
   "cell_type": "code",
   "execution_count": 10,
   "metadata": {},
   "outputs": [
    {
     "name": "stdout",
     "output_type": "stream",
     "text": [
      "10\n",
      "9\n",
      "8\n",
      "7\n",
      "6\n",
      "5\n",
      "4\n",
      "3\n",
      "2\n",
      "1\n"
     ]
    }
   ],
   "source": [
    "for number in range(10, 0, -1):\n",
    "    print(number)"
   ]
  },
  {
   "cell_type": "markdown",
   "metadata": {},
   "source": [
    "#### Problem - count down\n",
    "\n",
    "How to count down by threes from 180 to 150(include)?"
   ]
  },
  {
   "cell_type": "code",
   "execution_count": 11,
   "metadata": {},
   "outputs": [
    {
     "name": "stdout",
     "output_type": "stream",
     "text": [
      "180\n",
      "179\n",
      "178\n",
      "177\n",
      "176\n",
      "175\n",
      "174\n",
      "173\n",
      "172\n",
      "171\n",
      "170\n",
      "169\n",
      "168\n",
      "167\n",
      "166\n",
      "165\n",
      "164\n",
      "163\n",
      "162\n",
      "161\n",
      "160\n",
      "159\n",
      "158\n",
      "157\n",
      "156\n",
      "155\n",
      "154\n",
      "153\n",
      "152\n",
      "151\n",
      "150\n"
     ]
    }
   ],
   "source": [
    "# Please write and test your codes in this cell\n",
    "for i in range(180, 149, -1):\n",
    "    print(i)"
   ]
  },
  {
   "cell_type": "markdown",
   "metadata": {},
   "source": [
    "### Use `len` to compute the length\n",
    "\n",
    "You can use `len` to compute the length of an object."
   ]
  },
  {
   "cell_type": "code",
   "execution_count": 12,
   "metadata": {},
   "outputs": [
    {
     "data": {
      "text/plain": [
       "'ATTGGC'"
      ]
     },
     "execution_count": 12,
     "metadata": {},
     "output_type": "execute_result"
    }
   ],
   "source": [
    "dna = \"ATTGGC\"\n",
    "dna"
   ]
  },
  {
   "cell_type": "code",
   "execution_count": 13,
   "metadata": {},
   "outputs": [
    {
     "data": {
      "text/plain": [
       "6"
      ]
     },
     "execution_count": 13,
     "metadata": {},
     "output_type": "execute_result"
    }
   ],
   "source": [
    "# There are 6 characters in this string.\n",
    "len(dna)"
   ]
  },
  {
   "cell_type": "code",
   "execution_count": 14,
   "metadata": {},
   "outputs": [
    {
     "data": {
      "text/plain": [
       "['domain', 'kingdom', 'phylum', 'class', 'order', 'family', 'genus', 'species']"
      ]
     },
     "execution_count": 14,
     "metadata": {},
     "output_type": "execute_result"
    }
   ],
   "source": [
    "taxonomic_ranks = [\"domain\", \"kingdom\", \"phylum\", \"class\", \"order\", \"family\", \"genus\", \"species\"]\n",
    "taxonomic_ranks"
   ]
  },
  {
   "cell_type": "code",
   "execution_count": 15,
   "metadata": {},
   "outputs": [
    {
     "data": {
      "text/plain": [
       "8"
      ]
     },
     "execution_count": 15,
     "metadata": {},
     "output_type": "execute_result"
    }
   ],
   "source": [
    "# There are 8 items in the list.\n",
    "len(taxonomic_ranks)"
   ]
  },
  {
   "cell_type": "markdown",
   "metadata": {},
   "source": [
    "## Enumerate the iterable"
   ]
  },
  {
   "cell_type": "markdown",
   "metadata": {},
   "source": [
    "Combine `len` and `range()` we can create an iterator that generate an index for each round.\n",
    "\n",
    "(Index can be used to get a particular value from a list object. **It's not started from 1 but from 0.** We'll introduce more usages of it in data structure lecture)"
   ]
  },
  {
   "cell_type": "code",
   "execution_count": 16,
   "metadata": {},
   "outputs": [
    {
     "data": {
      "text/plain": [
       "'domain'"
      ]
     },
     "execution_count": 16,
     "metadata": {},
     "output_type": "execute_result"
    }
   ],
   "source": [
    "taxonomic_ranks[0]"
   ]
  },
  {
   "cell_type": "code",
   "execution_count": 17,
   "metadata": {},
   "outputs": [
    {
     "name": "stdout",
     "output_type": "stream",
     "text": [
      "0 domain\n",
      "1 kingdom\n",
      "2 phylum\n",
      "3 class\n",
      "4 order\n",
      "5 family\n",
      "6 genus\n",
      "7 species\n"
     ]
    }
   ],
   "source": [
    "for idx in range(len(taxonomic_ranks)):\n",
    "    print(idx, taxonomic_ranks[idx])"
   ]
  },
  {
   "cell_type": "markdown",
   "metadata": {},
   "source": [
    "There is another alternative to do this - use `enumerate()`.\n",
    "\n",
    "The function `enumerate()` will returns 2 objects - index and value. It is convenient and make the codes more readable."
   ]
  },
  {
   "cell_type": "code",
   "execution_count": 18,
   "metadata": {},
   "outputs": [
    {
     "name": "stdout",
     "output_type": "stream",
     "text": [
      "0 domain\n",
      "1 kingdom\n",
      "2 phylum\n",
      "3 class\n",
      "4 order\n",
      "5 family\n",
      "6 genus\n",
      "7 species\n"
     ]
    }
   ],
   "source": [
    "for idx, rank in enumerate(taxonomic_ranks):\n",
    "    print(idx, rank)"
   ]
  },
  {
   "cell_type": "markdown",
   "metadata": {},
   "source": [
    "## Continue and break\n",
    "\n",
    "Typically all the codes in a `for` loop will be executed.\n",
    "If you want to skip some of the codes, you can do this by `continue`.\n",
    "\n",
    "In the example below, we combine the `if` statement to skip the round if the `number` == 7.\n",
    "Note that the codes *before* `continue` will be execute; but the codes *after* `continue` will be skipped for that particular iteration."
   ]
  },
  {
   "cell_type": "code",
   "execution_count": 19,
   "metadata": {},
   "outputs": [
    {
     "name": "stdout",
     "output_type": "stream",
     "text": [
      "The number is ...\n",
      "0\n",
      "The number is ...\n",
      "1\n",
      "The number is ...\n",
      "2\n",
      "The number is ...\n",
      "3\n",
      "The number is ...\n",
      "4\n",
      "The number is ...\n",
      "5\n",
      "The number is ...\n",
      "6\n",
      "The number is ...\n",
      "The number is ...\n",
      "8\n",
      "The number is ...\n",
      "9\n"
     ]
    }
   ],
   "source": [
    "for number in range(10):\n",
    "    print(\"The number is ...\")  # This will be run\n",
    "    if number == 7:\n",
    "        continue\n",
    "    print(number)               # This will be skipped when number == 7"
   ]
  },
  {
   "cell_type": "markdown",
   "metadata": {},
   "source": [
    "#### Problem - Oh no! I don't like that\n",
    "\n",
    "We got a list of fruits! Can you iterate through the list and print(\"I like\", fruit) for each round?\n",
    "\n",
    "However, I don't really like **dragon fruit** and **pomegranate**, please use `continue` to skip them."
   ]
  },
  {
   "cell_type": "code",
   "execution_count": 20,
   "metadata": {},
   "outputs": [
    {
     "data": {
      "text/plain": [
       "['apple',\n",
       " 'banana',\n",
       " 'coconut',\n",
       " 'dragon fruit',\n",
       " 'grape',\n",
       " 'watermelon',\n",
       " 'dragon fruit',\n",
       " 'pomegranate']"
      ]
     },
     "execution_count": 20,
     "metadata": {},
     "output_type": "execute_result"
    }
   ],
   "source": [
    "fruit_list = [\"apple\", \"banana\", \"coconut\", \"dragon fruit\", \"grape\", \"watermelon\", \"dragon fruit\", \"pomegranate\"]\n",
    "fruit_list"
   ]
  },
  {
   "cell_type": "code",
   "execution_count": 21,
   "metadata": {},
   "outputs": [
    {
     "name": "stdout",
     "output_type": "stream",
     "text": [
      "I like apple\n",
      "I like banana\n",
      "I like coconut\n",
      "I like dragon fruit\n",
      "I like grape\n",
      "I like watermelon\n",
      "I like dragon fruit\n"
     ]
    }
   ],
   "source": [
    "# Please write and test your codes in this cell\n",
    "for fruit in fruit_list:\n",
    "    if fruit == \"dargon fruit\" or fruit == \"pomegranate\":\n",
    "        continue\n",
    "    print(\"I like\", fruit)"
   ]
  },
  {
   "cell_type": "markdown",
   "metadata": {},
   "source": [
    "Continue the example in the Problem 2. Say if I really hate dragon fruit and once I saw it, I stop eating.\n",
    "\n",
    "In this case, you can use `break` to jump out the `for` loop. Once meeting a `break`, the program will exit from the `for` loop immediately."
   ]
  },
  {
   "cell_type": "code",
   "execution_count": 22,
   "metadata": {},
   "outputs": [
    {
     "data": {
      "text/plain": [
       "['apple',\n",
       " 'banana',\n",
       " 'coconut',\n",
       " 'dragon fruit',\n",
       " 'grape',\n",
       " 'watermelon',\n",
       " 'dragon fruit',\n",
       " 'pomegranate']"
      ]
     },
     "execution_count": 22,
     "metadata": {},
     "output_type": "execute_result"
    }
   ],
   "source": [
    "fruit_list"
   ]
  },
  {
   "cell_type": "code",
   "execution_count": 23,
   "metadata": {},
   "outputs": [
    {
     "name": "stdout",
     "output_type": "stream",
     "text": [
      "I love apple\n",
      "I love banana\n",
      "I love coconut\n",
      "Aghhhhh!!!\n"
     ]
    }
   ],
   "source": [
    "for fruit in fruit_list:\n",
    "    if fruit == \"dragon fruit\":\n",
    "        break\n",
    "    print(\"I love \" + fruit)\n",
    "\n",
    "print(\"Aghhhhh!!!\")"
   ]
  },
  {
   "cell_type": "markdown",
   "metadata": {},
   "source": [
    "## `While` loop\n",
    "\n",
    "As shown previously, `for` loop iterate over an iterable which the length is *already known* beforehand.\n",
    "So once the iteration reach the end of the iterable, it will exit from the loop."
   ]
  },
  {
   "cell_type": "code",
   "execution_count": 24,
   "metadata": {},
   "outputs": [
    {
     "data": {
      "text/plain": [
       "['domain', 'kingdom', 'phylum', 'class', 'order', 'family', 'genus', 'species']"
      ]
     },
     "execution_count": 24,
     "metadata": {},
     "output_type": "execute_result"
    }
   ],
   "source": [
    "taxonomic_ranks = [\"domain\", \"kingdom\", \"phylum\", \"class\", \"order\", \"family\", \"genus\", \"species\"]\n",
    "taxonomic_ranks"
   ]
  },
  {
   "cell_type": "code",
   "execution_count": 25,
   "metadata": {},
   "outputs": [
    {
     "name": "stdout",
     "output_type": "stream",
     "text": [
      "domain\n",
      "kingdom\n",
      "phylum\n",
      "class\n",
      "order\n",
      "family\n",
      "genus\n",
      "species\n",
      "The iteration is stop\n"
     ]
    }
   ],
   "source": [
    "for rank in taxonomic_ranks:\n",
    "    print(rank)\n",
    "print(\"The iteration is stop\")"
   ]
  },
  {
   "cell_type": "markdown",
   "metadata": {},
   "source": [
    "The `while` loop, on the other hand, will keep iterating while the condition is True."
   ]
  },
  {
   "cell_type": "code",
   "execution_count": 26,
   "metadata": {},
   "outputs": [
    {
     "name": "stdout",
     "output_type": "stream",
     "text": [
      "0\n",
      "1\n",
      "2\n",
      "3\n",
      "4\n",
      "5\n",
      "6\n",
      "7\n",
      "8\n",
      "9\n",
      "10\n"
     ]
    }
   ],
   "source": [
    "x = 0\n",
    "while x <= 10:\n",
    "#     condition\n",
    "    print(x)\n",
    "    x = x + 1"
   ]
  },
  {
   "cell_type": "markdown",
   "metadata": {},
   "source": [
    "So beware when using a `while` loop. If the condition is not set up properly, it is very easy being trapped in an infinite loop."
   ]
  },
  {
   "cell_type": "code",
   "execution_count": null,
   "metadata": {},
   "outputs": [],
   "source": [
    "x = 0\n",
    "while x <= 10:\n",
    "    print(x)\n",
    "    x + 1       # I forgot to overwrite the x"
   ]
  },
  {
   "cell_type": "markdown",
   "metadata": {},
   "source": [
    "Just like `for` loop, you can use `continue` to skip the rest of an iteration and use `break` to exit from loop."
   ]
  },
  {
   "cell_type": "code",
   "execution_count": 28,
   "metadata": {},
   "outputs": [
    {
     "name": "stdout",
     "output_type": "stream",
     "text": [
      "0\n",
      "1\n",
      "2\n",
      "3\n",
      "4\n",
      "5\n",
      "6\n",
      "7\n"
     ]
    }
   ],
   "source": [
    "x = 0\n",
    "while x <= 10:\n",
    "    print(x)\n",
    "    if x == 7:\n",
    "        break\n",
    "    x = x + 1"
   ]
  },
  {
   "cell_type": "markdown",
   "metadata": {},
   "source": [
    "#### Problem - trap of the while loop\n",
    "\n",
    "Can you modify the previous `while` loop and use `continue` to skip the `print` function when x == 7?\n",
    "\n",
    "(The output should be 0 1 2 3 4 5 6 8 9 10)"
   ]
  },
  {
   "cell_type": "code",
   "execution_count": 29,
   "metadata": {},
   "outputs": [
    {
     "name": "stdout",
     "output_type": "stream",
     "text": [
      "0\n",
      "1\n",
      "2\n",
      "3\n",
      "4\n",
      "5\n",
      "6\n",
      "8\n",
      "9\n",
      "10\n"
     ]
    }
   ],
   "source": [
    "# Not using continue but use pass instead\n",
    "x = 0\n",
    "while x <= 10:\n",
    "    if x == 7:\n",
    "        pass\n",
    "    else:\n",
    "        print(x)\n",
    "    x = x + 1"
   ]
  },
  {
   "cell_type": "code",
   "execution_count": 35,
   "metadata": {},
   "outputs": [
    {
     "name": "stdout",
     "output_type": "stream",
     "text": [
      "0\n",
      "1\n",
      "2\n",
      "3\n",
      "4\n",
      "5\n",
      "6\n",
      "8\n",
      "9\n",
      "10\n"
     ]
    }
   ],
   "source": [
    "# If you insist to use continue to do that. You still have to place\n",
    "# the adder (x = x + 1) before the continue, otherwise it will fall\n",
    "# into infinite loop. Since the adder is also before the `print` function,\n",
    "# a better way to do that is to print x - 1. You also need to adjust the\n",
    "# if statement to stop when x is 8 (where 8 - 1 = 7 would be printed\n",
    "# without `continue`)\n",
    "\n",
    "x = 0\n",
    "while x <= 10:\n",
    "    x = x + 1\n",
    "    if x == 8:\n",
    "        continue\n",
    "    print(x - 1)\n",
    "    "
   ]
  },
  {
   "cell_type": "markdown",
   "metadata": {},
   "source": [
    "#### Challenge - Find the ORFs\n",
    "\n",
    "Below is a DNA sequence without intron and there are 3 open reading frames in it. (As you can see, the start codon of these 3 ORFs are labeled in bold text)\n",
    "\n",
    "---\n",
    "dna = CC**ATG**CGGTG**ATG**CCACTAGGCG**ATG**TATAACTGATTAAAA\n",
    "\n",
    "---\n",
    "\n",
    "Can you use the skills we learned so far to write a codes that print out all the ORFs?\n",
    "\n",
    "You might also need to detect the stop codon TAA, TAG and TGA. Here I'll provide a hint for that since I didn't really covered this part in the class.\n",
    "\n",
    "You can use `in` to check whether a value is contained in an iterable. So one way to detect the stop codon is:\n",
    "```\n",
    "if codon in [\"TTA\", \"TAG\", \"TGA\"]:\n",
    "    do something\n",
    "```\n",
    "where codon is a 3-character string.\n",
    "\n",
    "The expected output is:<br>\n",
    "ATGCGG<br>\n",
    "ATGCCACTAGGCGATGTA<br>\n",
    "ATGTATTAC<br>"
   ]
  },
  {
   "cell_type": "code",
   "execution_count": null,
   "metadata": {},
   "outputs": [],
   "source": [
    "dna = \"CCATGCGGTGATGCCACTAGGCGATGTATTACTGATTAAAA\""
   ]
  }
 ],
 "metadata": {
  "kernelspec": {
   "display_name": "Python 3 (ipykernel)",
   "language": "python",
   "name": "python3"
  },
  "language_info": {
   "codemirror_mode": {
    "name": "ipython",
    "version": 3
   },
   "file_extension": ".py",
   "mimetype": "text/x-python",
   "name": "python",
   "nbconvert_exporter": "python",
   "pygments_lexer": "ipython3",
   "version": "3.9.7"
  }
 },
 "nbformat": 4,
 "nbformat_minor": 4
}
