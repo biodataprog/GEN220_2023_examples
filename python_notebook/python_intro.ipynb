{
 "cells": [
  {
   "cell_type": "code",
   "execution_count": 7,
   "id": "f90d9c0d-1b7c-4b4e-8c81-aaf0254e3da3",
   "metadata": {},
   "outputs": [
    {
     "name": "stdout",
     "output_type": "stream",
     "text": [
      "Hello World!\n",
      "I'm doing great!\n"
     ]
    }
   ],
   "source": [
    "print(\"Hello World!\")\n",
    "print(\"I'm doing great!\")"
   ]
  },
  {
   "cell_type": "code",
   "execution_count": 8,
   "id": "8b8ef3fe-2a4d-48ad-8b32-8fe24b220b50",
   "metadata": {},
   "outputs": [
    {
     "data": {
      "text/plain": [
       "3.3333333333333335"
      ]
     },
     "execution_count": 8,
     "metadata": {},
     "output_type": "execute_result"
    }
   ],
   "source": [
    "10 / 3"
   ]
  },
  {
   "cell_type": "code",
   "execution_count": 9,
   "id": "c3bbc5f4-93aa-4c9a-b92e-af7bcc10b114",
   "metadata": {},
   "outputs": [
    {
     "data": {
      "text/plain": [
       "3"
      ]
     },
     "execution_count": 9,
     "metadata": {},
     "output_type": "execute_result"
    }
   ],
   "source": [
    "int(10/3)"
   ]
  },
  {
   "cell_type": "code",
   "execution_count": 10,
   "id": "4fc20fae-e06b-4d1b-aab5-2d380ff7773b",
   "metadata": {},
   "outputs": [
    {
     "data": {
      "text/plain": [
       "1"
      ]
     },
     "execution_count": 10,
     "metadata": {},
     "output_type": "execute_result"
    }
   ],
   "source": [
    "10 % 3"
   ]
  },
  {
   "cell_type": "code",
   "execution_count": 11,
   "id": "c0bd4cb2-9af4-4a0c-89e1-b38670f70a75",
   "metadata": {},
   "outputs": [
    {
     "data": {
      "text/plain": [
       "1000000"
      ]
     },
     "execution_count": 11,
     "metadata": {},
     "output_type": "execute_result"
    }
   ],
   "source": [
    "10**6"
   ]
  },
  {
   "cell_type": "code",
   "execution_count": 12,
   "id": "8657853e-8e59-463e-83a7-cec0ee057a19",
   "metadata": {},
   "outputs": [
    {
     "data": {
      "text/plain": [
       "60"
      ]
     },
     "execution_count": 12,
     "metadata": {},
     "output_type": "execute_result"
    }
   ],
   "source": [
    "10*6"
   ]
  },
  {
   "cell_type": "code",
   "execution_count": 13,
   "id": "b600becc-8337-46a6-959b-4f11a1bc1f3a",
   "metadata": {},
   "outputs": [
    {
     "data": {
      "text/plain": [
       "22"
      ]
     },
     "execution_count": 13,
     "metadata": {},
     "output_type": "execute_result"
    }
   ],
   "source": [
    "(10+1)*2"
   ]
  },
  {
   "cell_type": "code",
   "execution_count": 14,
   "id": "ee60225e-94b8-46be-af92-f8549ffca71f",
   "metadata": {},
   "outputs": [
    {
     "data": {
      "text/plain": [
       "12"
      ]
     },
     "execution_count": 14,
     "metadata": {},
     "output_type": "execute_result"
    }
   ],
   "source": [
    "10+1*2"
   ]
  },
  {
   "cell_type": "code",
   "execution_count": 15,
   "id": "7fd6d2ff-05e1-4dd2-bb21-258c7727852b",
   "metadata": {},
   "outputs": [
    {
     "data": {
      "text/plain": [
       "\"don't break dance\""
      ]
     },
     "execution_count": 15,
     "metadata": {},
     "output_type": "execute_result"
    }
   ],
   "source": [
    "'don\\'t break dance'"
   ]
  },
  {
   "cell_type": "code",
   "execution_count": 16,
   "id": "fc7fe937-8f39-4c5d-a370-44fe278b0eed",
   "metadata": {},
   "outputs": [
    {
     "name": "stdout",
     "output_type": "stream",
     "text": [
      "don't break dance\n"
     ]
    }
   ],
   "source": [
    "print('don\\'t break dance')"
   ]
  },
  {
   "cell_type": "code",
   "execution_count": 17,
   "id": "49cbfb69-7312-4bb6-88b4-a4b1989cf730",
   "metadata": {},
   "outputs": [
    {
     "name": "stdout",
     "output_type": "stream",
     "text": [
      "hello\tthere\n",
      "my old friend.\n"
     ]
    }
   ],
   "source": [
    "print(\"hello\\tthere\\nmy old friend.\")"
   ]
  },
  {
   "cell_type": "code",
   "execution_count": 18,
   "id": "005b6e0a-099f-4a82-ad99-61c436c9d89b",
   "metadata": {},
   "outputs": [
    {
     "name": "stdout",
     "output_type": "stream",
     "text": [
      "hello\tthere\n",
      "my old friend.\n"
     ]
    }
   ],
   "source": [
    "print('hello\\tthere\\nmy old friend.')"
   ]
  },
  {
   "cell_type": "code",
   "execution_count": 19,
   "id": "d749b8dc-19af-4eb7-8838-dbfd6e69d3a0",
   "metadata": {},
   "outputs": [
    {
     "data": {
      "text/plain": [
       "'concatenate these together'"
      ]
     },
     "execution_count": 19,
     "metadata": {},
     "output_type": "execute_result"
    }
   ],
   "source": [
    "('concatenate ' 'these ' 'together')"
   ]
  },
  {
   "cell_type": "code",
   "execution_count": 22,
   "id": "1390e27e-237c-4095-a546-3e72a44b576a",
   "metadata": {},
   "outputs": [
    {
     "name": "stdout",
     "output_type": "stream",
     "text": [
      "m is\" concatenate these together \"\n"
     ]
    }
   ],
   "source": [
    "m=('concatenate ' 'these ' 'together')\n",
    "print('m is\"', m,'\"')"
   ]
  },
  {
   "cell_type": "code",
   "execution_count": 28,
   "id": "a7c452f7-6e7e-4459-a4cc-bcd5c51adee8",
   "metadata": {},
   "outputs": [
    {
     "name": "stdout",
     "output_type": "stream",
     "text": [
      "1\n"
     ]
    }
   ],
   "source": [
    "d=0+1\n",
    "print(d)"
   ]
  },
  {
   "cell_type": "code",
   "execution_count": 29,
   "id": "f26158c0-7c17-4c81-b44a-af7ff058afe4",
   "metadata": {},
   "outputs": [
    {
     "name": "stdout",
     "output_type": "stream",
     "text": [
      "0\n",
      "1\n",
      "51\n"
     ]
    }
   ],
   "source": [
    "d=0\n",
    "print(d)\n",
    "d+=1\n",
    "print(d)\n",
    "d+=50\n",
    "print(d)"
   ]
  },
  {
   "cell_type": "code",
   "execution_count": 34,
   "id": "1e23eafc-9750-4ce5-a66f-0626abe77fe8",
   "metadata": {},
   "outputs": [
    {
     "name": "stdout",
     "output_type": "stream",
     "text": [
      "44\n",
      "11.0\n"
     ]
    }
   ],
   "source": [
    "d=51\n",
    "d-=7\n",
    "print(d)\n",
    "d/=4\n",
    "print(d)"
   ]
  },
  {
   "cell_type": "code",
   "execution_count": 38,
   "id": "22d54731-9c22-4f38-a4b3-c39ffb3abe37",
   "metadata": {},
   "outputs": [
    {
     "name": "stdout",
     "output_type": "stream",
     "text": [
      "8\n",
      "7\n"
     ]
    }
   ],
   "source": [
    "str = \"Jumping cow over the moon\"\n",
    "print(str.find(\"cow\"))\n",
    "str = \"Jumpingcow is over the moon\"\n",
    "print(str.find(\"cow\"))"
   ]
  },
  {
   "cell_type": "code",
   "execution_count": 42,
   "id": "e2fa5da9-9f6b-40b7-9555-4bf09e844b1a",
   "metadata": {},
   "outputs": [
    {
     "name": "stdout",
     "output_type": "stream",
     "text": [
      "24\n",
      "-1\n"
     ]
    }
   ],
   "source": [
    "print(str.find(\"o\",15))\n",
    "print(str.find('A'))"
   ]
  },
  {
   "cell_type": "code",
   "execution_count": 48,
   "id": "7f5a4efd-a003-4d74-9490-b45b92037d9f",
   "metadata": {},
   "outputs": [
    {
     "name": "stdout",
     "output_type": "stream",
     "text": [
      "['Jumpingcow', 'over', 'the', 'moon']\n",
      "['Jumpingcow', 'over', 'the', 'moon']\n",
      "['Jumping', 'cow', 'over', 'the', 'moon']\n",
      "['1.03', '-5']\n"
     ]
    }
   ],
   "source": [
    "str = \"Jumpingcow over the moon\"\n",
    "stringlist = str.split(\" \")\n",
    "print(stringlist)\n",
    "str = \"Jumping cow over the moon\"\n",
    "print(stringlist)\n",
    "stringlist = str.split(\" \")\n",
    "print(stringlist)\n",
    "\n"
   ]
  },
  {
   "cell_type": "code",
   "execution_count": 49,
   "id": "5272f081-f5d2-46e0-a890-fb3e5c79c51d",
   "metadata": {},
   "outputs": [
    {
     "name": "stdout",
     "output_type": "stream",
     "text": [
      "['1.03', '-5']\n"
     ]
    }
   ],
   "source": [
    "evalue=\"1.03e-5\"\n",
    "evaluelist=evalue.split(\"e\")\n",
    "print(evaluelist)"
   ]
  },
  {
   "cell_type": "code",
   "execution_count": 62,
   "id": "c0aae66c-dda4-4753-8905-f3bd3d2bf757",
   "metadata": {},
   "outputs": [
    {
     "name": "stdout",
     "output_type": "stream",
     "text": [
      "0\n",
      "6\n",
      "AGTAATAGT\n"
     ]
    }
   ],
   "source": [
    "cds=\"AGTAATAGTAGATG\"\n",
    "first=cds.find(\"AGT\")\n",
    "second=cds.find(\"AGT\",first+3)\n",
    "print(first)\n",
    "print(second)\n",
    "print(cds[first:second+3])\n"
   ]
  },
  {
   "cell_type": "code",
   "execution_count": 86,
   "id": "f0161841-01b5-42c7-8a52-d7a5b95ee58c",
   "metadata": {},
   "outputs": [
    {
     "name": "stdout",
     "output_type": "stream",
     "text": [
      "['Chr1', 'Chr10', 'Chr11', 'Chr2']\n",
      "len of Chr is  3\n",
      "Chr1\n",
      "1\n",
      "Chr2\n",
      "2\n",
      "Chr11\n",
      "11\n",
      "Chr10\n",
      "10\n",
      "[1, 2, 11, 10]\n",
      "[1, 2, 10, 11]\n",
      "[1, 2, 11, 10]\n",
      "[1, 2, 10, 11]\n"
     ]
    }
   ],
   "source": [
    "chroms=(\"Chr1\",\"Chr2\",\"Chr11\",\"Chr10\")\n",
    "print(sorted(chroms))\n",
    "fixedchroms = []\n",
    "print(\"len of Chr is \",len(\"Chr\"))\n",
    "for chr in chroms:\n",
    "    print(chr)\n",
    "    newchrom = chr[len(\"Chr\"):]\n",
    "    print(newchrom)\n",
    "    fixedchroms.append(int(newchrom))\n",
    "print(fixedchroms)\n",
    "print(sorted(fixedchroms))\n",
    "print(fixedchroms)\n",
    "fixedchroms.sort()\n",
    "print(fixedchroms)"
   ]
  },
  {
   "cell_type": "code",
   "execution_count": 76,
   "id": "c64cad43-9b92-4991-ab05-f7f8977dc028",
   "metadata": {},
   "outputs": [
    {
     "name": "stdout",
     "output_type": "stream",
     "text": [
      "[3, 5]\n"
     ]
    }
   ],
   "source": [
    "l = [ 2, 3, 5]\n",
    "print(l[1:10])"
   ]
  },
  {
   "cell_type": "code",
   "execution_count": 81,
   "id": "8593f0b4-b068-4309-990f-474a58b19046",
   "metadata": {},
   "outputs": [
    {
     "name": "stdout",
     "output_type": "stream",
     "text": [
      "[10, 20, 30]\n",
      "[10, 20, 30, 50]\n",
      "list length is  4\n",
      "[10, 20, 30, 50, [100, 300, 400]]\n",
      "list length is  5\n",
      "[10, 20, 30, 50, [100, 300, 400], 600, 900]\n",
      "list length is  7\n"
     ]
    }
   ],
   "source": [
    "onelist = [10,20,30]\n",
    "secondlist = [100,300,400]\n",
    "thirdlist = [600,900]\n",
    "\n",
    "print(onelist)\n",
    "onelist.append(50)\n",
    "print(onelist)\n",
    "print('list length is ',len(onelist))\n",
    "onelist.append(secondlist)\n",
    "print(onelist)\n",
    "print('list length is ',len(onelist))\n",
    "onelist.extend(thirdlist)\n",
    "print(onelist)\n",
    "print('list length is ',len(onelist))\n"
   ]
  },
  {
   "cell_type": "code",
   "execution_count": 84,
   "id": "ac669ea7-edf5-43c3-b546-21301101c58d",
   "metadata": {},
   "outputs": [
    {
     "name": "stdout",
     "output_type": "stream",
     "text": [
      "210 is sum of list\n",
      "6 is len of list\n",
      "35.0 is mean of list\n",
      "[10, 20, 30, 40, 50, 60]\n"
     ]
    }
   ],
   "source": [
    "onelist = [10,20,30,40,50,60]\n",
    "print(sum(onelist),\"is sum of list\")\n",
    "print(len(onelist),\"is len of list\")\n",
    "print(sum(onelist)/len(onelist),\"is mean of list\")\n",
    "\n",
    "print(onelist)"
   ]
  },
  {
   "cell_type": "code",
   "execution_count": 88,
   "id": "41536f79-86b6-40d0-b407-ab4888b53fbe",
   "metadata": {},
   "outputs": [
    {
     "name": "stdout",
     "output_type": "stream",
     "text": [
      "['apple', 'fz', 'no', 'zf']\n",
      "['13', 'apple', 'fz', 'no', 'zf']\n"
     ]
    }
   ],
   "source": [
    "ls = ['zf','fz','no','apple']\n",
    "ls.sort()\n",
    "print(ls)\n",
    "ls.append('13')\n",
    "print(sorted(ls))"
   ]
  },
  {
   "cell_type": "code",
   "execution_count": 89,
   "id": "fcb0564e-e8cc-4899-be6f-1bb474b75bda",
   "metadata": {},
   "outputs": [
    {
     "name": "stdout",
     "output_type": "stream",
     "text": [
      "Do you want to volunteer for the mosquito trial?:  No No No No No No No No No No \n"
     ]
    }
   ],
   "source": [
    "print(\"Do you want to volunteer for the mosquito trial?: \", \"No \"*10)"
   ]
  },
  {
   "cell_type": "code",
   "execution_count": 90,
   "id": "409fa4c0-212b-42c0-8798-e8bc3a39597c",
   "metadata": {},
   "outputs": [
    {
     "data": {
      "text/plain": [
       "'NNNNNNNNNNNNNNNNNNNNNNNNNNNNNNNNNNNNNNNNNNNNNNNNNN'"
      ]
     },
     "execution_count": 90,
     "metadata": {},
     "output_type": "execute_result"
    }
   ],
   "source": [
    "'N'*50\n"
   ]
  },
  {
   "cell_type": "code",
   "execution_count": 94,
   "id": "12f80271-b359-4ef9-a860-0f37859147d7",
   "metadata": {},
   "outputs": [
    {
     "name": "stdout",
     "output_type": "stream",
     "text": [
      "decimalvalue is  10\n"
     ]
    }
   ],
   "source": [
    "decimalvalue=10\n",
    "print('decimalvalue is ',decimalvalue)"
   ]
  },
  {
   "cell_type": "code",
   "execution_count": 96,
   "id": "5a50b2cd-d228-4503-b059-968b538226dd",
   "metadata": {},
   "outputs": [
    {
     "name": "stdout",
     "output_type": "stream",
     "text": [
      "decimalvalue is 10 list ls len is 5\n"
     ]
    }
   ],
   "source": [
    "print('decimalvalue is %d list ls len is %d'%(decimalvalue,len(ls)))"
   ]
  },
  {
   "cell_type": "code",
   "execution_count": 108,
   "id": "62135b52-79f7-4214-99e2-d684a29628c1",
   "metadata": {},
   "outputs": [
    {
     "name": "stdout",
     "output_type": "stream",
     "text": [
      "1.3e-05 is evalue\n",
      "0 is evalue (integer)\n",
      "0.00001 is evalue (integer)\n",
      "1.3e-05 is evalue (integer)\n",
      "1.3e-05 is evalue (integer) hithere is name\n"
     ]
    }
   ],
   "source": [
    "evalue=1.3e-5\n",
    "print(\"%s is evalue\"%(evalue))\n",
    "print(\"%d is evalue (integer)\"%(evalue))\n",
    "print(\"%.5f is evalue (integer)\"%(evalue))\n",
    "print(\"%g is evalue (integer)\"%(evalue))\n",
    "print(\"%g is evalue (integer) %s is name\"%(evalue,'hithere'))"
   ]
  },
  {
   "cell_type": "code",
   "execution_count": 120,
   "id": "ba733161-db11-40d4-88e8-2c73f77d7f22",
   "metadata": {},
   "outputs": [
    {
     "name": "stdout",
     "output_type": "stream",
     "text": [
      "apple      \t  500\n",
      "pear       \t  400\n",
      "grapes     \t  600\n",
      "green onion\t 1100\n"
     ]
    }
   ],
   "source": [
    "fruit=(\"apple\",\"pear\",\"grapes\",\"green onion\")\n",
    "for f in fruit:\n",
    "#    print(f)\n",
    "    print(\"%-11s\\t%5d\"%(f,100*len(f)))"
   ]
  },
  {
   "cell_type": "code",
   "execution_count": 131,
   "id": "28e564ed-b0e6-47a5-8607-39f1ce66c259",
   "metadata": {},
   "outputs": [
    {
     "name": "stdout",
     "output_type": "stream",
     "text": [
      "apple     \t 500\n",
      "pear      \t 400\n",
      "grapes    \t 600\n",
      "green onion\t1100\n"
     ]
    }
   ],
   "source": [
    "fruit=(\"apple\",\"pear\",\"grapes\",\"green onion\")\n",
    "for myfruit in fruit:\n",
    "#    print(f)\n",
    "    print(f\"{myfruit:10}\\t{len(myfruit)*100:4}\")"
   ]
  },
  {
   "cell_type": "code",
   "execution_count": null,
   "id": "b4bff98b-74d4-4711-9616-0814107d0f8b",
   "metadata": {},
   "outputs": [],
   "source": []
  }
 ],
 "metadata": {
  "kernelspec": {
   "display_name": "Python 3 (ipykernel)",
   "language": "python",
   "name": "python3"
  },
  "language_info": {
   "codemirror_mode": {
    "name": "ipython",
    "version": 3
   },
   "file_extension": ".py",
   "mimetype": "text/x-python",
   "name": "python",
   "nbconvert_exporter": "python",
   "pygments_lexer": "ipython3",
   "version": "3.9.7"
  }
 },
 "nbformat": 4,
 "nbformat_minor": 5
}
